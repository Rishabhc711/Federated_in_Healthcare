{
  "nbformat": 4,
  "nbformat_minor": 0,
  "metadata": {
    "colab": {
      "name": "FinalDia7.ipynb",
      "provenance": [],
      "collapsed_sections": [],
      "mount_file_id": "1rRykqGkHAMY107khTaB2usSAlv3ub1xi",
      "authorship_tag": "ABX9TyNq16FMqRs6mH8kuOs9jj6U",
      "include_colab_link": true
    },
    "kernelspec": {
      "name": "python3",
      "display_name": "Python 3"
    },
    "language_info": {
      "name": "python"
    },
    "accelerator": "GPU"
  },
  "cells": [
    {
      "cell_type": "markdown",
      "metadata": {
        "id": "view-in-github",
        "colab_type": "text"
      },
      "source": [
        "<a href=\"https://colab.research.google.com/github/Rishabhc711/Federated_in_Healthcare/blob/main/FinalDia7.ipynb\" target=\"_parent\"><img src=\"https://colab.research.google.com/assets/colab-badge.svg\" alt=\"Open In Colab\"/></a>"
      ]
    },
    {
      "cell_type": "code",
      "metadata": {
        "colab": {
          "base_uri": "https://localhost:8080/"
        },
        "id": "w2H-nL-4w-ce",
        "outputId": "c4df7b29-e6d2-4af9-cb76-843a2a04ae25"
      },
      "source": [
        "import sys\n",
        "import pandas as pd\n",
        "import numpy as np\n",
        "import sklearn\n",
        "import keras\n",
        "import tensorflow as tf\n",
        "\n",
        "print('Python: {}'.format(sys.version))\n",
        "print('Pandas: {}'.format(pd.__version__))\n",
        "print('Numpy: {}'.format(np.__version__))\n",
        "print('Sklearn: {}'.format(sklearn.__version__))\n",
        "print('Keras: {}'.format(keras.__version__))"
      ],
      "execution_count": 2,
      "outputs": [
        {
          "output_type": "stream",
          "text": [
            "Python: 3.7.10 (default, May  3 2021, 02:48:31) \n",
            "[GCC 7.5.0]\n",
            "Pandas: 1.1.5\n",
            "Numpy: 1.19.5\n",
            "Sklearn: 0.22.2.post1\n",
            "Keras: 2.5.0\n"
          ],
          "name": "stdout"
        }
      ]
    },
    {
      "cell_type": "code",
      "metadata": {
        "colab": {
          "base_uri": "https://localhost:8080/",
          "height": 17
        },
        "id": "L4-K4ZbOPkxJ",
        "outputId": "905cd719-f34c-492a-ec81-a87584ae2671"
      },
      "source": [
        "import matplotlib.pyplot as plt\n",
        "import seaborn as sns\n",
        "from IPython.display import display\n",
        "%matplotlib inline\n",
        "\n",
        "import plotly.offline as py\n",
        "import plotly.graph_objs as go\n",
        "import plotly.tools as tls\n",
        "py.init_notebook_mode(connected=True)\n",
        "\n",
        "import warnings\n",
        "warnings.filterwarnings('ignore')"
      ],
      "execution_count": 3,
      "outputs": [
        {
          "output_type": "display_data",
          "data": {
            "text/html": [
              "        <script type=\"text/javascript\">\n",
              "        window.PlotlyConfig = {MathJaxConfig: 'local'};\n",
              "        if (window.MathJax) {MathJax.Hub.Config({SVG: {font: \"STIX-Web\"}});}\n",
              "        if (typeof require !== 'undefined') {\n",
              "        require.undef(\"plotly\");\n",
              "        requirejs.config({\n",
              "            paths: {\n",
              "                'plotly': ['https://cdn.plot.ly/plotly-latest.min']\n",
              "            }\n",
              "        });\n",
              "        require(['plotly'], function(Plotly) {\n",
              "            window._Plotly = Plotly;\n",
              "        });\n",
              "        }\n",
              "        </script>\n",
              "        "
            ]
          },
          "metadata": {
            "tags": []
          }
        }
      ]
    },
    {
      "cell_type": "code",
      "metadata": {
        "id": "wHuCZJMTA2Kt"
      },
      "source": [
        "# Data processing, metrics and modeling\n",
        "from sklearn.preprocessing import StandardScaler, LabelEncoder\n",
        "from sklearn.model_selection import GridSearchCV, cross_val_score, train_test_split, GridSearchCV, RandomizedSearchCV\n",
        "from sklearn.metrics import precision_score, recall_score, confusion_matrix,  roc_curve, precision_recall_curve, accuracy_score, roc_auc_score\n",
        "import lightgbm as lgbm\n",
        "from sklearn.ensemble import VotingClassifier\n",
        "from sklearn.neighbors import KNeighborsClassifier\n",
        "from sklearn.metrics import roc_curve,auc\n",
        "from sklearn.model_selection import KFold\n",
        "from sklearn.model_selection import cross_val_predict\n",
        "from yellowbrick.classifier import DiscriminationThreshold\n",
        "\n",
        "# Stats\n",
        "import scipy.stats as ss\n",
        "from scipy import interp\n",
        "from scipy.stats import randint as sp_randint\n",
        "from scipy.stats import uniform as sp_uniform\n",
        "\n",
        "# Time\n",
        "from contextlib import contextmanager\n",
        "@contextmanager\n",
        "def timer(title):\n",
        "    t0 = time.time()\n",
        "    yield\n",
        "    print(\"{} - done in {:.0f}s\".format(title, time.time() - t0))\n",
        "\n",
        "#ignore warning messages \n",
        "import warnings\n",
        "warnings.filterwarnings('ignore') "
      ],
      "execution_count": 4,
      "outputs": []
    },
    {
      "cell_type": "code",
      "metadata": {
        "id": "FO6abW24P1nM"
      },
      "source": [
        "# Always good to set a seed for reproducibility\n",
        "SEED = 0\n",
        "np.random.seed(SEED)"
      ],
      "execution_count": 5,
      "outputs": []
    },
    {
      "cell_type": "code",
      "metadata": {
        "id": "k19F1nWoOnxn",
        "colab": {
          "base_uri": "https://localhost:8080/"
        },
        "outputId": "231493b9-bdd4-48de-ea79-91949c0d78f5"
      },
      "source": [
        "from google.colab import drive\n",
        "drive.mount('/content/drive')"
      ],
      "execution_count": 7,
      "outputs": [
        {
          "output_type": "stream",
          "text": [
            "Mounted at /content/drive\n"
          ],
          "name": "stdout"
        }
      ]
    },
    {
      "cell_type": "code",
      "metadata": {
        "colab": {
          "base_uri": "https://localhost:8080/",
          "height": 204
        },
        "id": "WmdkpRE45-Kl",
        "outputId": "51f4f786-7006-489e-c00e-c9d49120d4c2"
      },
      "source": [
        "df = pd.read_csv('/content/drive/MyDrive/Datasets/FInal/diabetes/Cleaned_final/7_cleaned - 7.csv')\n",
        "df.head()"
      ],
      "execution_count": 8,
      "outputs": [
        {
          "output_type": "execute_result",
          "data": {
            "text/html": [
              "<div>\n",
              "<style scoped>\n",
              "    .dataframe tbody tr th:only-of-type {\n",
              "        vertical-align: middle;\n",
              "    }\n",
              "\n",
              "    .dataframe tbody tr th {\n",
              "        vertical-align: top;\n",
              "    }\n",
              "\n",
              "    .dataframe thead th {\n",
              "        text-align: right;\n",
              "    }\n",
              "</style>\n",
              "<table border=\"1\" class=\"dataframe\">\n",
              "  <thead>\n",
              "    <tr style=\"text-align: right;\">\n",
              "      <th></th>\n",
              "      <th>Glucose</th>\n",
              "      <th>Age</th>\n",
              "      <th>Sex</th>\n",
              "      <th>BMI</th>\n",
              "      <th>Systolic BP</th>\n",
              "      <th>Diastolic BP</th>\n",
              "      <th>Cholesterol</th>\n",
              "      <th>Outcome</th>\n",
              "      <th>Diabetes</th>\n",
              "      <th>Gender</th>\n",
              "    </tr>\n",
              "  </thead>\n",
              "  <tbody>\n",
              "    <tr>\n",
              "      <th>0</th>\n",
              "      <td>77.0</td>\n",
              "      <td>19.0</td>\n",
              "      <td>0</td>\n",
              "      <td>22.5</td>\n",
              "      <td>118.0</td>\n",
              "      <td>70.0</td>\n",
              "      <td>193.0</td>\n",
              "      <td>0.0</td>\n",
              "      <td>No diabetes</td>\n",
              "      <td>female</td>\n",
              "    </tr>\n",
              "    <tr>\n",
              "      <th>1</th>\n",
              "      <td>79.0</td>\n",
              "      <td>19.0</td>\n",
              "      <td>0</td>\n",
              "      <td>26.4</td>\n",
              "      <td>108.0</td>\n",
              "      <td>58.0</td>\n",
              "      <td>146.0</td>\n",
              "      <td>0.0</td>\n",
              "      <td>No diabetes</td>\n",
              "      <td>female</td>\n",
              "    </tr>\n",
              "    <tr>\n",
              "      <th>2</th>\n",
              "      <td>75.0</td>\n",
              "      <td>20.0</td>\n",
              "      <td>0</td>\n",
              "      <td>29.3</td>\n",
              "      <td>110.0</td>\n",
              "      <td>72.0</td>\n",
              "      <td>217.0</td>\n",
              "      <td>0.0</td>\n",
              "      <td>No diabetes</td>\n",
              "      <td>female</td>\n",
              "    </tr>\n",
              "    <tr>\n",
              "      <th>3</th>\n",
              "      <td>97.0</td>\n",
              "      <td>20.0</td>\n",
              "      <td>0</td>\n",
              "      <td>19.6</td>\n",
              "      <td>122.0</td>\n",
              "      <td>64.0</td>\n",
              "      <td>226.0</td>\n",
              "      <td>0.0</td>\n",
              "      <td>No diabetes</td>\n",
              "      <td>female</td>\n",
              "    </tr>\n",
              "    <tr>\n",
              "      <th>4</th>\n",
              "      <td>91.0</td>\n",
              "      <td>20.0</td>\n",
              "      <td>0</td>\n",
              "      <td>20.2</td>\n",
              "      <td>122.0</td>\n",
              "      <td>86.0</td>\n",
              "      <td>164.0</td>\n",
              "      <td>0.0</td>\n",
              "      <td>No diabetes</td>\n",
              "      <td>female</td>\n",
              "    </tr>\n",
              "  </tbody>\n",
              "</table>\n",
              "</div>"
            ],
            "text/plain": [
              "   Glucose   Age Sex   BMI  ...  Cholesterol  Outcome     Diabetes  Gender\n",
              "0     77.0  19.0   0  22.5  ...        193.0      0.0  No diabetes  female\n",
              "1     79.0  19.0   0  26.4  ...        146.0      0.0  No diabetes  female\n",
              "2     75.0  20.0   0  29.3  ...        217.0      0.0  No diabetes  female\n",
              "3     97.0  20.0   0  19.6  ...        226.0      0.0  No diabetes  female\n",
              "4     91.0  20.0   0  20.2  ...        164.0      0.0  No diabetes  female\n",
              "\n",
              "[5 rows x 10 columns]"
            ]
          },
          "metadata": {
            "tags": []
          },
          "execution_count": 8
        }
      ]
    },
    {
      "cell_type": "code",
      "metadata": {
        "colab": {
          "base_uri": "https://localhost:8080/"
        },
        "id": "qM3DnDW1POCM",
        "outputId": "1d31a367-8c08-4734-b5dd-83bb901161df"
      },
      "source": [
        "df.info()"
      ],
      "execution_count": 9,
      "outputs": [
        {
          "output_type": "stream",
          "text": [
            "<class 'pandas.core.frame.DataFrame'>\n",
            "RangeIndex: 999 entries, 0 to 998\n",
            "Data columns (total 10 columns):\n",
            " #   Column        Non-Null Count  Dtype  \n",
            "---  ------        --------------  -----  \n",
            " 0   Glucose       390 non-null    float64\n",
            " 1   Age           390 non-null    float64\n",
            " 2   Sex           999 non-null    object \n",
            " 3   BMI           390 non-null    float64\n",
            " 4   Systolic BP   390 non-null    float64\n",
            " 5   Diastolic BP  390 non-null    float64\n",
            " 6   Cholesterol   390 non-null    float64\n",
            " 7   Outcome       390 non-null    float64\n",
            " 8   Diabetes      390 non-null    object \n",
            " 9   Gender        390 non-null    object \n",
            "dtypes: float64(7), object(3)\n",
            "memory usage: 78.2+ KB\n"
          ],
          "name": "stdout"
        }
      ]
    },
    {
      "cell_type": "code",
      "metadata": {
        "colab": {
          "base_uri": "https://localhost:8080/",
          "height": 419
        },
        "id": "O8qi9D3fOmg7",
        "outputId": "9d31b152-0ebc-4b34-bf39-3dc79476b66b"
      },
      "source": [
        "df[389:]\n",
        "#df.drop(15251,axis=0,inplace=True) "
      ],
      "execution_count": 10,
      "outputs": [
        {
          "output_type": "execute_result",
          "data": {
            "text/html": [
              "<div>\n",
              "<style scoped>\n",
              "    .dataframe tbody tr th:only-of-type {\n",
              "        vertical-align: middle;\n",
              "    }\n",
              "\n",
              "    .dataframe tbody tr th {\n",
              "        vertical-align: top;\n",
              "    }\n",
              "\n",
              "    .dataframe thead th {\n",
              "        text-align: right;\n",
              "    }\n",
              "</style>\n",
              "<table border=\"1\" class=\"dataframe\">\n",
              "  <thead>\n",
              "    <tr style=\"text-align: right;\">\n",
              "      <th></th>\n",
              "      <th>Glucose</th>\n",
              "      <th>Age</th>\n",
              "      <th>Sex</th>\n",
              "      <th>BMI</th>\n",
              "      <th>Systolic BP</th>\n",
              "      <th>Diastolic BP</th>\n",
              "      <th>Cholesterol</th>\n",
              "      <th>Outcome</th>\n",
              "      <th>Diabetes</th>\n",
              "      <th>Gender</th>\n",
              "    </tr>\n",
              "  </thead>\n",
              "  <tbody>\n",
              "    <tr>\n",
              "      <th>389</th>\n",
              "      <td>94.0</td>\n",
              "      <td>92.0</td>\n",
              "      <td>0</td>\n",
              "      <td>39.7</td>\n",
              "      <td>160.0</td>\n",
              "      <td>82.0</td>\n",
              "      <td>165.0</td>\n",
              "      <td>0.0</td>\n",
              "      <td>No diabetes</td>\n",
              "      <td>female</td>\n",
              "    </tr>\n",
              "    <tr>\n",
              "      <th>390</th>\n",
              "      <td>NaN</td>\n",
              "      <td>NaN</td>\n",
              "      <td></td>\n",
              "      <td>NaN</td>\n",
              "      <td>NaN</td>\n",
              "      <td>NaN</td>\n",
              "      <td>NaN</td>\n",
              "      <td>NaN</td>\n",
              "      <td>NaN</td>\n",
              "      <td>NaN</td>\n",
              "    </tr>\n",
              "    <tr>\n",
              "      <th>391</th>\n",
              "      <td>NaN</td>\n",
              "      <td>NaN</td>\n",
              "      <td></td>\n",
              "      <td>NaN</td>\n",
              "      <td>NaN</td>\n",
              "      <td>NaN</td>\n",
              "      <td>NaN</td>\n",
              "      <td>NaN</td>\n",
              "      <td>NaN</td>\n",
              "      <td>NaN</td>\n",
              "    </tr>\n",
              "    <tr>\n",
              "      <th>392</th>\n",
              "      <td>NaN</td>\n",
              "      <td>NaN</td>\n",
              "      <td></td>\n",
              "      <td>NaN</td>\n",
              "      <td>NaN</td>\n",
              "      <td>NaN</td>\n",
              "      <td>NaN</td>\n",
              "      <td>NaN</td>\n",
              "      <td>NaN</td>\n",
              "      <td>NaN</td>\n",
              "    </tr>\n",
              "    <tr>\n",
              "      <th>393</th>\n",
              "      <td>NaN</td>\n",
              "      <td>NaN</td>\n",
              "      <td></td>\n",
              "      <td>NaN</td>\n",
              "      <td>NaN</td>\n",
              "      <td>NaN</td>\n",
              "      <td>NaN</td>\n",
              "      <td>NaN</td>\n",
              "      <td>NaN</td>\n",
              "      <td>NaN</td>\n",
              "    </tr>\n",
              "    <tr>\n",
              "      <th>...</th>\n",
              "      <td>...</td>\n",
              "      <td>...</td>\n",
              "      <td>...</td>\n",
              "      <td>...</td>\n",
              "      <td>...</td>\n",
              "      <td>...</td>\n",
              "      <td>...</td>\n",
              "      <td>...</td>\n",
              "      <td>...</td>\n",
              "      <td>...</td>\n",
              "    </tr>\n",
              "    <tr>\n",
              "      <th>994</th>\n",
              "      <td>NaN</td>\n",
              "      <td>NaN</td>\n",
              "      <td></td>\n",
              "      <td>NaN</td>\n",
              "      <td>NaN</td>\n",
              "      <td>NaN</td>\n",
              "      <td>NaN</td>\n",
              "      <td>NaN</td>\n",
              "      <td>NaN</td>\n",
              "      <td>NaN</td>\n",
              "    </tr>\n",
              "    <tr>\n",
              "      <th>995</th>\n",
              "      <td>NaN</td>\n",
              "      <td>NaN</td>\n",
              "      <td></td>\n",
              "      <td>NaN</td>\n",
              "      <td>NaN</td>\n",
              "      <td>NaN</td>\n",
              "      <td>NaN</td>\n",
              "      <td>NaN</td>\n",
              "      <td>NaN</td>\n",
              "      <td>NaN</td>\n",
              "    </tr>\n",
              "    <tr>\n",
              "      <th>996</th>\n",
              "      <td>NaN</td>\n",
              "      <td>NaN</td>\n",
              "      <td></td>\n",
              "      <td>NaN</td>\n",
              "      <td>NaN</td>\n",
              "      <td>NaN</td>\n",
              "      <td>NaN</td>\n",
              "      <td>NaN</td>\n",
              "      <td>NaN</td>\n",
              "      <td>NaN</td>\n",
              "    </tr>\n",
              "    <tr>\n",
              "      <th>997</th>\n",
              "      <td>NaN</td>\n",
              "      <td>NaN</td>\n",
              "      <td></td>\n",
              "      <td>NaN</td>\n",
              "      <td>NaN</td>\n",
              "      <td>NaN</td>\n",
              "      <td>NaN</td>\n",
              "      <td>NaN</td>\n",
              "      <td>NaN</td>\n",
              "      <td>NaN</td>\n",
              "    </tr>\n",
              "    <tr>\n",
              "      <th>998</th>\n",
              "      <td>NaN</td>\n",
              "      <td>NaN</td>\n",
              "      <td></td>\n",
              "      <td>NaN</td>\n",
              "      <td>NaN</td>\n",
              "      <td>NaN</td>\n",
              "      <td>NaN</td>\n",
              "      <td>NaN</td>\n",
              "      <td>NaN</td>\n",
              "      <td>NaN</td>\n",
              "    </tr>\n",
              "  </tbody>\n",
              "</table>\n",
              "<p>610 rows × 10 columns</p>\n",
              "</div>"
            ],
            "text/plain": [
              "     Glucose   Age Sex   BMI  ...  Cholesterol  Outcome     Diabetes  Gender\n",
              "389     94.0  92.0   0  39.7  ...        165.0      0.0  No diabetes  female\n",
              "390      NaN   NaN       NaN  ...          NaN      NaN          NaN     NaN\n",
              "391      NaN   NaN       NaN  ...          NaN      NaN          NaN     NaN\n",
              "392      NaN   NaN       NaN  ...          NaN      NaN          NaN     NaN\n",
              "393      NaN   NaN       NaN  ...          NaN      NaN          NaN     NaN\n",
              "..       ...   ...  ..   ...  ...          ...      ...          ...     ...\n",
              "994      NaN   NaN       NaN  ...          NaN      NaN          NaN     NaN\n",
              "995      NaN   NaN       NaN  ...          NaN      NaN          NaN     NaN\n",
              "996      NaN   NaN       NaN  ...          NaN      NaN          NaN     NaN\n",
              "997      NaN   NaN       NaN  ...          NaN      NaN          NaN     NaN\n",
              "998      NaN   NaN       NaN  ...          NaN      NaN          NaN     NaN\n",
              "\n",
              "[610 rows x 10 columns]"
            ]
          },
          "metadata": {
            "tags": []
          },
          "execution_count": 10
        }
      ]
    },
    {
      "cell_type": "code",
      "metadata": {
        "id": "QIRE5lYEMSJK"
      },
      "source": [
        "for i in range(390,999):\n",
        "  df.drop(i,axis=0,inplace=True) \n",
        " \n",
        "\n",
        "\n",
        "df['Systolic BP']=pd.to_numeric(df['Systolic BP'],downcast=\"float\")\n",
        "df['Diastolic BP']=pd.to_numeric(df['Diastolic BP'],downcast=\"float\")\n",
        "df['Outcome']=pd.to_numeric(df['Outcome'],downcast=\"float\")\n",
        "\n",
        "\n"
      ],
      "execution_count": 11,
      "outputs": []
    },
    {
      "cell_type": "code",
      "metadata": {
        "colab": {
          "base_uri": "https://localhost:8080/"
        },
        "id": "SzcJA8ZdQjeP",
        "outputId": "a4c0de83-aa20-437a-b52a-09bb5bdcfe17"
      },
      "source": [
        "df.info()"
      ],
      "execution_count": 12,
      "outputs": [
        {
          "output_type": "stream",
          "text": [
            "<class 'pandas.core.frame.DataFrame'>\n",
            "Int64Index: 390 entries, 0 to 389\n",
            "Data columns (total 10 columns):\n",
            " #   Column        Non-Null Count  Dtype  \n",
            "---  ------        --------------  -----  \n",
            " 0   Glucose       390 non-null    float64\n",
            " 1   Age           390 non-null    float64\n",
            " 2   Sex           390 non-null    object \n",
            " 3   BMI           390 non-null    float64\n",
            " 4   Systolic BP   390 non-null    float32\n",
            " 5   Diastolic BP  390 non-null    float32\n",
            " 6   Cholesterol   390 non-null    float64\n",
            " 7   Outcome       390 non-null    float32\n",
            " 8   Diabetes      390 non-null    object \n",
            " 9   Gender        390 non-null    object \n",
            "dtypes: float32(3), float64(4), object(3)\n",
            "memory usage: 28.9+ KB\n"
          ],
          "name": "stdout"
        }
      ]
    },
    {
      "cell_type": "code",
      "metadata": {
        "colab": {
          "base_uri": "https://localhost:8080/",
          "height": 297
        },
        "id": "bFHoNpmfSXBi",
        "outputId": "55b4dbf9-e200-44b8-90ef-867742f14227"
      },
      "source": [
        "df.describe()"
      ],
      "execution_count": 13,
      "outputs": [
        {
          "output_type": "execute_result",
          "data": {
            "text/html": [
              "<div>\n",
              "<style scoped>\n",
              "    .dataframe tbody tr th:only-of-type {\n",
              "        vertical-align: middle;\n",
              "    }\n",
              "\n",
              "    .dataframe tbody tr th {\n",
              "        vertical-align: top;\n",
              "    }\n",
              "\n",
              "    .dataframe thead th {\n",
              "        text-align: right;\n",
              "    }\n",
              "</style>\n",
              "<table border=\"1\" class=\"dataframe\">\n",
              "  <thead>\n",
              "    <tr style=\"text-align: right;\">\n",
              "      <th></th>\n",
              "      <th>Glucose</th>\n",
              "      <th>Age</th>\n",
              "      <th>BMI</th>\n",
              "      <th>Systolic BP</th>\n",
              "      <th>Diastolic BP</th>\n",
              "      <th>Cholesterol</th>\n",
              "      <th>Outcome</th>\n",
              "    </tr>\n",
              "  </thead>\n",
              "  <tbody>\n",
              "    <tr>\n",
              "      <th>count</th>\n",
              "      <td>390.000000</td>\n",
              "      <td>390.000000</td>\n",
              "      <td>390.000000</td>\n",
              "      <td>390.000000</td>\n",
              "      <td>390.000000</td>\n",
              "      <td>390.000000</td>\n",
              "      <td>390.000000</td>\n",
              "    </tr>\n",
              "    <tr>\n",
              "      <th>mean</th>\n",
              "      <td>107.338462</td>\n",
              "      <td>46.774359</td>\n",
              "      <td>28.775641</td>\n",
              "      <td>137.133331</td>\n",
              "      <td>83.289742</td>\n",
              "      <td>207.230769</td>\n",
              "      <td>0.153846</td>\n",
              "    </tr>\n",
              "    <tr>\n",
              "      <th>std</th>\n",
              "      <td>53.798188</td>\n",
              "      <td>16.435911</td>\n",
              "      <td>6.600915</td>\n",
              "      <td>22.859537</td>\n",
              "      <td>13.498198</td>\n",
              "      <td>44.666005</td>\n",
              "      <td>0.361265</td>\n",
              "    </tr>\n",
              "    <tr>\n",
              "      <th>min</th>\n",
              "      <td>48.000000</td>\n",
              "      <td>19.000000</td>\n",
              "      <td>15.200000</td>\n",
              "      <td>90.000000</td>\n",
              "      <td>48.000000</td>\n",
              "      <td>78.000000</td>\n",
              "      <td>0.000000</td>\n",
              "    </tr>\n",
              "    <tr>\n",
              "      <th>25%</th>\n",
              "      <td>81.000000</td>\n",
              "      <td>34.000000</td>\n",
              "      <td>24.100000</td>\n",
              "      <td>122.000000</td>\n",
              "      <td>75.000000</td>\n",
              "      <td>179.000000</td>\n",
              "      <td>0.000000</td>\n",
              "    </tr>\n",
              "    <tr>\n",
              "      <th>50%</th>\n",
              "      <td>90.000000</td>\n",
              "      <td>44.500000</td>\n",
              "      <td>27.800000</td>\n",
              "      <td>136.000000</td>\n",
              "      <td>82.000000</td>\n",
              "      <td>203.000000</td>\n",
              "      <td>0.000000</td>\n",
              "    </tr>\n",
              "    <tr>\n",
              "      <th>75%</th>\n",
              "      <td>107.750000</td>\n",
              "      <td>60.000000</td>\n",
              "      <td>32.275000</td>\n",
              "      <td>148.000000</td>\n",
              "      <td>90.000000</td>\n",
              "      <td>229.000000</td>\n",
              "      <td>0.000000</td>\n",
              "    </tr>\n",
              "    <tr>\n",
              "      <th>max</th>\n",
              "      <td>385.000000</td>\n",
              "      <td>92.000000</td>\n",
              "      <td>55.800000</td>\n",
              "      <td>250.000000</td>\n",
              "      <td>124.000000</td>\n",
              "      <td>443.000000</td>\n",
              "      <td>1.000000</td>\n",
              "    </tr>\n",
              "  </tbody>\n",
              "</table>\n",
              "</div>"
            ],
            "text/plain": [
              "          Glucose         Age  ...  Cholesterol     Outcome\n",
              "count  390.000000  390.000000  ...   390.000000  390.000000\n",
              "mean   107.338462   46.774359  ...   207.230769    0.153846\n",
              "std     53.798188   16.435911  ...    44.666005    0.361265\n",
              "min     48.000000   19.000000  ...    78.000000    0.000000\n",
              "25%     81.000000   34.000000  ...   179.000000    0.000000\n",
              "50%     90.000000   44.500000  ...   203.000000    0.000000\n",
              "75%    107.750000   60.000000  ...   229.000000    0.000000\n",
              "max    385.000000   92.000000  ...   443.000000    1.000000\n",
              "\n",
              "[8 rows x 7 columns]"
            ]
          },
          "metadata": {
            "tags": []
          },
          "execution_count": 13
        }
      ]
    },
    {
      "cell_type": "code",
      "metadata": {
        "colab": {
          "base_uri": "https://localhost:8080/"
        },
        "id": "taQWi3y6PPDf",
        "outputId": "072db2a6-5973-4cdb-d81c-85a130325005"
      },
      "source": [
        "# Convert dataframe to numpy array\n",
        "dataset = df.values\n",
        "print(dataset.shape)"
      ],
      "execution_count": 14,
      "outputs": [
        {
          "output_type": "stream",
          "text": [
            "(390, 10)\n"
          ],
          "name": "stdout"
        }
      ]
    },
    {
      "cell_type": "code",
      "metadata": {
        "id": "3Wiz4mBz8xT5"
      },
      "source": [
        "# Distribution for federated learning cycles\n",
        "fed_cycle_count=1\n",
        "last=np.int(dataset.shape[0]*(0.8+(0.2*(fed_cycle_count-1))))"
      ],
      "execution_count": 15,
      "outputs": []
    },
    {
      "cell_type": "code",
      "metadata": {
        "id": "uhIoIyJlJSaA"
      },
      "source": [
        "# split into input (X) and an output (Y)\n",
        "X = dataset[:last,0:6]\n",
        "Y = dataset[:last, 6]#.astype(int)"
      ],
      "execution_count": 16,
      "outputs": []
    },
    {
      "cell_type": "code",
      "metadata": {
        "id": "HmW8gHltgaQ7"
      },
      "source": [
        "X=np.asarray(X).astype('float64')\n",
        "Y=np.asarray(Y).astype('float64')"
      ],
      "execution_count": 17,
      "outputs": []
    },
    {
      "cell_type": "code",
      "metadata": {
        "colab": {
          "base_uri": "https://localhost:8080/"
        },
        "id": "xQ-texjzJa5h",
        "outputId": "1d6028c5-b341-4fe5-f300-c5252e791922"
      },
      "source": [
        "print(X.shape)\n",
        "print(Y.shape)"
      ],
      "execution_count": 18,
      "outputs": [
        {
          "output_type": "stream",
          "text": [
            "(312, 6)\n",
            "(312,)\n"
          ],
          "name": "stdout"
        }
      ]
    },
    {
      "cell_type": "code",
      "metadata": {
        "id": "t8KMbhpqJgnw"
      },
      "source": [
        "# Normalize the data using sklearn StandardScaler\n",
        "from sklearn.preprocessing import StandardScaler\n",
        "\n",
        "scaler = StandardScaler().fit(X)"
      ],
      "execution_count": 19,
      "outputs": []
    },
    {
      "cell_type": "code",
      "metadata": {
        "colab": {
          "base_uri": "https://localhost:8080/",
          "height": 297
        },
        "id": "95iHdgJjJkDC",
        "outputId": "074d8329-2021-46c0-9a4f-ed857cb52d18"
      },
      "source": [
        "# Transform and display the training data\n",
        "X_standardized = scaler.transform(X)\n",
        "\n",
        "data = pd.DataFrame(X_standardized)\n",
        "data.describe()"
      ],
      "execution_count": 20,
      "outputs": [
        {
          "output_type": "execute_result",
          "data": {
            "text/html": [
              "<div>\n",
              "<style scoped>\n",
              "    .dataframe tbody tr th:only-of-type {\n",
              "        vertical-align: middle;\n",
              "    }\n",
              "\n",
              "    .dataframe tbody tr th {\n",
              "        vertical-align: top;\n",
              "    }\n",
              "\n",
              "    .dataframe thead th {\n",
              "        text-align: right;\n",
              "    }\n",
              "</style>\n",
              "<table border=\"1\" class=\"dataframe\">\n",
              "  <thead>\n",
              "    <tr style=\"text-align: right;\">\n",
              "      <th></th>\n",
              "      <th>0</th>\n",
              "      <th>1</th>\n",
              "      <th>2</th>\n",
              "      <th>3</th>\n",
              "      <th>4</th>\n",
              "      <th>5</th>\n",
              "    </tr>\n",
              "  </thead>\n",
              "  <tbody>\n",
              "    <tr>\n",
              "      <th>count</th>\n",
              "      <td>3.120000e+02</td>\n",
              "      <td>3.120000e+02</td>\n",
              "      <td>3.120000e+02</td>\n",
              "      <td>3.120000e+02</td>\n",
              "      <td>3.120000e+02</td>\n",
              "      <td>3.120000e+02</td>\n",
              "    </tr>\n",
              "    <tr>\n",
              "      <th>mean</th>\n",
              "      <td>4.839434e-17</td>\n",
              "      <td>9.323027e-16</td>\n",
              "      <td>1.579933e-16</td>\n",
              "      <td>3.238150e-16</td>\n",
              "      <td>-6.917543e-16</td>\n",
              "      <td>-4.088610e-16</td>\n",
              "    </tr>\n",
              "    <tr>\n",
              "      <th>std</th>\n",
              "      <td>1.001606e+00</td>\n",
              "      <td>1.001606e+00</td>\n",
              "      <td>1.001606e+00</td>\n",
              "      <td>1.001606e+00</td>\n",
              "      <td>1.001606e+00</td>\n",
              "      <td>1.001606e+00</td>\n",
              "    </tr>\n",
              "    <tr>\n",
              "      <th>min</th>\n",
              "      <td>-1.111526e+00</td>\n",
              "      <td>-1.830622e+00</td>\n",
              "      <td>-8.121419e-01</td>\n",
              "      <td>-1.999669e+00</td>\n",
              "      <td>-2.137144e+00</td>\n",
              "      <td>-2.640747e+00</td>\n",
              "    </tr>\n",
              "    <tr>\n",
              "      <th>25%</th>\n",
              "      <td>-4.702836e-01</td>\n",
              "      <td>-8.191331e-01</td>\n",
              "      <td>-8.121419e-01</td>\n",
              "      <td>-6.940303e-01</td>\n",
              "      <td>-6.667184e-01</td>\n",
              "      <td>-6.281122e-01</td>\n",
              "    </tr>\n",
              "    <tr>\n",
              "      <th>50%</th>\n",
              "      <td>-3.238580e-01</td>\n",
              "      <td>-6.051643e-02</td>\n",
              "      <td>-8.121419e-01</td>\n",
              "      <td>-1.680969e-01</td>\n",
              "      <td>-1.030554e-01</td>\n",
              "      <td>-1.063180e-01</td>\n",
              "    </tr>\n",
              "    <tr>\n",
              "      <th>75%</th>\n",
              "      <td>-2.090868e-02</td>\n",
              "      <td>7.823910e-01</td>\n",
              "      <td>1.231312e+00</td>\n",
              "      <td>5.637965e-01</td>\n",
              "      <td>4.115934e-01</td>\n",
              "      <td>6.391024e-01</td>\n",
              "    </tr>\n",
              "    <tr>\n",
              "      <th>max</th>\n",
              "      <td>5.694736e+00</td>\n",
              "      <td>1.793880e+00</td>\n",
              "      <td>1.231312e+00</td>\n",
              "      <td>3.973169e+00</td>\n",
              "      <td>4.724841e+00</td>\n",
              "      <td>3.024447e+00</td>\n",
              "    </tr>\n",
              "  </tbody>\n",
              "</table>\n",
              "</div>"
            ],
            "text/plain": [
              "                  0             1  ...             4             5\n",
              "count  3.120000e+02  3.120000e+02  ...  3.120000e+02  3.120000e+02\n",
              "mean   4.839434e-17  9.323027e-16  ... -6.917543e-16 -4.088610e-16\n",
              "std    1.001606e+00  1.001606e+00  ...  1.001606e+00  1.001606e+00\n",
              "min   -1.111526e+00 -1.830622e+00  ... -2.137144e+00 -2.640747e+00\n",
              "25%   -4.702836e-01 -8.191331e-01  ... -6.667184e-01 -6.281122e-01\n",
              "50%   -3.238580e-01 -6.051643e-02  ... -1.030554e-01 -1.063180e-01\n",
              "75%   -2.090868e-02  7.823910e-01  ...  4.115934e-01  6.391024e-01\n",
              "max    5.694736e+00  1.793880e+00  ...  4.724841e+00  3.024447e+00\n",
              "\n",
              "[8 rows x 6 columns]"
            ]
          },
          "metadata": {
            "tags": []
          },
          "execution_count": 20
        }
      ]
    },
    {
      "cell_type": "code",
      "metadata": {
        "id": "CcVSwQusd9Iq"
      },
      "source": [
        "# import necessary sklearn and keras packages\n",
        "from sklearn.model_selection import GridSearchCV, KFold\n",
        "from keras.models import Sequential\n",
        "from keras.layers import Dense\n",
        "from keras.wrappers.scikit_learn import KerasClassifier\n",
        "from keras.optimizers import Adam\n",
        "\n",
        "# Do a grid search for the optimal batch size and number of epochs\n",
        "# import necessary packages\n",
        "from sklearn.model_selection import GridSearchCV\n",
        "from sklearn.model_selection import KFold\n",
        "from keras.models import Sequential\n",
        "from keras.layers import Dense\n",
        "from keras.wrappers.scikit_learn import KerasClassifier\n",
        "from keras.optimizers import Adam\n",
        "from keras.callbacks import ModelCheckpoint"
      ],
      "execution_count": 21,
      "outputs": []
    },
    {
      "cell_type": "code",
      "metadata": {
        "colab": {
          "base_uri": "https://localhost:8080/"
        },
        "id": "baTrdpoJJCKr",
        "outputId": "8a57b8c7-abc3-4730-bc7e-b162488e8944"
      },
      "source": [
        "model= tf.keras.models.load_model('/content/drive/MyDrive/saved_model/my_model1')"
      ],
      "execution_count": null,
      "outputs": [
        {
          "output_type": "stream",
          "text": [
            "WARNING:tensorflow:SavedModel saved prior to TF 2.5 detected when loading Keras model. Please ensure that you are saving the model with model.save() or tf.keras.models.save_model(), *NOT* tf.saved_model.save(). To confirm, there should be a file named \"keras_metadata.pb\" in the SavedModel directory.\n"
          ],
          "name": "stdout"
        }
      ]
    },
    {
      "cell_type": "code",
      "metadata": {
        "colab": {
          "base_uri": "https://localhost:8080/",
          "height": 307
        },
        "id": "ggo3ZLmr_Q28",
        "outputId": "fd5c72f4-2ace-4940-8272-7721cfcd6152"
      },
      "source": [
        "model.load_weights(\"/content/drive/MyDrive/weights1.h5\")"
      ],
      "execution_count": null,
      "outputs": [
        {
          "output_type": "error",
          "ename": "ValueError",
          "evalue": "ignored",
          "traceback": [
            "\u001b[0;31m---------------------------------------------------------------------------\u001b[0m",
            "\u001b[0;31mValueError\u001b[0m                                Traceback (most recent call last)",
            "\u001b[0;32m<ipython-input-20-e41eccc86dae>\u001b[0m in \u001b[0;36m<module>\u001b[0;34m()\u001b[0m\n\u001b[0;32m----> 1\u001b[0;31m \u001b[0mmodel\u001b[0m\u001b[0;34m.\u001b[0m\u001b[0mload_weights\u001b[0m\u001b[0;34m(\u001b[0m\u001b[0;34m\"/content/drive/MyDrive/weights1.h5\"\u001b[0m\u001b[0;34m)\u001b[0m\u001b[0;34m\u001b[0m\u001b[0;34m\u001b[0m\u001b[0m\n\u001b[0m",
            "\u001b[0;32m/usr/local/lib/python3.7/dist-packages/tensorflow/python/keras/engine/training.py\u001b[0m in \u001b[0;36mload_weights\u001b[0;34m(self, filepath, by_name, skip_mismatch, options)\u001b[0m\n\u001b[1;32m   2324\u001b[0m             f, self.layers, skip_mismatch=skip_mismatch)\n\u001b[1;32m   2325\u001b[0m       \u001b[0;32melse\u001b[0m\u001b[0;34m:\u001b[0m\u001b[0;34m\u001b[0m\u001b[0;34m\u001b[0m\u001b[0m\n\u001b[0;32m-> 2326\u001b[0;31m         \u001b[0mhdf5_format\u001b[0m\u001b[0;34m.\u001b[0m\u001b[0mload_weights_from_hdf5_group\u001b[0m\u001b[0;34m(\u001b[0m\u001b[0mf\u001b[0m\u001b[0;34m,\u001b[0m \u001b[0mself\u001b[0m\u001b[0;34m.\u001b[0m\u001b[0mlayers\u001b[0m\u001b[0;34m)\u001b[0m\u001b[0;34m\u001b[0m\u001b[0;34m\u001b[0m\u001b[0m\n\u001b[0m\u001b[1;32m   2327\u001b[0m \u001b[0;34m\u001b[0m\u001b[0m\n\u001b[1;32m   2328\u001b[0m   \u001b[0;32mdef\u001b[0m \u001b[0m_updated_config\u001b[0m\u001b[0;34m(\u001b[0m\u001b[0mself\u001b[0m\u001b[0;34m)\u001b[0m\u001b[0;34m:\u001b[0m\u001b[0;34m\u001b[0m\u001b[0;34m\u001b[0m\u001b[0m\n",
            "\u001b[0;32m/usr/local/lib/python3.7/dist-packages/tensorflow/python/keras/saving/hdf5_format.py\u001b[0m in \u001b[0;36mload_weights_from_hdf5_group\u001b[0;34m(f, layers)\u001b[0m\n\u001b[1;32m    711\u001b[0m                        str(len(weight_values)) + ' elements.')\n\u001b[1;32m    712\u001b[0m     \u001b[0mweight_value_tuples\u001b[0m \u001b[0;34m+=\u001b[0m \u001b[0mzip\u001b[0m\u001b[0;34m(\u001b[0m\u001b[0msymbolic_weights\u001b[0m\u001b[0;34m,\u001b[0m \u001b[0mweight_values\u001b[0m\u001b[0;34m)\u001b[0m\u001b[0;34m\u001b[0m\u001b[0;34m\u001b[0m\u001b[0m\n\u001b[0;32m--> 713\u001b[0;31m   \u001b[0mbackend\u001b[0m\u001b[0;34m.\u001b[0m\u001b[0mbatch_set_value\u001b[0m\u001b[0;34m(\u001b[0m\u001b[0mweight_value_tuples\u001b[0m\u001b[0;34m)\u001b[0m\u001b[0;34m\u001b[0m\u001b[0;34m\u001b[0m\u001b[0m\n\u001b[0m\u001b[1;32m    714\u001b[0m \u001b[0;34m\u001b[0m\u001b[0m\n\u001b[1;32m    715\u001b[0m \u001b[0;34m\u001b[0m\u001b[0m\n",
            "\u001b[0;32m/usr/local/lib/python3.7/dist-packages/tensorflow/python/util/dispatch.py\u001b[0m in \u001b[0;36mwrapper\u001b[0;34m(*args, **kwargs)\u001b[0m\n\u001b[1;32m    204\u001b[0m     \u001b[0;34m\"\"\"Call target, and fall back on dispatchers if there is a TypeError.\"\"\"\u001b[0m\u001b[0;34m\u001b[0m\u001b[0;34m\u001b[0m\u001b[0m\n\u001b[1;32m    205\u001b[0m     \u001b[0;32mtry\u001b[0m\u001b[0;34m:\u001b[0m\u001b[0;34m\u001b[0m\u001b[0;34m\u001b[0m\u001b[0m\n\u001b[0;32m--> 206\u001b[0;31m       \u001b[0;32mreturn\u001b[0m \u001b[0mtarget\u001b[0m\u001b[0;34m(\u001b[0m\u001b[0;34m*\u001b[0m\u001b[0margs\u001b[0m\u001b[0;34m,\u001b[0m \u001b[0;34m**\u001b[0m\u001b[0mkwargs\u001b[0m\u001b[0;34m)\u001b[0m\u001b[0;34m\u001b[0m\u001b[0;34m\u001b[0m\u001b[0m\n\u001b[0m\u001b[1;32m    207\u001b[0m     \u001b[0;32mexcept\u001b[0m \u001b[0;34m(\u001b[0m\u001b[0mTypeError\u001b[0m\u001b[0;34m,\u001b[0m \u001b[0mValueError\u001b[0m\u001b[0;34m)\u001b[0m\u001b[0;34m:\u001b[0m\u001b[0;34m\u001b[0m\u001b[0;34m\u001b[0m\u001b[0m\n\u001b[1;32m    208\u001b[0m       \u001b[0;31m# Note: convert_to_eager_tensor currently raises a ValueError, not a\u001b[0m\u001b[0;34m\u001b[0m\u001b[0;34m\u001b[0m\u001b[0;34m\u001b[0m\u001b[0m\n",
            "\u001b[0;32m/usr/local/lib/python3.7/dist-packages/tensorflow/python/keras/backend.py\u001b[0m in \u001b[0;36mbatch_set_value\u001b[0;34m(tuples)\u001b[0m\n\u001b[1;32m   3802\u001b[0m   \u001b[0;32mif\u001b[0m \u001b[0mops\u001b[0m\u001b[0;34m.\u001b[0m\u001b[0mexecuting_eagerly_outside_functions\u001b[0m\u001b[0;34m(\u001b[0m\u001b[0;34m)\u001b[0m\u001b[0;34m:\u001b[0m\u001b[0;34m\u001b[0m\u001b[0;34m\u001b[0m\u001b[0m\n\u001b[1;32m   3803\u001b[0m     \u001b[0;32mfor\u001b[0m \u001b[0mx\u001b[0m\u001b[0;34m,\u001b[0m \u001b[0mvalue\u001b[0m \u001b[0;32min\u001b[0m \u001b[0mtuples\u001b[0m\u001b[0;34m:\u001b[0m\u001b[0;34m\u001b[0m\u001b[0;34m\u001b[0m\u001b[0m\n\u001b[0;32m-> 3804\u001b[0;31m       \u001b[0mx\u001b[0m\u001b[0;34m.\u001b[0m\u001b[0massign\u001b[0m\u001b[0;34m(\u001b[0m\u001b[0mnp\u001b[0m\u001b[0;34m.\u001b[0m\u001b[0masarray\u001b[0m\u001b[0;34m(\u001b[0m\u001b[0mvalue\u001b[0m\u001b[0;34m,\u001b[0m \u001b[0mdtype\u001b[0m\u001b[0;34m=\u001b[0m\u001b[0mdtype_numpy\u001b[0m\u001b[0;34m(\u001b[0m\u001b[0mx\u001b[0m\u001b[0;34m)\u001b[0m\u001b[0;34m)\u001b[0m\u001b[0;34m)\u001b[0m\u001b[0;34m\u001b[0m\u001b[0;34m\u001b[0m\u001b[0m\n\u001b[0m\u001b[1;32m   3805\u001b[0m   \u001b[0;32melse\u001b[0m\u001b[0;34m:\u001b[0m\u001b[0;34m\u001b[0m\u001b[0;34m\u001b[0m\u001b[0m\n\u001b[1;32m   3806\u001b[0m     \u001b[0;32mwith\u001b[0m \u001b[0mget_graph\u001b[0m\u001b[0;34m(\u001b[0m\u001b[0;34m)\u001b[0m\u001b[0;34m.\u001b[0m\u001b[0mas_default\u001b[0m\u001b[0;34m(\u001b[0m\u001b[0;34m)\u001b[0m\u001b[0;34m:\u001b[0m\u001b[0;34m\u001b[0m\u001b[0;34m\u001b[0m\u001b[0m\n",
            "\u001b[0;32m/usr/local/lib/python3.7/dist-packages/tensorflow/python/ops/resource_variable_ops.py\u001b[0m in \u001b[0;36massign\u001b[0;34m(self, value, use_locking, name, read_value)\u001b[0m\n\u001b[1;32m    899\u001b[0m             (\"Cannot assign to variable%s due to variable shape %s and value \"\n\u001b[1;32m    900\u001b[0m              \"shape %s are incompatible\") %\n\u001b[0;32m--> 901\u001b[0;31m             (tensor_name, self._shape, value_tensor.shape))\n\u001b[0m\u001b[1;32m    902\u001b[0m       assign_op = gen_resource_variable_ops.assign_variable_op(\n\u001b[1;32m    903\u001b[0m           self.handle, value_tensor, name=name)\n",
            "\u001b[0;31mValueError\u001b[0m: Cannot assign to variable dense_244/kernel:0 due to variable shape (8, 16) and value shape (6, 16) are incompatible"
          ]
        }
      ]
    },
    {
      "cell_type": "code",
      "metadata": {
        "id": "xqHz6J2nOLB_"
      },
      "source": [
        "# Start defining the model\n",
        "def create_model():\n",
        "    model = Sequential()\n",
        "    model.add(Dense(6, input_dim = 6, kernel_initializer='normal', activation='relu'))\n",
        "    model.add(Dense(12, input_dim = 6, kernel_initializer='normal', activation='relu'))\n",
        "    model.add(Dense(6, input_dim = 12, kernel_initializer='normal', activation='relu'))\n",
        "    model.add(Dense(1, activation='sigmoid'))\n",
        "    # compile the model\n",
        "    adam = Adam(lr = 0.01)\n",
        "    model.compile(loss = 'binary_crossentropy', optimizer = adam, metrics = ['accuracy'])\n",
        "    return model\n",
        "\n",
        "# create the model\n",
        "model = KerasClassifier(build_fn = create_model, verbose = 0)"
      ],
      "execution_count": 27,
      "outputs": []
    },
    {
      "cell_type": "code",
      "metadata": {
        "id": "LXOjuuWPKhs_",
        "colab": {
          "base_uri": "https://localhost:8080/"
        },
        "outputId": "bd1f4091-f14d-46eb-e4dd-930ff483b53f"
      },
      "source": [
        "# define the grid search parameters\n",
        "batch_size = [16, 32, 64,128]\n",
        "epochs = [10,15,20,50]\n",
        "\n",
        "# make a dictionary of the grid search parameters\n",
        "param_grid = dict(batch_size=batch_size, epochs=epochs)\n",
        "\n",
        "# build and fit the GridSearchCV\n",
        "grid = GridSearchCV(estimator = model, param_grid = param_grid, cv = KFold(random_state=SEED), verbose = 10)\n",
        "grid_results = grid.fit(X_standardized, Y)\n",
        "\n",
        "# summarize the results\n",
        "print(\"Best: {0}, using {1}\".format(grid_results.best_score_, grid_results.best_params_))\n",
        "means = grid_results.cv_results_['mean_test_score']\n",
        "stds = grid_results.cv_results_['std_test_score']\n",
        "params = grid_results.cv_results_['params']\n",
        "for mean, stdev, param in zip(means, stds, params):\n",
        "    print('{0} ({1}) with: {2}'.format(mean, stdev, param))"
      ],
      "execution_count": null,
      "outputs": [
        {
          "output_type": "stream",
          "text": [
            "Fitting 5 folds for each of 16 candidates, totalling 80 fits\n",
            "[CV] batch_size=16, epochs=10 ........................................\n"
          ],
          "name": "stdout"
        },
        {
          "output_type": "stream",
          "text": [
            "[Parallel(n_jobs=1)]: Using backend SequentialBackend with 1 concurrent workers.\n"
          ],
          "name": "stderr"
        },
        {
          "output_type": "stream",
          "text": [
            "[CV] ............ batch_size=16, epochs=10, score=0.000, total=   1.6s\n",
            "[CV] batch_size=16, epochs=10 ........................................\n"
          ],
          "name": "stdout"
        },
        {
          "output_type": "stream",
          "text": [
            "[Parallel(n_jobs=1)]: Done   1 out of   1 | elapsed:    1.6s remaining:    0.0s\n"
          ],
          "name": "stderr"
        },
        {
          "output_type": "stream",
          "text": [
            "[CV] ............ batch_size=16, epochs=10, score=0.000, total=   1.2s\n",
            "[CV] batch_size=16, epochs=10 ........................................\n"
          ],
          "name": "stdout"
        },
        {
          "output_type": "stream",
          "text": [
            "[Parallel(n_jobs=1)]: Done   2 out of   2 | elapsed:    2.9s remaining:    0.0s\n"
          ],
          "name": "stderr"
        },
        {
          "output_type": "stream",
          "text": [
            "[CV] ............ batch_size=16, epochs=10, score=0.000, total=   1.5s\n",
            "[CV] batch_size=16, epochs=10 ........................................\n"
          ],
          "name": "stdout"
        },
        {
          "output_type": "stream",
          "text": [
            "[Parallel(n_jobs=1)]: Done   3 out of   3 | elapsed:    4.4s remaining:    0.0s\n"
          ],
          "name": "stderr"
        },
        {
          "output_type": "stream",
          "text": [
            "[CV] ............ batch_size=16, epochs=10, score=0.016, total=   1.5s\n",
            "[CV] batch_size=16, epochs=10 ........................................\n"
          ],
          "name": "stdout"
        },
        {
          "output_type": "stream",
          "text": [
            "[Parallel(n_jobs=1)]: Done   4 out of   4 | elapsed:    5.9s remaining:    0.0s\n"
          ],
          "name": "stderr"
        },
        {
          "output_type": "stream",
          "text": [
            "[CV] ............ batch_size=16, epochs=10, score=0.000, total=   1.6s\n",
            "[CV] batch_size=16, epochs=15 ........................................\n"
          ],
          "name": "stdout"
        },
        {
          "output_type": "stream",
          "text": [
            "[Parallel(n_jobs=1)]: Done   5 out of   5 | elapsed:    7.5s remaining:    0.0s\n"
          ],
          "name": "stderr"
        },
        {
          "output_type": "stream",
          "text": [
            "[CV] ............ batch_size=16, epochs=15, score=0.000, total=   1.5s\n",
            "[CV] batch_size=16, epochs=15 ........................................\n"
          ],
          "name": "stdout"
        },
        {
          "output_type": "stream",
          "text": [
            "[Parallel(n_jobs=1)]: Done   6 out of   6 | elapsed:    9.0s remaining:    0.0s\n"
          ],
          "name": "stderr"
        },
        {
          "output_type": "stream",
          "text": [
            "[CV] ............ batch_size=16, epochs=15, score=0.000, total=   1.5s\n",
            "[CV] batch_size=16, epochs=15 ........................................\n"
          ],
          "name": "stdout"
        },
        {
          "output_type": "stream",
          "text": [
            "[Parallel(n_jobs=1)]: Done   7 out of   7 | elapsed:   10.6s remaining:    0.0s\n"
          ],
          "name": "stderr"
        },
        {
          "output_type": "stream",
          "text": [
            "[CV] ............ batch_size=16, epochs=15, score=0.000, total=   1.4s\n",
            "[CV] batch_size=16, epochs=15 ........................................\n"
          ],
          "name": "stdout"
        },
        {
          "output_type": "stream",
          "text": [
            "[Parallel(n_jobs=1)]: Done   8 out of   8 | elapsed:   11.9s remaining:    0.0s\n"
          ],
          "name": "stderr"
        },
        {
          "output_type": "stream",
          "text": [
            "[CV] ............ batch_size=16, epochs=15, score=0.016, total=   1.5s\n",
            "[CV] batch_size=16, epochs=15 ........................................\n"
          ],
          "name": "stdout"
        },
        {
          "output_type": "stream",
          "text": [
            "[Parallel(n_jobs=1)]: Done   9 out of   9 | elapsed:   13.5s remaining:    0.0s\n"
          ],
          "name": "stderr"
        },
        {
          "output_type": "stream",
          "text": [
            "[CV] ............ batch_size=16, epochs=15, score=0.000, total=   1.4s\n",
            "[CV] batch_size=16, epochs=20 ........................................\n",
            "[CV] ............ batch_size=16, epochs=20, score=0.000, total=   1.9s\n",
            "[CV] batch_size=16, epochs=20 ........................................\n",
            "[CV] ............ batch_size=16, epochs=20, score=0.000, total=   1.5s\n",
            "[CV] batch_size=16, epochs=20 ........................................\n",
            "[CV] ............ batch_size=16, epochs=20, score=0.000, total=   1.5s\n",
            "[CV] batch_size=16, epochs=20 ........................................\n",
            "[CV] ............ batch_size=16, epochs=20, score=0.016, total=   1.6s\n",
            "[CV] batch_size=16, epochs=20 ........................................\n",
            "[CV] ............ batch_size=16, epochs=20, score=0.000, total=   1.5s\n",
            "[CV] batch_size=16, epochs=50 ........................................\n",
            "[CV] ............ batch_size=16, epochs=50, score=0.000, total=   3.4s\n",
            "[CV] batch_size=16, epochs=50 ........................................\n",
            "[CV] ............ batch_size=16, epochs=50, score=0.000, total=   3.5s\n",
            "[CV] batch_size=16, epochs=50 ........................................\n",
            "[CV] ............ batch_size=16, epochs=50, score=0.000, total=   3.5s\n",
            "[CV] batch_size=16, epochs=50 ........................................\n",
            "[CV] ............ batch_size=16, epochs=50, score=0.016, total=   3.4s\n",
            "[CV] batch_size=16, epochs=50 ........................................\n",
            "[CV] ............ batch_size=16, epochs=50, score=0.000, total=   3.5s\n",
            "[CV] batch_size=32, epochs=10 ........................................\n",
            "[CV] ............ batch_size=32, epochs=10, score=0.000, total=   1.0s\n",
            "[CV] batch_size=32, epochs=10 ........................................\n",
            "[CV] ............ batch_size=32, epochs=10, score=0.000, total=   1.2s\n",
            "[CV] batch_size=32, epochs=10 ........................................\n",
            "[CV] ............ batch_size=32, epochs=10, score=0.000, total=   1.6s\n",
            "[CV] batch_size=32, epochs=10 ........................................\n",
            "[CV] ............ batch_size=32, epochs=10, score=0.016, total=   1.2s\n",
            "[CV] batch_size=32, epochs=10 ........................................\n",
            "[CV] ............ batch_size=32, epochs=10, score=0.000, total=   1.2s\n",
            "[CV] batch_size=32, epochs=15 ........................................\n",
            "[CV] ............ batch_size=32, epochs=15, score=0.000, total=   1.1s\n",
            "[CV] batch_size=32, epochs=15 ........................................\n",
            "[CV] ............ batch_size=32, epochs=15, score=0.000, total=   1.2s\n",
            "[CV] batch_size=32, epochs=15 ........................................\n",
            "[CV] ............ batch_size=32, epochs=15, score=0.000, total=   1.2s\n",
            "[CV] batch_size=32, epochs=15 ........................................\n",
            "[CV] ............ batch_size=32, epochs=15, score=0.016, total=   1.2s\n",
            "[CV] batch_size=32, epochs=15 ........................................\n",
            "[CV] ............ batch_size=32, epochs=15, score=0.000, total=   1.2s\n",
            "[CV] batch_size=32, epochs=20 ........................................\n",
            "[CV] ............ batch_size=32, epochs=20, score=0.000, total=   1.5s\n",
            "[CV] batch_size=32, epochs=20 ........................................\n",
            "[CV] ............ batch_size=32, epochs=20, score=0.000, total=   1.6s\n",
            "[CV] batch_size=32, epochs=20 ........................................\n",
            "[CV] ............ batch_size=32, epochs=20, score=0.000, total=   1.6s\n",
            "[CV] batch_size=32, epochs=20 ........................................\n",
            "[CV] ............ batch_size=32, epochs=20, score=0.016, total=   1.9s\n",
            "[CV] batch_size=32, epochs=20 ........................................\n",
            "[CV] ............ batch_size=32, epochs=20, score=0.000, total=   1.5s\n",
            "[CV] batch_size=32, epochs=50 ........................................\n",
            "[CV] ............ batch_size=32, epochs=50, score=0.000, total=   1.7s\n",
            "[CV] batch_size=32, epochs=50 ........................................\n",
            "[CV] ............ batch_size=32, epochs=50, score=0.000, total=   2.1s\n",
            "[CV] batch_size=32, epochs=50 ........................................\n",
            "[CV] ............ batch_size=32, epochs=50, score=0.000, total=   2.2s\n",
            "[CV] batch_size=32, epochs=50 ........................................\n",
            "[CV] ............ batch_size=32, epochs=50, score=0.016, total=   2.2s\n",
            "[CV] batch_size=32, epochs=50 ........................................\n",
            "[CV] ............ batch_size=32, epochs=50, score=0.000, total=   1.7s\n",
            "[CV] batch_size=64, epochs=10 ........................................\n",
            "[CV] ............ batch_size=64, epochs=10, score=0.000, total=   1.0s\n",
            "[CV] batch_size=64, epochs=10 ........................................\n",
            "[CV] ............ batch_size=64, epochs=10, score=0.000, total=   1.0s\n",
            "[CV] batch_size=64, epochs=10 ........................................\n",
            "[CV] ............ batch_size=64, epochs=10, score=0.000, total=   1.0s\n",
            "[CV] batch_size=64, epochs=10 ........................................\n",
            "[CV] ............ batch_size=64, epochs=10, score=0.016, total=   1.1s\n",
            "[CV] batch_size=64, epochs=10 ........................................\n",
            "[CV] ............ batch_size=64, epochs=10, score=0.000, total=   1.4s\n",
            "[CV] batch_size=64, epochs=15 ........................................\n",
            "[CV] ............ batch_size=64, epochs=15, score=0.000, total=   1.1s\n",
            "[CV] batch_size=64, epochs=15 ........................................\n",
            "[CV] ............ batch_size=64, epochs=15, score=0.000, total=   1.0s\n",
            "[CV] batch_size=64, epochs=15 ........................................\n",
            "[CV] ............ batch_size=64, epochs=15, score=0.000, total=   1.0s\n",
            "[CV] batch_size=64, epochs=15 ........................................\n",
            "[CV] ............ batch_size=64, epochs=15, score=0.016, total=   1.1s\n",
            "[CV] batch_size=64, epochs=15 ........................................\n",
            "[CV] ............ batch_size=64, epochs=15, score=0.000, total=   1.0s\n",
            "[CV] batch_size=64, epochs=20 ........................................\n",
            "[CV] ............ batch_size=64, epochs=20, score=0.000, total=   1.2s\n",
            "[CV] batch_size=64, epochs=20 ........................................\n",
            "[CV] ............ batch_size=64, epochs=20, score=0.000, total=   1.2s\n",
            "[CV] batch_size=64, epochs=20 ........................................\n",
            "[CV] ............ batch_size=64, epochs=20, score=0.000, total=   1.2s\n",
            "[CV] batch_size=64, epochs=20 ........................................\n",
            "[CV] ............ batch_size=64, epochs=20, score=0.016, total=   1.2s\n",
            "[CV] batch_size=64, epochs=20 ........................................\n",
            "[CV] ............ batch_size=64, epochs=20, score=0.000, total=   1.2s\n",
            "[CV] batch_size=64, epochs=50 ........................................\n",
            "[CV] ............ batch_size=64, epochs=50, score=0.000, total=   1.9s\n",
            "[CV] batch_size=64, epochs=50 ........................................\n",
            "[CV] ............ batch_size=64, epochs=50, score=0.000, total=   1.5s\n",
            "[CV] batch_size=64, epochs=50 ........................................\n",
            "[CV] ............ batch_size=64, epochs=50, score=0.000, total=   1.5s\n",
            "[CV] batch_size=64, epochs=50 ........................................\n",
            "[CV] ............ batch_size=64, epochs=50, score=0.016, total=   1.5s\n",
            "[CV] batch_size=64, epochs=50 ........................................\n",
            "[CV] ............ batch_size=64, epochs=50, score=0.000, total=   1.5s\n",
            "[CV] batch_size=128, epochs=10 .......................................\n",
            "[CV] ........... batch_size=128, epochs=10, score=0.000, total=   1.0s\n",
            "[CV] batch_size=128, epochs=10 .......................................\n",
            "[CV] ........... batch_size=128, epochs=10, score=0.000, total=   1.0s\n",
            "[CV] batch_size=128, epochs=10 .......................................\n",
            "[CV] ........... batch_size=128, epochs=10, score=0.000, total=   1.0s\n",
            "[CV] batch_size=128, epochs=10 .......................................\n",
            "[CV] ........... batch_size=128, epochs=10, score=0.016, total=   1.0s\n",
            "[CV] batch_size=128, epochs=10 .......................................\n",
            "[CV] ........... batch_size=128, epochs=10, score=0.000, total=   1.0s\n",
            "[CV] batch_size=128, epochs=15 .......................................\n",
            "[CV] ........... batch_size=128, epochs=15, score=0.000, total=   1.0s\n",
            "[CV] batch_size=128, epochs=15 .......................................\n",
            "[CV] ........... batch_size=128, epochs=15, score=0.000, total=   1.4s\n",
            "[CV] batch_size=128, epochs=15 .......................................\n",
            "[CV] ........... batch_size=128, epochs=15, score=0.000, total=   1.0s\n",
            "[CV] batch_size=128, epochs=15 .......................................\n",
            "[CV] ........... batch_size=128, epochs=15, score=0.016, total=   1.1s\n",
            "[CV] batch_size=128, epochs=15 .......................................\n",
            "[CV] ........... batch_size=128, epochs=15, score=0.000, total=   1.0s\n",
            "[CV] batch_size=128, epochs=20 .......................................\n",
            "[CV] ........... batch_size=128, epochs=20, score=0.000, total=   1.0s\n",
            "[CV] batch_size=128, epochs=20 .......................................\n",
            "[CV] ........... batch_size=128, epochs=20, score=0.000, total=   1.0s\n",
            "[CV] batch_size=128, epochs=20 .......................................\n",
            "[CV] ........... batch_size=128, epochs=20, score=0.000, total=   1.0s\n",
            "[CV] batch_size=128, epochs=20 .......................................\n",
            "[CV] ........... batch_size=128, epochs=20, score=0.016, total=   1.0s\n",
            "[CV] batch_size=128, epochs=20 .......................................\n",
            "[CV] ........... batch_size=128, epochs=20, score=0.000, total=   1.0s\n",
            "[CV] batch_size=128, epochs=50 .......................................\n",
            "[CV] ........... batch_size=128, epochs=50, score=0.000, total=   1.2s\n",
            "[CV] batch_size=128, epochs=50 .......................................\n",
            "[CV] ........... batch_size=128, epochs=50, score=0.000, total=   1.2s\n",
            "[CV] batch_size=128, epochs=50 .......................................\n",
            "[CV] ........... batch_size=128, epochs=50, score=0.000, total=   1.6s\n",
            "[CV] batch_size=128, epochs=50 .......................................\n",
            "[CV] ........... batch_size=128, epochs=50, score=0.016, total=   1.3s\n",
            "[CV] batch_size=128, epochs=50 .......................................\n",
            "[CV] ........... batch_size=128, epochs=50, score=0.000, total=   1.2s\n"
          ],
          "name": "stdout"
        },
        {
          "output_type": "stream",
          "text": [
            "[Parallel(n_jobs=1)]: Done  80 out of  80 | elapsed:  2.0min finished\n"
          ],
          "name": "stderr"
        },
        {
          "output_type": "stream",
          "text": [
            "Best: 0.0032258063554763796, using {'batch_size': 16, 'epochs': 10}\n",
            "0.0032258063554763796 (0.006451612710952759) with: {'batch_size': 16, 'epochs': 10}\n",
            "0.0032258063554763796 (0.006451612710952759) with: {'batch_size': 16, 'epochs': 15}\n",
            "0.0032258063554763796 (0.006451612710952759) with: {'batch_size': 16, 'epochs': 20}\n",
            "0.0032258063554763796 (0.006451612710952759) with: {'batch_size': 16, 'epochs': 50}\n",
            "0.0032258063554763796 (0.006451612710952759) with: {'batch_size': 32, 'epochs': 10}\n",
            "0.0032258063554763796 (0.006451612710952759) with: {'batch_size': 32, 'epochs': 15}\n",
            "0.0032258063554763796 (0.006451612710952759) with: {'batch_size': 32, 'epochs': 20}\n",
            "0.0032258063554763796 (0.006451612710952759) with: {'batch_size': 32, 'epochs': 50}\n",
            "0.0032258063554763796 (0.006451612710952759) with: {'batch_size': 64, 'epochs': 10}\n",
            "0.0032258063554763796 (0.006451612710952759) with: {'batch_size': 64, 'epochs': 15}\n",
            "0.0032258063554763796 (0.006451612710952759) with: {'batch_size': 64, 'epochs': 20}\n",
            "0.0032258063554763796 (0.006451612710952759) with: {'batch_size': 64, 'epochs': 50}\n",
            "0.0032258063554763796 (0.006451612710952759) with: {'batch_size': 128, 'epochs': 10}\n",
            "0.0032258063554763796 (0.006451612710952759) with: {'batch_size': 128, 'epochs': 15}\n",
            "0.0032258063554763796 (0.006451612710952759) with: {'batch_size': 128, 'epochs': 20}\n",
            "0.0032258063554763796 (0.006451612710952759) with: {'batch_size': 128, 'epochs': 50}\n"
          ],
          "name": "stdout"
        }
      ]
    },
    {
      "cell_type": "code",
      "metadata": {
        "id": "fMkkeFdtU8UM"
      },
      "source": [
        "\n",
        "best_batch_size=16\n",
        "best_epochs=10"
      ],
      "execution_count": null,
      "outputs": []
    },
    {
      "cell_type": "code",
      "metadata": {
        "colab": {
          "base_uri": "https://localhost:8080/"
        },
        "id": "-_E9Q7ghOgnx",
        "outputId": "ff501fad-d7e9-4264-8d8e-4d513e1ed98f"
      },
      "source": [
        "# Do a grid search for learning rate and dropout rate\n",
        "# import necessary packages\n",
        "from keras.layers import Dropout\n",
        "\n",
        "\n",
        "# Start defining the model\n",
        "def create_model(learn_rate, dropout_rate):\n",
        "    # create model\n",
        "    model = Sequential()\n",
        "    model.add(Dense(6, input_dim = 6, kernel_initializer='normal', activation='relu'))\n",
        "    model.add(Dropout(dropout_rate))\n",
        "    model.add(Dense(12, input_dim = 6, kernel_initializer='normal', activation='relu'))\n",
        "    model.add(Dropout(dropout_rate))\n",
        "    model.add(Dense(6, input_dim = 12, kernel_initializer='normal', activation='relu'))\n",
        "    model.add(Dropout(dropout_rate))\n",
        "    model.add(Dense(1, activation='sigmoid'))\n",
        "\n",
        "    # compile the model\n",
        "    adam = Adam(lr = learn_rate)\n",
        "    model.compile(loss = 'binary_crossentropy', optimizer = adam, metrics = ['accuracy'])\n",
        "    return model\n",
        "\n",
        "# create the model\n",
        "model = KerasClassifier(build_fn = create_model, epochs = best_epochs, batch_size = best_batch_size, verbose = 0)\n",
        "\n",
        "# define the grid search parameters\n",
        "learn_rate = [0.000001,0.00001,0.0001, 0.001]\n",
        "dropout_rate = [0.0, 0.2, 0.4,0.6]\n",
        "\n",
        "# make a dictionary of the grid search parameters\n",
        "param_grid = dict(learn_rate=learn_rate, dropout_rate=dropout_rate)\n",
        "\n",
        "# build and fit the GridSearchCV\n",
        "grid = GridSearchCV(estimator = model, param_grid = param_grid, cv = KFold(random_state=seed), verbose = 10)\n",
        "grid_results = grid.fit(X_standardized, Y)\n",
        "\n",
        "# summarize the results\n",
        "print(\"Best: {0}, using {1}\".format(grid_results.best_score_, grid_results.best_params_))\n",
        "means = grid_results.cv_results_['mean_test_score']\n",
        "stds = grid_results.cv_results_['std_test_score']\n",
        "params = grid_results.cv_results_['params']\n",
        "for mean, stdev, param in zip(means, stds, params):\n",
        "    print('{0} ({1}) with: {2}'.format(mean, stdev, param))"
      ],
      "execution_count": null,
      "outputs": [
        {
          "output_type": "stream",
          "text": [
            "Fitting 5 folds for each of 16 candidates, totalling 80 fits\n",
            "[CV] dropout_rate=0.0, learn_rate=1e-06 ..............................\n"
          ],
          "name": "stdout"
        },
        {
          "output_type": "stream",
          "text": [
            "[Parallel(n_jobs=1)]: Using backend SequentialBackend with 1 concurrent workers.\n"
          ],
          "name": "stderr"
        },
        {
          "output_type": "stream",
          "text": [
            "[CV] .. dropout_rate=0.0, learn_rate=1e-06, score=0.000, total=   1.4s\n",
            "[CV] dropout_rate=0.0, learn_rate=1e-06 ..............................\n"
          ],
          "name": "stdout"
        },
        {
          "output_type": "stream",
          "text": [
            "[Parallel(n_jobs=1)]: Done   1 out of   1 | elapsed:    1.4s remaining:    0.0s\n"
          ],
          "name": "stderr"
        },
        {
          "output_type": "stream",
          "text": [
            "[CV] .. dropout_rate=0.0, learn_rate=1e-06, score=0.000, total=   1.4s\n",
            "[CV] dropout_rate=0.0, learn_rate=1e-06 ..............................\n"
          ],
          "name": "stdout"
        },
        {
          "output_type": "stream",
          "text": [
            "[Parallel(n_jobs=1)]: Done   2 out of   2 | elapsed:    2.8s remaining:    0.0s\n"
          ],
          "name": "stderr"
        },
        {
          "output_type": "stream",
          "text": [
            "[CV] .. dropout_rate=0.0, learn_rate=1e-06, score=0.000, total=   1.7s\n",
            "[CV] dropout_rate=0.0, learn_rate=1e-06 ..............................\n"
          ],
          "name": "stdout"
        },
        {
          "output_type": "stream",
          "text": [
            "[Parallel(n_jobs=1)]: Done   3 out of   3 | elapsed:    4.4s remaining:    0.0s\n"
          ],
          "name": "stderr"
        },
        {
          "output_type": "stream",
          "text": [
            "[CV] .. dropout_rate=0.0, learn_rate=1e-06, score=0.000, total=   1.7s\n",
            "[CV] dropout_rate=0.0, learn_rate=1e-06 ..............................\n"
          ],
          "name": "stdout"
        },
        {
          "output_type": "stream",
          "text": [
            "[Parallel(n_jobs=1)]: Done   4 out of   4 | elapsed:    6.1s remaining:    0.0s\n"
          ],
          "name": "stderr"
        },
        {
          "output_type": "stream",
          "text": [
            "[CV] .. dropout_rate=0.0, learn_rate=1e-06, score=0.000, total=   1.4s\n",
            "[CV] dropout_rate=0.0, learn_rate=1e-05 ..............................\n"
          ],
          "name": "stdout"
        },
        {
          "output_type": "stream",
          "text": [
            "[Parallel(n_jobs=1)]: Done   5 out of   5 | elapsed:    7.5s remaining:    0.0s\n"
          ],
          "name": "stderr"
        },
        {
          "output_type": "stream",
          "text": [
            "[CV] .. dropout_rate=0.0, learn_rate=1e-05, score=0.000, total=   1.7s\n",
            "[CV] dropout_rate=0.0, learn_rate=1e-05 ..............................\n"
          ],
          "name": "stdout"
        },
        {
          "output_type": "stream",
          "text": [
            "[Parallel(n_jobs=1)]: Done   6 out of   6 | elapsed:    9.2s remaining:    0.0s\n"
          ],
          "name": "stderr"
        },
        {
          "output_type": "stream",
          "text": [
            "[CV] .. dropout_rate=0.0, learn_rate=1e-05, score=0.000, total=   1.3s\n",
            "[CV] dropout_rate=0.0, learn_rate=1e-05 ..............................\n"
          ],
          "name": "stdout"
        },
        {
          "output_type": "stream",
          "text": [
            "[Parallel(n_jobs=1)]: Done   7 out of   7 | elapsed:   10.5s remaining:    0.0s\n"
          ],
          "name": "stderr"
        },
        {
          "output_type": "stream",
          "text": [
            "[CV] .. dropout_rate=0.0, learn_rate=1e-05, score=0.000, total=   2.1s\n",
            "[CV] dropout_rate=0.0, learn_rate=1e-05 ..............................\n"
          ],
          "name": "stdout"
        },
        {
          "output_type": "stream",
          "text": [
            "[Parallel(n_jobs=1)]: Done   8 out of   8 | elapsed:   12.6s remaining:    0.0s\n"
          ],
          "name": "stderr"
        },
        {
          "output_type": "stream",
          "text": [
            "[CV] .. dropout_rate=0.0, learn_rate=1e-05, score=0.016, total=   1.7s\n",
            "[CV] dropout_rate=0.0, learn_rate=1e-05 ..............................\n"
          ],
          "name": "stdout"
        },
        {
          "output_type": "stream",
          "text": [
            "[Parallel(n_jobs=1)]: Done   9 out of   9 | elapsed:   14.3s remaining:    0.0s\n"
          ],
          "name": "stderr"
        },
        {
          "output_type": "stream",
          "text": [
            "[CV] .. dropout_rate=0.0, learn_rate=1e-05, score=0.000, total=   1.7s\n",
            "[CV] dropout_rate=0.0, learn_rate=0.0001 .............................\n",
            "[CV] . dropout_rate=0.0, learn_rate=0.0001, score=0.000, total=   1.3s\n",
            "[CV] dropout_rate=0.0, learn_rate=0.0001 .............................\n",
            "[CV] . dropout_rate=0.0, learn_rate=0.0001, score=0.000, total=   1.6s\n",
            "[CV] dropout_rate=0.0, learn_rate=0.0001 .............................\n",
            "[CV] . dropout_rate=0.0, learn_rate=0.0001, score=0.000, total=   1.7s\n",
            "[CV] dropout_rate=0.0, learn_rate=0.0001 .............................\n",
            "[CV] . dropout_rate=0.0, learn_rate=0.0001, score=0.016, total=   1.7s\n",
            "[CV] dropout_rate=0.0, learn_rate=0.0001 .............................\n",
            "[CV] . dropout_rate=0.0, learn_rate=0.0001, score=0.000, total=   1.7s\n",
            "[CV] dropout_rate=0.0, learn_rate=0.001 ..............................\n",
            "[CV] .. dropout_rate=0.0, learn_rate=0.001, score=0.000, total=   1.3s\n",
            "[CV] dropout_rate=0.0, learn_rate=0.001 ..............................\n",
            "[CV] .. dropout_rate=0.0, learn_rate=0.001, score=0.000, total=   1.7s\n",
            "[CV] dropout_rate=0.0, learn_rate=0.001 ..............................\n",
            "[CV] .. dropout_rate=0.0, learn_rate=0.001, score=0.000, total=   1.4s\n",
            "[CV] dropout_rate=0.0, learn_rate=0.001 ..............................\n",
            "[CV] .. dropout_rate=0.0, learn_rate=0.001, score=0.016, total=   2.2s\n",
            "[CV] dropout_rate=0.0, learn_rate=0.001 ..............................\n",
            "[CV] .. dropout_rate=0.0, learn_rate=0.001, score=0.000, total=   1.7s\n",
            "[CV] dropout_rate=0.2, learn_rate=1e-06 ..............................\n",
            "[CV] .. dropout_rate=0.2, learn_rate=1e-06, score=0.000, total=   1.7s\n",
            "[CV] dropout_rate=0.2, learn_rate=1e-06 ..............................\n",
            "[CV] .. dropout_rate=0.2, learn_rate=1e-06, score=0.000, total=   1.7s\n",
            "[CV] dropout_rate=0.2, learn_rate=1e-06 ..............................\n",
            "[CV] .. dropout_rate=0.2, learn_rate=1e-06, score=0.000, total=   1.7s\n",
            "[CV] dropout_rate=0.2, learn_rate=1e-06 ..............................\n",
            "[CV] .. dropout_rate=0.2, learn_rate=1e-06, score=0.016, total=   1.8s\n",
            "[CV] dropout_rate=0.2, learn_rate=1e-06 ..............................\n",
            "[CV] .. dropout_rate=0.2, learn_rate=1e-06, score=0.000, total=   1.8s\n",
            "[CV] dropout_rate=0.2, learn_rate=1e-05 ..............................\n",
            "[CV] .. dropout_rate=0.2, learn_rate=1e-05, score=0.000, total=   1.7s\n",
            "[CV] dropout_rate=0.2, learn_rate=1e-05 ..............................\n",
            "[CV] .. dropout_rate=0.2, learn_rate=1e-05, score=0.000, total=   1.7s\n",
            "[CV] dropout_rate=0.2, learn_rate=1e-05 ..............................\n",
            "[CV] .. dropout_rate=0.2, learn_rate=1e-05, score=0.000, total=   2.1s\n",
            "[CV] dropout_rate=0.2, learn_rate=1e-05 ..............................\n",
            "[CV] .. dropout_rate=0.2, learn_rate=1e-05, score=0.016, total=   1.8s\n",
            "[CV] dropout_rate=0.2, learn_rate=1e-05 ..............................\n",
            "[CV] .. dropout_rate=0.2, learn_rate=1e-05, score=0.000, total=   1.8s\n",
            "[CV] dropout_rate=0.2, learn_rate=0.0001 .............................\n",
            "[CV] . dropout_rate=0.2, learn_rate=0.0001, score=0.000, total=   1.7s\n",
            "[CV] dropout_rate=0.2, learn_rate=0.0001 .............................\n",
            "[CV] . dropout_rate=0.2, learn_rate=0.0001, score=0.000, total=   1.4s\n",
            "[CV] dropout_rate=0.2, learn_rate=0.0001 .............................\n",
            "[CV] . dropout_rate=0.2, learn_rate=0.0001, score=0.000, total=   1.5s\n",
            "[CV] dropout_rate=0.2, learn_rate=0.0001 .............................\n",
            "[CV] . dropout_rate=0.2, learn_rate=0.0001, score=0.016, total=   1.5s\n",
            "[CV] dropout_rate=0.2, learn_rate=0.0001 .............................\n",
            "[CV] . dropout_rate=0.2, learn_rate=0.0001, score=0.000, total=   1.4s\n",
            "[CV] dropout_rate=0.2, learn_rate=0.001 ..............................\n",
            "[CV] .. dropout_rate=0.2, learn_rate=0.001, score=0.000, total=   1.8s\n",
            "[CV] dropout_rate=0.2, learn_rate=0.001 ..............................\n",
            "[CV] .. dropout_rate=0.2, learn_rate=0.001, score=0.000, total=   1.8s\n",
            "[CV] dropout_rate=0.2, learn_rate=0.001 ..............................\n",
            "[CV] .. dropout_rate=0.2, learn_rate=0.001, score=0.000, total=   1.8s\n",
            "[CV] dropout_rate=0.2, learn_rate=0.001 ..............................\n",
            "[CV] .. dropout_rate=0.2, learn_rate=0.001, score=0.016, total=   1.4s\n",
            "[CV] dropout_rate=0.2, learn_rate=0.001 ..............................\n",
            "[CV] .. dropout_rate=0.2, learn_rate=0.001, score=0.000, total=   1.8s\n",
            "[CV] dropout_rate=0.4, learn_rate=1e-06 ..............................\n",
            "[CV] .. dropout_rate=0.4, learn_rate=1e-06, score=0.000, total=   1.4s\n",
            "[CV] dropout_rate=0.4, learn_rate=1e-06 ..............................\n",
            "[CV] .. dropout_rate=0.4, learn_rate=1e-06, score=0.000, total=   1.7s\n",
            "[CV] dropout_rate=0.4, learn_rate=1e-06 ..............................\n",
            "[CV] .. dropout_rate=0.4, learn_rate=1e-06, score=0.000, total=   1.7s\n",
            "[CV] dropout_rate=0.4, learn_rate=1e-06 ..............................\n",
            "[CV] .. dropout_rate=0.4, learn_rate=1e-06, score=0.016, total=   1.4s\n",
            "[CV] dropout_rate=0.4, learn_rate=1e-06 ..............................\n",
            "[CV] .. dropout_rate=0.4, learn_rate=1e-06, score=0.000, total=   1.7s\n",
            "[CV] dropout_rate=0.4, learn_rate=1e-05 ..............................\n",
            "[CV] .. dropout_rate=0.4, learn_rate=1e-05, score=0.000, total=   1.8s\n",
            "[CV] dropout_rate=0.4, learn_rate=1e-05 ..............................\n",
            "[CV] .. dropout_rate=0.4, learn_rate=1e-05, score=0.000, total=   1.7s\n",
            "[CV] dropout_rate=0.4, learn_rate=1e-05 ..............................\n",
            "[CV] .. dropout_rate=0.4, learn_rate=1e-05, score=0.000, total=   1.9s\n",
            "[CV] dropout_rate=0.4, learn_rate=1e-05 ..............................\n",
            "[CV] .. dropout_rate=0.4, learn_rate=1e-05, score=0.016, total=   1.7s\n",
            "[CV] dropout_rate=0.4, learn_rate=1e-05 ..............................\n",
            "[CV] .. dropout_rate=0.4, learn_rate=1e-05, score=0.000, total=   1.4s\n",
            "[CV] dropout_rate=0.4, learn_rate=0.0001 .............................\n",
            "[CV] . dropout_rate=0.4, learn_rate=0.0001, score=0.000, total=   1.7s\n",
            "[CV] dropout_rate=0.4, learn_rate=0.0001 .............................\n",
            "[CV] . dropout_rate=0.4, learn_rate=0.0001, score=0.000, total=   1.8s\n",
            "[CV] dropout_rate=0.4, learn_rate=0.0001 .............................\n",
            "[CV] . dropout_rate=0.4, learn_rate=0.0001, score=0.000, total=   1.7s\n",
            "[CV] dropout_rate=0.4, learn_rate=0.0001 .............................\n",
            "[CV] . dropout_rate=0.4, learn_rate=0.0001, score=0.016, total=   1.7s\n",
            "[CV] dropout_rate=0.4, learn_rate=0.0001 .............................\n",
            "[CV] . dropout_rate=0.4, learn_rate=0.0001, score=0.000, total=   1.8s\n",
            "[CV] dropout_rate=0.4, learn_rate=0.001 ..............................\n",
            "[CV] .. dropout_rate=0.4, learn_rate=0.001, score=0.000, total=   1.8s\n",
            "[CV] dropout_rate=0.4, learn_rate=0.001 ..............................\n",
            "[CV] .. dropout_rate=0.4, learn_rate=0.001, score=0.000, total=   1.8s\n",
            "[CV] dropout_rate=0.4, learn_rate=0.001 ..............................\n",
            "[CV] .. dropout_rate=0.4, learn_rate=0.001, score=0.000, total=   2.2s\n",
            "[CV] dropout_rate=0.4, learn_rate=0.001 ..............................\n",
            "[CV] .. dropout_rate=0.4, learn_rate=0.001, score=0.016, total=   1.8s\n",
            "[CV] dropout_rate=0.4, learn_rate=0.001 ..............................\n",
            "[CV] .. dropout_rate=0.4, learn_rate=0.001, score=0.000, total=   1.4s\n",
            "[CV] dropout_rate=0.6, learn_rate=1e-06 ..............................\n",
            "[CV] .. dropout_rate=0.6, learn_rate=1e-06, score=0.000, total=   1.8s\n",
            "[CV] dropout_rate=0.6, learn_rate=1e-06 ..............................\n",
            "[CV] .. dropout_rate=0.6, learn_rate=1e-06, score=0.000, total=   1.8s\n",
            "[CV] dropout_rate=0.6, learn_rate=1e-06 ..............................\n",
            "[CV] .. dropout_rate=0.6, learn_rate=1e-06, score=0.000, total=   1.7s\n",
            "[CV] dropout_rate=0.6, learn_rate=1e-06 ..............................\n",
            "[CV] .. dropout_rate=0.6, learn_rate=1e-06, score=0.016, total=   1.4s\n",
            "[CV] dropout_rate=0.6, learn_rate=1e-06 ..............................\n",
            "[CV] .. dropout_rate=0.6, learn_rate=1e-06, score=0.016, total=   1.4s\n",
            "[CV] dropout_rate=0.6, learn_rate=1e-05 ..............................\n",
            "[CV] .. dropout_rate=0.6, learn_rate=1e-05, score=0.000, total=   1.8s\n",
            "[CV] dropout_rate=0.6, learn_rate=1e-05 ..............................\n",
            "[CV] .. dropout_rate=0.6, learn_rate=1e-05, score=0.000, total=   1.8s\n",
            "[CV] dropout_rate=0.6, learn_rate=1e-05 ..............................\n",
            "[CV] .. dropout_rate=0.6, learn_rate=1e-05, score=0.000, total=   2.1s\n",
            "[CV] dropout_rate=0.6, learn_rate=1e-05 ..............................\n",
            "[CV] .. dropout_rate=0.6, learn_rate=1e-05, score=0.016, total=   1.7s\n",
            "[CV] dropout_rate=0.6, learn_rate=1e-05 ..............................\n",
            "[CV] .. dropout_rate=0.6, learn_rate=1e-05, score=0.000, total=   1.7s\n",
            "[CV] dropout_rate=0.6, learn_rate=0.0001 .............................\n",
            "[CV] . dropout_rate=0.6, learn_rate=0.0001, score=0.000, total=   1.7s\n",
            "[CV] dropout_rate=0.6, learn_rate=0.0001 .............................\n",
            "[CV] . dropout_rate=0.6, learn_rate=0.0001, score=0.000, total=   1.8s\n",
            "[CV] dropout_rate=0.6, learn_rate=0.0001 .............................\n",
            "[CV] . dropout_rate=0.6, learn_rate=0.0001, score=0.000, total=   1.7s\n",
            "[CV] dropout_rate=0.6, learn_rate=0.0001 .............................\n",
            "[CV] . dropout_rate=0.6, learn_rate=0.0001, score=0.016, total=   1.7s\n",
            "[CV] dropout_rate=0.6, learn_rate=0.0001 .............................\n",
            "[CV] . dropout_rate=0.6, learn_rate=0.0001, score=0.000, total=   1.8s\n",
            "[CV] dropout_rate=0.6, learn_rate=0.001 ..............................\n",
            "[CV] .. dropout_rate=0.6, learn_rate=0.001, score=0.000, total=   1.5s\n",
            "[CV] dropout_rate=0.6, learn_rate=0.001 ..............................\n",
            "[CV] .. dropout_rate=0.6, learn_rate=0.001, score=0.000, total=   2.1s\n",
            "[CV] dropout_rate=0.6, learn_rate=0.001 ..............................\n",
            "[CV] .. dropout_rate=0.6, learn_rate=0.001, score=0.000, total=   1.5s\n",
            "[CV] dropout_rate=0.6, learn_rate=0.001 ..............................\n",
            "[CV] .. dropout_rate=0.6, learn_rate=0.001, score=0.016, total=   1.4s\n",
            "[CV] dropout_rate=0.6, learn_rate=0.001 ..............................\n",
            "[CV] .. dropout_rate=0.6, learn_rate=0.001, score=0.000, total=   1.8s\n"
          ],
          "name": "stdout"
        },
        {
          "output_type": "stream",
          "text": [
            "[Parallel(n_jobs=1)]: Done  80 out of  80 | elapsed:  2.2min finished\n"
          ],
          "name": "stderr"
        },
        {
          "output_type": "stream",
          "text": [
            "Best: 0.006451612710952759, using {'dropout_rate': 0.6, 'learn_rate': 1e-06}\n",
            "0.0 (0.0) with: {'dropout_rate': 0.0, 'learn_rate': 1e-06}\n",
            "0.0032258063554763796 (0.006451612710952759) with: {'dropout_rate': 0.0, 'learn_rate': 1e-05}\n",
            "0.0032258063554763796 (0.006451612710952759) with: {'dropout_rate': 0.0, 'learn_rate': 0.0001}\n",
            "0.0032258063554763796 (0.006451612710952759) with: {'dropout_rate': 0.0, 'learn_rate': 0.001}\n",
            "0.0032258063554763796 (0.006451612710952759) with: {'dropout_rate': 0.2, 'learn_rate': 1e-06}\n",
            "0.0032258063554763796 (0.006451612710952759) with: {'dropout_rate': 0.2, 'learn_rate': 1e-05}\n",
            "0.0032258063554763796 (0.006451612710952759) with: {'dropout_rate': 0.2, 'learn_rate': 0.0001}\n",
            "0.0032258063554763796 (0.006451612710952759) with: {'dropout_rate': 0.2, 'learn_rate': 0.001}\n",
            "0.0032258063554763796 (0.006451612710952759) with: {'dropout_rate': 0.4, 'learn_rate': 1e-06}\n",
            "0.0032258063554763796 (0.006451612710952759) with: {'dropout_rate': 0.4, 'learn_rate': 1e-05}\n",
            "0.0032258063554763796 (0.006451612710952759) with: {'dropout_rate': 0.4, 'learn_rate': 0.0001}\n",
            "0.0032258063554763796 (0.006451612710952759) with: {'dropout_rate': 0.4, 'learn_rate': 0.001}\n",
            "0.006451612710952759 (0.007901579579944178) with: {'dropout_rate': 0.6, 'learn_rate': 1e-06}\n",
            "0.0032258063554763796 (0.006451612710952759) with: {'dropout_rate': 0.6, 'learn_rate': 1e-05}\n",
            "0.0032258063554763796 (0.006451612710952759) with: {'dropout_rate': 0.6, 'learn_rate': 0.0001}\n",
            "0.0032258063554763796 (0.006451612710952759) with: {'dropout_rate': 0.6, 'learn_rate': 0.001}\n"
          ],
          "name": "stdout"
        }
      ]
    },
    {
      "cell_type": "code",
      "metadata": {
        "id": "wMKrjU4AWsjH"
      },
      "source": [
        "best_dropout_rate = 0.0\n",
        "best_learn_rate = 0.000001"
      ],
      "execution_count": null,
      "outputs": []
    },
    {
      "cell_type": "code",
      "metadata": {
        "colab": {
          "base_uri": "https://localhost:8080/"
        },
        "id": "Q5I_t-emOlXR",
        "outputId": "be3bea97-a2b6-4cc6-f284-bdcd8be5ade9"
      },
      "source": [
        "# Do a grid search to optimize kernel initialization and activation functions\n",
        "# import necessary packages\n",
        "\n",
        "# Start defining the model\n",
        "def create_model(activation, init):\n",
        "    # create model\n",
        "    model = Sequential()\n",
        "    model.add(Dense(6, input_dim = 6, kernel_initializer= init, activation= activation))\n",
        "    model.add(Dense(12, input_dim = 6, kernel_initializer= init, activation= activation))\n",
        "    model.add(Dense(6, input_dim = 12, kernel_initializer= init, activation= activation))\n",
        "    model.add(Dense(1, activation='sigmoid'))\n",
        "\n",
        "    # compile the model\n",
        "    adam = Adam(lr = best_learn_rate)\n",
        "    model.compile(loss = 'binary_crossentropy', optimizer = adam, metrics = ['accuracy'])\n",
        "    return model\n",
        "\n",
        "# create the model\n",
        "model = KerasClassifier(build_fn = create_model, epochs = best_epochs, batch_size = best_batch_size, verbose = 0)\n",
        "\n",
        "# define the grid search parameters\n",
        "activation = ['softmax', 'relu', 'tanh', 'linear']\n",
        "init = ['uniform', 'normal', 'zero']\n",
        "\n",
        "# make a dictionary of the grid search parameters\n",
        "param_grid = dict(activation = activation, init = init)\n",
        "\n",
        "# build and fit the GridSearchCV\n",
        "grid = GridSearchCV(estimator = model, param_grid = param_grid, cv = KFold(random_state=seed), verbose = 10)\n",
        "grid_results = grid.fit(X_standardized, Y)\n",
        "\n",
        "# summarize the results\n",
        "print(\"Best: {0}, using {1}\".format(grid_results.best_score_, grid_results.best_params_))\n",
        "means = grid_results.cv_results_['mean_test_score']\n",
        "stds = grid_results.cv_results_['std_test_score']\n",
        "params = grid_results.cv_results_['params']\n",
        "for mean, stdev, param in zip(means, stds, params):\n",
        "    print('{0} ({1}) with: {2}'.format(mean, stdev, param))"
      ],
      "execution_count": null,
      "outputs": [
        {
          "output_type": "stream",
          "text": [
            "Fitting 5 folds for each of 12 candidates, totalling 60 fits\n",
            "[CV] activation=softmax, init=uniform ................................\n"
          ],
          "name": "stdout"
        },
        {
          "output_type": "stream",
          "text": [
            "[Parallel(n_jobs=1)]: Using backend SequentialBackend with 1 concurrent workers.\n"
          ],
          "name": "stderr"
        },
        {
          "output_type": "stream",
          "text": [
            "[CV] .... activation=softmax, init=uniform, score=0.000, total=   1.6s\n",
            "[CV] activation=softmax, init=uniform ................................\n"
          ],
          "name": "stdout"
        },
        {
          "output_type": "stream",
          "text": [
            "[Parallel(n_jobs=1)]: Done   1 out of   1 | elapsed:    1.6s remaining:    0.0s\n"
          ],
          "name": "stderr"
        },
        {
          "output_type": "stream",
          "text": [
            "[CV] .... activation=softmax, init=uniform, score=0.000, total=   1.5s\n",
            "[CV] activation=softmax, init=uniform ................................\n"
          ],
          "name": "stdout"
        },
        {
          "output_type": "stream",
          "text": [
            "[Parallel(n_jobs=1)]: Done   2 out of   2 | elapsed:    3.1s remaining:    0.0s\n"
          ],
          "name": "stderr"
        },
        {
          "output_type": "stream",
          "text": [
            "[CV] .... activation=softmax, init=uniform, score=0.000, total=   1.2s\n",
            "[CV] activation=softmax, init=uniform ................................\n"
          ],
          "name": "stdout"
        },
        {
          "output_type": "stream",
          "text": [
            "[Parallel(n_jobs=1)]: Done   3 out of   3 | elapsed:    4.4s remaining:    0.0s\n"
          ],
          "name": "stderr"
        },
        {
          "output_type": "stream",
          "text": [
            "[CV] .... activation=softmax, init=uniform, score=0.016, total=   1.6s\n",
            "[CV] activation=softmax, init=uniform ................................\n"
          ],
          "name": "stdout"
        },
        {
          "output_type": "stream",
          "text": [
            "[Parallel(n_jobs=1)]: Done   4 out of   4 | elapsed:    5.9s remaining:    0.0s\n"
          ],
          "name": "stderr"
        },
        {
          "output_type": "stream",
          "text": [
            "[CV] .... activation=softmax, init=uniform, score=0.000, total=   1.5s\n",
            "[CV] activation=softmax, init=normal .................................\n"
          ],
          "name": "stdout"
        },
        {
          "output_type": "stream",
          "text": [
            "[Parallel(n_jobs=1)]: Done   5 out of   5 | elapsed:    7.4s remaining:    0.0s\n"
          ],
          "name": "stderr"
        },
        {
          "output_type": "stream",
          "text": [
            "[CV] ..... activation=softmax, init=normal, score=0.000, total=   1.5s\n",
            "[CV] activation=softmax, init=normal .................................\n"
          ],
          "name": "stdout"
        },
        {
          "output_type": "stream",
          "text": [
            "[Parallel(n_jobs=1)]: Done   6 out of   6 | elapsed:    9.0s remaining:    0.0s\n"
          ],
          "name": "stderr"
        },
        {
          "output_type": "stream",
          "text": [
            "[CV] ..... activation=softmax, init=normal, score=0.000, total=   1.5s\n",
            "[CV] activation=softmax, init=normal .................................\n"
          ],
          "name": "stdout"
        },
        {
          "output_type": "stream",
          "text": [
            "[Parallel(n_jobs=1)]: Done   7 out of   7 | elapsed:   10.5s remaining:    0.0s\n"
          ],
          "name": "stderr"
        },
        {
          "output_type": "stream",
          "text": [
            "[CV] ..... activation=softmax, init=normal, score=0.000, total=   1.6s\n",
            "[CV] activation=softmax, init=normal .................................\n"
          ],
          "name": "stdout"
        },
        {
          "output_type": "stream",
          "text": [
            "[Parallel(n_jobs=1)]: Done   8 out of   8 | elapsed:   12.1s remaining:    0.0s\n"
          ],
          "name": "stderr"
        },
        {
          "output_type": "stream",
          "text": [
            "[CV] ..... activation=softmax, init=normal, score=0.000, total=   1.6s\n",
            "[CV] activation=softmax, init=normal .................................\n"
          ],
          "name": "stdout"
        },
        {
          "output_type": "stream",
          "text": [
            "[Parallel(n_jobs=1)]: Done   9 out of   9 | elapsed:   13.7s remaining:    0.0s\n"
          ],
          "name": "stderr"
        },
        {
          "output_type": "stream",
          "text": [
            "[CV] ..... activation=softmax, init=normal, score=0.000, total=   1.5s\n",
            "[CV] activation=softmax, init=zero ...................................\n",
            "[CV] ....... activation=softmax, init=zero, score=0.000, total=   1.5s\n",
            "[CV] activation=softmax, init=zero ...................................\n",
            "[CV] ....... activation=softmax, init=zero, score=0.000, total=   1.9s\n",
            "[CV] activation=softmax, init=zero ...................................\n",
            "[CV] ....... activation=softmax, init=zero, score=0.000, total=   1.3s\n",
            "[CV] activation=softmax, init=zero ...................................\n",
            "[CV] ....... activation=softmax, init=zero, score=0.016, total=   1.3s\n",
            "[CV] activation=softmax, init=zero ...................................\n",
            "[CV] ....... activation=softmax, init=zero, score=0.000, total=   1.5s\n",
            "[CV] activation=relu, init=uniform ...................................\n",
            "[CV] ....... activation=relu, init=uniform, score=0.000, total=   1.2s\n",
            "[CV] activation=relu, init=uniform ...................................\n",
            "[CV] ....... activation=relu, init=uniform, score=0.000, total=   1.2s\n",
            "[CV] activation=relu, init=uniform ...................................\n",
            "[CV] ....... activation=relu, init=uniform, score=0.000, total=   1.5s\n",
            "[CV] activation=relu, init=uniform ...................................\n",
            "[CV] ....... activation=relu, init=uniform, score=0.016, total=   1.2s\n",
            "[CV] activation=relu, init=uniform ...................................\n",
            "[CV] ....... activation=relu, init=uniform, score=0.000, total=   1.5s\n",
            "[CV] activation=relu, init=normal ....................................\n",
            "[CV] ........ activation=relu, init=normal, score=0.000, total=   1.5s\n",
            "[CV] activation=relu, init=normal ....................................\n",
            "[CV] ........ activation=relu, init=normal, score=0.000, total=   1.2s\n",
            "[CV] activation=relu, init=normal ....................................\n",
            "[CV] ........ activation=relu, init=normal, score=0.000, total=   1.7s\n",
            "[CV] activation=relu, init=normal ....................................\n",
            "[CV] ........ activation=relu, init=normal, score=0.016, total=   1.3s\n",
            "[CV] activation=relu, init=normal ....................................\n",
            "[CV] ........ activation=relu, init=normal, score=0.000, total=   1.2s\n",
            "[CV] activation=relu, init=zero ......................................\n",
            "[CV] .......... activation=relu, init=zero, score=0.000, total=   1.5s\n",
            "[CV] activation=relu, init=zero ......................................\n",
            "[CV] .......... activation=relu, init=zero, score=0.000, total=   1.6s\n",
            "[CV] activation=relu, init=zero ......................................\n",
            "[CV] .......... activation=relu, init=zero, score=0.000, total=   1.2s\n",
            "[CV] activation=relu, init=zero ......................................\n",
            "[CV] .......... activation=relu, init=zero, score=0.016, total=   1.6s\n",
            "[CV] activation=relu, init=zero ......................................\n",
            "[CV] .......... activation=relu, init=zero, score=0.000, total=   1.5s\n",
            "[CV] activation=tanh, init=uniform ...................................\n",
            "[CV] ....... activation=tanh, init=uniform, score=0.000, total=   1.5s\n",
            "[CV] activation=tanh, init=uniform ...................................\n",
            "[CV] ....... activation=tanh, init=uniform, score=0.000, total=   1.5s\n",
            "[CV] activation=tanh, init=uniform ...................................\n",
            "[CV] ....... activation=tanh, init=uniform, score=0.000, total=   1.5s\n",
            "[CV] activation=tanh, init=uniform ...................................\n",
            "[CV] ....... activation=tanh, init=uniform, score=0.016, total=   1.9s\n",
            "[CV] activation=tanh, init=uniform ...................................\n",
            "[CV] ....... activation=tanh, init=uniform, score=0.000, total=   1.5s\n",
            "[CV] activation=tanh, init=normal ....................................\n",
            "[CV] ........ activation=tanh, init=normal, score=0.000, total=   1.6s\n",
            "[CV] activation=tanh, init=normal ....................................\n",
            "[CV] ........ activation=tanh, init=normal, score=0.000, total=   1.2s\n",
            "[CV] activation=tanh, init=normal ....................................\n",
            "[CV] ........ activation=tanh, init=normal, score=0.000, total=   1.5s\n",
            "[CV] activation=tanh, init=normal ....................................\n",
            "[CV] ........ activation=tanh, init=normal, score=0.000, total=   1.2s\n",
            "[CV] activation=tanh, init=normal ....................................\n",
            "[CV] ........ activation=tanh, init=normal, score=0.000, total=   1.5s\n",
            "[CV] activation=tanh, init=zero ......................................\n",
            "[CV] .......... activation=tanh, init=zero, score=0.000, total=   1.2s\n",
            "[CV] activation=tanh, init=zero ......................................\n",
            "[CV] .......... activation=tanh, init=zero, score=0.000, total=   1.2s\n",
            "[CV] activation=tanh, init=zero ......................................\n",
            "[CV] .......... activation=tanh, init=zero, score=0.000, total=   1.5s\n",
            "[CV] activation=tanh, init=zero ......................................\n",
            "[CV] .......... activation=tanh, init=zero, score=0.016, total=   1.2s\n",
            "[CV] activation=tanh, init=zero ......................................\n",
            "[CV] .......... activation=tanh, init=zero, score=0.000, total=   1.9s\n",
            "[CV] activation=linear, init=uniform .................................\n",
            "[CV] ..... activation=linear, init=uniform, score=0.000, total=   1.2s\n",
            "[CV] activation=linear, init=uniform .................................\n",
            "[CV] ..... activation=linear, init=uniform, score=0.000, total=   1.2s\n",
            "[CV] activation=linear, init=uniform .................................\n",
            "[CV] ..... activation=linear, init=uniform, score=0.000, total=   1.2s\n",
            "[CV] activation=linear, init=uniform .................................\n",
            "[CV] ..... activation=linear, init=uniform, score=0.016, total=   1.2s\n",
            "[CV] activation=linear, init=uniform .................................\n",
            "[CV] ..... activation=linear, init=uniform, score=0.000, total=   1.2s\n",
            "[CV] activation=linear, init=normal ..................................\n",
            "[CV] ...... activation=linear, init=normal, score=0.000, total=   1.2s\n",
            "[CV] activation=linear, init=normal ..................................\n",
            "[CV] ...... activation=linear, init=normal, score=0.000, total=   1.5s\n",
            "[CV] activation=linear, init=normal ..................................\n",
            "[CV] ...... activation=linear, init=normal, score=0.000, total=   1.2s\n",
            "[CV] activation=linear, init=normal ..................................\n",
            "[CV] ...... activation=linear, init=normal, score=0.016, total=   1.5s\n",
            "[CV] activation=linear, init=normal ..................................\n",
            "[CV] ...... activation=linear, init=normal, score=0.000, total=   1.1s\n",
            "[CV] activation=linear, init=zero ....................................\n",
            "[CV] ........ activation=linear, init=zero, score=0.000, total=   1.6s\n",
            "[CV] activation=linear, init=zero ....................................\n",
            "[CV] ........ activation=linear, init=zero, score=0.000, total=   1.5s\n",
            "[CV] activation=linear, init=zero ....................................\n",
            "[CV] ........ activation=linear, init=zero, score=0.000, total=   1.2s\n",
            "[CV] activation=linear, init=zero ....................................\n",
            "[CV] ........ activation=linear, init=zero, score=0.016, total=   1.2s\n",
            "[CV] activation=linear, init=zero ....................................\n",
            "[CV] ........ activation=linear, init=zero, score=0.000, total=   1.5s\n"
          ],
          "name": "stdout"
        },
        {
          "output_type": "stream",
          "text": [
            "[Parallel(n_jobs=1)]: Done  60 out of  60 | elapsed:  1.4min finished\n"
          ],
          "name": "stderr"
        },
        {
          "output_type": "stream",
          "text": [
            "Best: 0.0032258063554763796, using {'activation': 'softmax', 'init': 'uniform'}\n",
            "0.0032258063554763796 (0.006451612710952759) with: {'activation': 'softmax', 'init': 'uniform'}\n",
            "0.0 (0.0) with: {'activation': 'softmax', 'init': 'normal'}\n",
            "0.0032258063554763796 (0.006451612710952759) with: {'activation': 'softmax', 'init': 'zero'}\n",
            "0.0032258063554763796 (0.006451612710952759) with: {'activation': 'relu', 'init': 'uniform'}\n",
            "0.0032258063554763796 (0.006451612710952759) with: {'activation': 'relu', 'init': 'normal'}\n",
            "0.0032258063554763796 (0.006451612710952759) with: {'activation': 'relu', 'init': 'zero'}\n",
            "0.0032258063554763796 (0.006451612710952759) with: {'activation': 'tanh', 'init': 'uniform'}\n",
            "0.0 (0.0) with: {'activation': 'tanh', 'init': 'normal'}\n",
            "0.0032258063554763796 (0.006451612710952759) with: {'activation': 'tanh', 'init': 'zero'}\n",
            "0.0032258063554763796 (0.006451612710952759) with: {'activation': 'linear', 'init': 'uniform'}\n",
            "0.0032258063554763796 (0.006451612710952759) with: {'activation': 'linear', 'init': 'normal'}\n",
            "0.0032258063554763796 (0.006451612710952759) with: {'activation': 'linear', 'init': 'zero'}\n"
          ],
          "name": "stdout"
        }
      ]
    },
    {
      "cell_type": "code",
      "metadata": {
        "id": "IRzaPzkiW7wa"
      },
      "source": [
        "best_activation = 'softmax'\n",
        "best_init = 'uniform'"
      ],
      "execution_count": null,
      "outputs": []
    },
    {
      "cell_type": "code",
      "metadata": {
        "colab": {
          "base_uri": "https://localhost:8080/"
        },
        "id": "Wyc3xQzJOtPp",
        "outputId": "16e37672-9c2b-4dd3-a2d7-95407053a2e4"
      },
      "source": [
        "# Do a grid search to find the optimal number of neurons in each hidden layer\n",
        "# import necessary packages\n",
        "\n",
        "\n",
        "# Start defining the model\n",
        "def create_model(neuron1, neuron2, neuron3):\n",
        "    # create model\n",
        "    model = Sequential()\n",
        "    model.add(Dense(neuron1, input_dim = 6, kernel_initializer= best_init, activation= best_activation))\n",
        "    model.add(Dense(neuron2, input_dim = neuron1, kernel_initializer= best_init, activation= best_activation))\n",
        "    model.add(Dense(neuron3, input_dim = neuron2, kernel_initializer= best_init, activation= best_activation))\n",
        "    model.add(Dense(1, activation='sigmoid'))\n",
        "\n",
        "    # compile the model\n",
        "    adam = Adam(lr = best_learn_rate)\n",
        "    model.compile(loss = 'binary_crossentropy', optimizer = adam, metrics = ['accuracy'])\n",
        "    return model\n",
        "\n",
        "# create the model\n",
        "model = KerasClassifier(build_fn = create_model, epochs = best_epochs, batch_size = best_batch_size, verbose = 0)\n",
        "\n",
        "# define the grid search parameters\n",
        "neuron1 = [6, 12, 24,36]\n",
        "neuron2 = [24, 36,48, 60]\n",
        "neuron3 = [6, 12,24, 36]\n",
        "\n",
        "# make a dictionary of the grid search parameters\n",
        "param_grid = dict(neuron1 = neuron1, neuron2 = neuron2, neuron3 = neuron3)\n",
        "\n",
        "# build and fit the GridSearchCV\n",
        "grid = GridSearchCV(estimator = model, param_grid = param_grid, cv = KFold(random_state=seed), refit = True, verbose = 10)\n",
        "grid_results = grid.fit(X_standardized, Y)\n",
        "\n",
        "# summarize the results\n",
        "print(\"Best: {0}, using {1}\".format(grid_results.best_score_, grid_results.best_params_))\n",
        "means = grid_results.cv_results_['mean_test_score']\n",
        "stds = grid_results.cv_results_['std_test_score']\n",
        "params = grid_results.cv_results_['params']\n",
        "for mean, stdev, param in zip(means, stds, params):\n",
        "    print('{0} ({1}) with: {2}'.format(mean, stdev, param))"
      ],
      "execution_count": null,
      "outputs": [
        {
          "output_type": "stream",
          "text": [
            "Fitting 5 folds for each of 64 candidates, totalling 320 fits\n",
            "[CV] neuron1=6, neuron2=24, neuron3=6 ................................\n"
          ],
          "name": "stdout"
        },
        {
          "output_type": "stream",
          "text": [
            "[Parallel(n_jobs=1)]: Using backend SequentialBackend with 1 concurrent workers.\n"
          ],
          "name": "stderr"
        },
        {
          "output_type": "stream",
          "text": [
            "[CV] .... neuron1=6, neuron2=24, neuron3=6, score=0.000, total=   1.6s\n",
            "[CV] neuron1=6, neuron2=24, neuron3=6 ................................\n"
          ],
          "name": "stdout"
        },
        {
          "output_type": "stream",
          "text": [
            "[Parallel(n_jobs=1)]: Done   1 out of   1 | elapsed:    1.6s remaining:    0.0s\n"
          ],
          "name": "stderr"
        },
        {
          "output_type": "stream",
          "text": [
            "[CV] .... neuron1=6, neuron2=24, neuron3=6, score=0.000, total=   1.5s\n",
            "[CV] neuron1=6, neuron2=24, neuron3=6 ................................\n"
          ],
          "name": "stdout"
        },
        {
          "output_type": "stream",
          "text": [
            "[Parallel(n_jobs=1)]: Done   2 out of   2 | elapsed:    3.1s remaining:    0.0s\n"
          ],
          "name": "stderr"
        },
        {
          "output_type": "stream",
          "text": [
            "[CV] .... neuron1=6, neuron2=24, neuron3=6, score=0.000, total=   1.3s\n",
            "[CV] neuron1=6, neuron2=24, neuron3=6 ................................\n"
          ],
          "name": "stdout"
        },
        {
          "output_type": "stream",
          "text": [
            "[Parallel(n_jobs=1)]: Done   3 out of   3 | elapsed:    4.4s remaining:    0.0s\n"
          ],
          "name": "stderr"
        },
        {
          "output_type": "stream",
          "text": [
            "[CV] .... neuron1=6, neuron2=24, neuron3=6, score=0.000, total=   1.6s\n",
            "[CV] neuron1=6, neuron2=24, neuron3=6 ................................\n"
          ],
          "name": "stdout"
        },
        {
          "output_type": "stream",
          "text": [
            "[Parallel(n_jobs=1)]: Done   4 out of   4 | elapsed:    6.0s remaining:    0.0s\n"
          ],
          "name": "stderr"
        },
        {
          "output_type": "stream",
          "text": [
            "[CV] .... neuron1=6, neuron2=24, neuron3=6, score=0.000, total=   1.5s\n",
            "[CV] neuron1=6, neuron2=24, neuron3=12 ...............................\n"
          ],
          "name": "stdout"
        },
        {
          "output_type": "stream",
          "text": [
            "[Parallel(n_jobs=1)]: Done   5 out of   5 | elapsed:    7.5s remaining:    0.0s\n"
          ],
          "name": "stderr"
        },
        {
          "output_type": "stream",
          "text": [
            "[CV] ... neuron1=6, neuron2=24, neuron3=12, score=0.000, total=   1.2s\n",
            "[CV] neuron1=6, neuron2=24, neuron3=12 ...............................\n"
          ],
          "name": "stdout"
        },
        {
          "output_type": "stream",
          "text": [
            "[Parallel(n_jobs=1)]: Done   6 out of   6 | elapsed:    8.7s remaining:    0.0s\n"
          ],
          "name": "stderr"
        },
        {
          "output_type": "stream",
          "text": [
            "[CV] ... neuron1=6, neuron2=24, neuron3=12, score=0.000, total=   1.6s\n",
            "[CV] neuron1=6, neuron2=24, neuron3=12 ...............................\n"
          ],
          "name": "stdout"
        },
        {
          "output_type": "stream",
          "text": [
            "[Parallel(n_jobs=1)]: Done   7 out of   7 | elapsed:   10.3s remaining:    0.0s\n"
          ],
          "name": "stderr"
        },
        {
          "output_type": "stream",
          "text": [
            "[CV] ... neuron1=6, neuron2=24, neuron3=12, score=0.000, total=   1.2s\n",
            "[CV] neuron1=6, neuron2=24, neuron3=12 ...............................\n"
          ],
          "name": "stdout"
        },
        {
          "output_type": "stream",
          "text": [
            "[Parallel(n_jobs=1)]: Done   8 out of   8 | elapsed:   11.6s remaining:    0.0s\n"
          ],
          "name": "stderr"
        },
        {
          "output_type": "stream",
          "text": [
            "[CV] ... neuron1=6, neuron2=24, neuron3=12, score=0.000, total=   1.2s\n",
            "[CV] neuron1=6, neuron2=24, neuron3=12 ...............................\n"
          ],
          "name": "stdout"
        },
        {
          "output_type": "stream",
          "text": [
            "[Parallel(n_jobs=1)]: Done   9 out of   9 | elapsed:   12.8s remaining:    0.0s\n"
          ],
          "name": "stderr"
        },
        {
          "output_type": "stream",
          "text": [
            "[CV] ... neuron1=6, neuron2=24, neuron3=12, score=0.000, total=   1.6s\n",
            "[CV] neuron1=6, neuron2=24, neuron3=24 ...............................\n",
            "[CV] ... neuron1=6, neuron2=24, neuron3=24, score=0.000, total=   1.6s\n",
            "[CV] neuron1=6, neuron2=24, neuron3=24 ...............................\n",
            "[CV] ... neuron1=6, neuron2=24, neuron3=24, score=0.000, total=   1.5s\n",
            "[CV] neuron1=6, neuron2=24, neuron3=24 ...............................\n",
            "[CV] ... neuron1=6, neuron2=24, neuron3=24, score=0.000, total=   1.5s\n",
            "[CV] neuron1=6, neuron2=24, neuron3=24 ...............................\n",
            "[CV] ... neuron1=6, neuron2=24, neuron3=24, score=0.000, total=   1.5s\n",
            "[CV] neuron1=6, neuron2=24, neuron3=24 ...............................\n",
            "[CV] ... neuron1=6, neuron2=24, neuron3=24, score=0.000, total=   1.5s\n",
            "[CV] neuron1=6, neuron2=24, neuron3=36 ...............................\n",
            "[CV] ... neuron1=6, neuron2=24, neuron3=36, score=0.000, total=   1.5s\n",
            "[CV] neuron1=6, neuron2=24, neuron3=36 ...............................\n",
            "[CV] ... neuron1=6, neuron2=24, neuron3=36, score=0.000, total=   1.5s\n",
            "[CV] neuron1=6, neuron2=24, neuron3=36 ...............................\n",
            "[CV] ... neuron1=6, neuron2=24, neuron3=36, score=0.000, total=   1.9s\n",
            "[CV] neuron1=6, neuron2=24, neuron3=36 ...............................\n",
            "[CV] ... neuron1=6, neuron2=24, neuron3=36, score=0.016, total=   1.6s\n",
            "[CV] neuron1=6, neuron2=24, neuron3=36 ...............................\n",
            "[CV] ... neuron1=6, neuron2=24, neuron3=36, score=0.016, total=   1.5s\n",
            "[CV] neuron1=6, neuron2=36, neuron3=6 ................................\n",
            "[CV] .... neuron1=6, neuron2=36, neuron3=6, score=0.000, total=   1.5s\n",
            "[CV] neuron1=6, neuron2=36, neuron3=6 ................................\n",
            "[CV] .... neuron1=6, neuron2=36, neuron3=6, score=0.000, total=   1.2s\n",
            "[CV] neuron1=6, neuron2=36, neuron3=6 ................................\n",
            "[CV] .... neuron1=6, neuron2=36, neuron3=6, score=0.000, total=   1.5s\n",
            "[CV] neuron1=6, neuron2=36, neuron3=6 ................................\n",
            "[CV] .... neuron1=6, neuron2=36, neuron3=6, score=0.016, total=   1.5s\n",
            "[CV] neuron1=6, neuron2=36, neuron3=6 ................................\n",
            "[CV] .... neuron1=6, neuron2=36, neuron3=6, score=0.016, total=   1.4s\n",
            "[CV] neuron1=6, neuron2=36, neuron3=12 ...............................\n",
            "[CV] ... neuron1=6, neuron2=36, neuron3=12, score=0.000, total=   1.6s\n",
            "[CV] neuron1=6, neuron2=36, neuron3=12 ...............................\n",
            "[CV] ... neuron1=6, neuron2=36, neuron3=12, score=0.000, total=   1.2s\n",
            "[CV] neuron1=6, neuron2=36, neuron3=12 ...............................\n",
            "[CV] ... neuron1=6, neuron2=36, neuron3=12, score=0.000, total=   1.5s\n",
            "[CV] neuron1=6, neuron2=36, neuron3=12 ...............................\n",
            "[CV] ... neuron1=6, neuron2=36, neuron3=12, score=0.016, total=   1.5s\n",
            "[CV] neuron1=6, neuron2=36, neuron3=12 ...............................\n",
            "[CV] ... neuron1=6, neuron2=36, neuron3=12, score=0.000, total=   1.9s\n",
            "[CV] neuron1=6, neuron2=36, neuron3=24 ...............................\n",
            "[CV] ... neuron1=6, neuron2=36, neuron3=24, score=0.000, total=   1.5s\n",
            "[CV] neuron1=6, neuron2=36, neuron3=24 ...............................\n",
            "[CV] ... neuron1=6, neuron2=36, neuron3=24, score=0.000, total=   1.5s\n",
            "[CV] neuron1=6, neuron2=36, neuron3=24 ...............................\n",
            "[CV] ... neuron1=6, neuron2=36, neuron3=24, score=0.000, total=   1.6s\n",
            "[CV] neuron1=6, neuron2=36, neuron3=24 ...............................\n",
            "[CV] ... neuron1=6, neuron2=36, neuron3=24, score=0.016, total=   1.2s\n",
            "[CV] neuron1=6, neuron2=36, neuron3=24 ...............................\n",
            "[CV] ... neuron1=6, neuron2=36, neuron3=24, score=0.000, total=   1.5s\n",
            "[CV] neuron1=6, neuron2=36, neuron3=36 ...............................\n",
            "[CV] ... neuron1=6, neuron2=36, neuron3=36, score=0.000, total=   1.5s\n",
            "[CV] neuron1=6, neuron2=36, neuron3=36 ...............................\n",
            "[CV] ... neuron1=6, neuron2=36, neuron3=36, score=0.000, total=   1.6s\n",
            "[CV] neuron1=6, neuron2=36, neuron3=36 ...............................\n",
            "[CV] ... neuron1=6, neuron2=36, neuron3=36, score=0.000, total=   1.2s\n",
            "[CV] neuron1=6, neuron2=36, neuron3=36 ...............................\n",
            "[CV] ... neuron1=6, neuron2=36, neuron3=36, score=0.016, total=   1.5s\n",
            "[CV] neuron1=6, neuron2=36, neuron3=36 ...............................\n",
            "[CV] ... neuron1=6, neuron2=36, neuron3=36, score=0.016, total=   1.6s\n",
            "[CV] neuron1=6, neuron2=48, neuron3=6 ................................\n",
            "[CV] .... neuron1=6, neuron2=48, neuron3=6, score=0.000, total=   1.5s\n",
            "[CV] neuron1=6, neuron2=48, neuron3=6 ................................\n",
            "[CV] .... neuron1=6, neuron2=48, neuron3=6, score=0.000, total=   1.5s\n",
            "[CV] neuron1=6, neuron2=48, neuron3=6 ................................\n",
            "[CV] .... neuron1=6, neuron2=48, neuron3=6, score=0.000, total=   1.2s\n",
            "[CV] neuron1=6, neuron2=48, neuron3=6 ................................\n",
            "[CV] .... neuron1=6, neuron2=48, neuron3=6, score=0.016, total=   1.6s\n",
            "[CV] neuron1=6, neuron2=48, neuron3=6 ................................\n",
            "[CV] .... neuron1=6, neuron2=48, neuron3=6, score=0.000, total=   1.2s\n",
            "[CV] neuron1=6, neuron2=48, neuron3=12 ...............................\n",
            "[CV] ... neuron1=6, neuron2=48, neuron3=12, score=0.000, total=   1.6s\n",
            "[CV] neuron1=6, neuron2=48, neuron3=12 ...............................\n",
            "[CV] ... neuron1=6, neuron2=48, neuron3=12, score=0.000, total=   1.5s\n",
            "[CV] neuron1=6, neuron2=48, neuron3=12 ...............................\n",
            "[CV] ... neuron1=6, neuron2=48, neuron3=12, score=0.000, total=   1.5s\n",
            "[CV] neuron1=6, neuron2=48, neuron3=12 ...............................\n",
            "[CV] ... neuron1=6, neuron2=48, neuron3=12, score=0.016, total=   1.5s\n",
            "[CV] neuron1=6, neuron2=48, neuron3=12 ...............................\n",
            "[CV] ... neuron1=6, neuron2=48, neuron3=12, score=0.000, total=   1.2s\n",
            "[CV] neuron1=6, neuron2=48, neuron3=24 ...............................\n",
            "[CV] ... neuron1=6, neuron2=48, neuron3=24, score=0.000, total=   1.5s\n",
            "[CV] neuron1=6, neuron2=48, neuron3=24 ...............................\n",
            "[CV] ... neuron1=6, neuron2=48, neuron3=24, score=0.000, total=   1.7s\n",
            "[CV] neuron1=6, neuron2=48, neuron3=24 ...............................\n",
            "[CV] ... neuron1=6, neuron2=48, neuron3=24, score=0.000, total=   1.5s\n",
            "[CV] neuron1=6, neuron2=48, neuron3=24 ...............................\n",
            "[CV] ... neuron1=6, neuron2=48, neuron3=24, score=0.016, total=   1.6s\n",
            "[CV] neuron1=6, neuron2=48, neuron3=24 ...............................\n",
            "[CV] ... neuron1=6, neuron2=48, neuron3=24, score=0.000, total=   1.3s\n",
            "[CV] neuron1=6, neuron2=48, neuron3=36 ...............................\n",
            "[CV] ... neuron1=6, neuron2=48, neuron3=36, score=0.000, total=   1.5s\n",
            "[CV] neuron1=6, neuron2=48, neuron3=36 ...............................\n",
            "[CV] ... neuron1=6, neuron2=48, neuron3=36, score=0.000, total=   1.5s\n",
            "[CV] neuron1=6, neuron2=48, neuron3=36 ...............................\n",
            "[CV] ... neuron1=6, neuron2=48, neuron3=36, score=0.000, total=   1.5s\n",
            "[CV] neuron1=6, neuron2=48, neuron3=36 ...............................\n",
            "[CV] ... neuron1=6, neuron2=48, neuron3=36, score=0.016, total=   1.6s\n",
            "[CV] neuron1=6, neuron2=48, neuron3=36 ...............................\n",
            "[CV] ... neuron1=6, neuron2=48, neuron3=36, score=0.016, total=   1.5s\n",
            "[CV] neuron1=6, neuron2=60, neuron3=6 ................................\n",
            "[CV] .... neuron1=6, neuron2=60, neuron3=6, score=0.000, total=   1.2s\n",
            "[CV] neuron1=6, neuron2=60, neuron3=6 ................................\n",
            "[CV] .... neuron1=6, neuron2=60, neuron3=6, score=0.000, total=   1.9s\n",
            "[CV] neuron1=6, neuron2=60, neuron3=6 ................................\n",
            "[CV] .... neuron1=6, neuron2=60, neuron3=6, score=0.000, total=   1.3s\n",
            "[CV] neuron1=6, neuron2=60, neuron3=6 ................................\n",
            "[CV] .... neuron1=6, neuron2=60, neuron3=6, score=0.000, total=   1.6s\n",
            "[CV] neuron1=6, neuron2=60, neuron3=6 ................................\n",
            "[CV] .... neuron1=6, neuron2=60, neuron3=6, score=0.000, total=   1.2s\n",
            "[CV] neuron1=6, neuron2=60, neuron3=12 ...............................\n",
            "[CV] ... neuron1=6, neuron2=60, neuron3=12, score=0.000, total=   1.5s\n",
            "[CV] neuron1=6, neuron2=60, neuron3=12 ...............................\n",
            "[CV] ... neuron1=6, neuron2=60, neuron3=12, score=0.000, total=   1.5s\n",
            "[CV] neuron1=6, neuron2=60, neuron3=12 ...............................\n",
            "[CV] ... neuron1=6, neuron2=60, neuron3=12, score=0.000, total=   1.5s\n",
            "[CV] neuron1=6, neuron2=60, neuron3=12 ...............................\n",
            "[CV] ... neuron1=6, neuron2=60, neuron3=12, score=0.016, total=   1.2s\n",
            "[CV] neuron1=6, neuron2=60, neuron3=12 ...............................\n",
            "[CV] ... neuron1=6, neuron2=60, neuron3=12, score=0.016, total=   1.5s\n",
            "[CV] neuron1=6, neuron2=60, neuron3=24 ...............................\n",
            "[CV] ... neuron1=6, neuron2=60, neuron3=24, score=0.000, total=   1.6s\n",
            "[CV] neuron1=6, neuron2=60, neuron3=24 ...............................\n",
            "[CV] ... neuron1=6, neuron2=60, neuron3=24, score=0.000, total=   1.5s\n",
            "[CV] neuron1=6, neuron2=60, neuron3=24 ...............................\n",
            "[CV] ... neuron1=6, neuron2=60, neuron3=24, score=0.000, total=   1.9s\n",
            "[CV] neuron1=6, neuron2=60, neuron3=24 ...............................\n",
            "[CV] ... neuron1=6, neuron2=60, neuron3=24, score=0.016, total=   1.6s\n",
            "[CV] neuron1=6, neuron2=60, neuron3=24 ...............................\n",
            "[CV] ... neuron1=6, neuron2=60, neuron3=24, score=0.000, total=   1.5s\n",
            "[CV] neuron1=6, neuron2=60, neuron3=36 ...............................\n",
            "[CV] ... neuron1=6, neuron2=60, neuron3=36, score=0.000, total=   1.2s\n",
            "[CV] neuron1=6, neuron2=60, neuron3=36 ...............................\n",
            "[CV] ... neuron1=6, neuron2=60, neuron3=36, score=0.000, total=   1.6s\n",
            "[CV] neuron1=6, neuron2=60, neuron3=36 ...............................\n",
            "[CV] ... neuron1=6, neuron2=60, neuron3=36, score=0.000, total=   1.5s\n",
            "[CV] neuron1=6, neuron2=60, neuron3=36 ...............................\n",
            "[CV] ... neuron1=6, neuron2=60, neuron3=36, score=0.000, total=   1.5s\n",
            "[CV] neuron1=6, neuron2=60, neuron3=36 ...............................\n",
            "[CV] ... neuron1=6, neuron2=60, neuron3=36, score=0.000, total=   1.5s\n",
            "[CV] neuron1=12, neuron2=24, neuron3=6 ...............................\n",
            "[CV] ... neuron1=12, neuron2=24, neuron3=6, score=0.000, total=   1.5s\n",
            "[CV] neuron1=12, neuron2=24, neuron3=6 ...............................\n",
            "[CV] ... neuron1=12, neuron2=24, neuron3=6, score=0.000, total=   1.6s\n",
            "[CV] neuron1=12, neuron2=24, neuron3=6 ...............................\n",
            "[CV] ... neuron1=12, neuron2=24, neuron3=6, score=0.000, total=   1.5s\n",
            "[CV] neuron1=12, neuron2=24, neuron3=6 ...............................\n",
            "[CV] ... neuron1=12, neuron2=24, neuron3=6, score=0.000, total=   2.0s\n",
            "[CV] neuron1=12, neuron2=24, neuron3=6 ...............................\n",
            "[CV] ... neuron1=12, neuron2=24, neuron3=6, score=0.016, total=   1.6s\n",
            "[CV] neuron1=12, neuron2=24, neuron3=12 ..............................\n",
            "[CV] .. neuron1=12, neuron2=24, neuron3=12, score=0.000, total=   1.3s\n",
            "[CV] neuron1=12, neuron2=24, neuron3=12 ..............................\n",
            "[CV] .. neuron1=12, neuron2=24, neuron3=12, score=0.000, total=   1.6s\n",
            "[CV] neuron1=12, neuron2=24, neuron3=12 ..............................\n",
            "[CV] .. neuron1=12, neuron2=24, neuron3=12, score=0.000, total=   1.6s\n",
            "[CV] neuron1=12, neuron2=24, neuron3=12 ..............................\n",
            "[CV] .. neuron1=12, neuron2=24, neuron3=12, score=0.016, total=   1.3s\n",
            "[CV] neuron1=12, neuron2=24, neuron3=12 ..............................\n",
            "[CV] .. neuron1=12, neuron2=24, neuron3=12, score=0.016, total=   1.6s\n",
            "[CV] neuron1=12, neuron2=24, neuron3=24 ..............................\n",
            "[CV] .. neuron1=12, neuron2=24, neuron3=24, score=0.000, total=   1.5s\n",
            "[CV] neuron1=12, neuron2=24, neuron3=24 ..............................\n",
            "[CV] .. neuron1=12, neuron2=24, neuron3=24, score=0.000, total=   1.5s\n",
            "[CV] neuron1=12, neuron2=24, neuron3=24 ..............................\n",
            "[CV] .. neuron1=12, neuron2=24, neuron3=24, score=0.000, total=   1.5s\n",
            "[CV] neuron1=12, neuron2=24, neuron3=24 ..............................\n",
            "[CV] .. neuron1=12, neuron2=24, neuron3=24, score=0.000, total=   1.7s\n",
            "[CV] neuron1=12, neuron2=24, neuron3=24 ..............................\n",
            "[CV] .. neuron1=12, neuron2=24, neuron3=24, score=0.016, total=   1.5s\n",
            "[CV] neuron1=12, neuron2=24, neuron3=36 ..............................\n",
            "[CV] .. neuron1=12, neuron2=24, neuron3=36, score=0.000, total=   1.6s\n",
            "[CV] neuron1=12, neuron2=24, neuron3=36 ..............................\n",
            "[CV] .. neuron1=12, neuron2=24, neuron3=36, score=0.000, total=   1.5s\n",
            "[CV] neuron1=12, neuron2=24, neuron3=36 ..............................\n",
            "[CV] .. neuron1=12, neuron2=24, neuron3=36, score=0.000, total=   1.6s\n",
            "[CV] neuron1=12, neuron2=24, neuron3=36 ..............................\n",
            "[CV] .. neuron1=12, neuron2=24, neuron3=36, score=0.016, total=   1.2s\n",
            "[CV] neuron1=12, neuron2=24, neuron3=36 ..............................\n",
            "[CV] .. neuron1=12, neuron2=24, neuron3=36, score=0.016, total=   1.5s\n",
            "[CV] neuron1=12, neuron2=36, neuron3=6 ...............................\n",
            "[CV] ... neuron1=12, neuron2=36, neuron3=6, score=0.000, total=   1.5s\n",
            "[CV] neuron1=12, neuron2=36, neuron3=6 ...............................\n",
            "[CV] ... neuron1=12, neuron2=36, neuron3=6, score=0.000, total=   1.2s\n",
            "[CV] neuron1=12, neuron2=36, neuron3=6 ...............................\n",
            "[CV] ... neuron1=12, neuron2=36, neuron3=6, score=0.000, total=   1.5s\n",
            "[CV] neuron1=12, neuron2=36, neuron3=6 ...............................\n",
            "[CV] ... neuron1=12, neuron2=36, neuron3=6, score=0.000, total=   1.5s\n",
            "[CV] neuron1=12, neuron2=36, neuron3=6 ...............................\n",
            "[CV] ... neuron1=12, neuron2=36, neuron3=6, score=0.000, total=   1.7s\n",
            "[CV] neuron1=12, neuron2=36, neuron3=12 ..............................\n",
            "[CV] .. neuron1=12, neuron2=36, neuron3=12, score=0.000, total=   1.5s\n",
            "[CV] neuron1=12, neuron2=36, neuron3=12 ..............................\n",
            "[CV] .. neuron1=12, neuron2=36, neuron3=12, score=0.000, total=   1.6s\n",
            "[CV] neuron1=12, neuron2=36, neuron3=12 ..............................\n",
            "[CV] .. neuron1=12, neuron2=36, neuron3=12, score=0.000, total=   1.6s\n",
            "[CV] neuron1=12, neuron2=36, neuron3=12 ..............................\n",
            "[CV] .. neuron1=12, neuron2=36, neuron3=12, score=0.016, total=   1.5s\n",
            "[CV] neuron1=12, neuron2=36, neuron3=12 ..............................\n",
            "[CV] .. neuron1=12, neuron2=36, neuron3=12, score=0.016, total=   1.6s\n",
            "[CV] neuron1=12, neuron2=36, neuron3=24 ..............................\n",
            "[CV] .. neuron1=12, neuron2=36, neuron3=24, score=0.000, total=   1.5s\n",
            "[CV] neuron1=12, neuron2=36, neuron3=24 ..............................\n",
            "[CV] .. neuron1=12, neuron2=36, neuron3=24, score=0.000, total=   1.2s\n",
            "[CV] neuron1=12, neuron2=36, neuron3=24 ..............................\n",
            "[CV] .. neuron1=12, neuron2=36, neuron3=24, score=0.000, total=   1.2s\n",
            "[CV] neuron1=12, neuron2=36, neuron3=24 ..............................\n",
            "[CV] .. neuron1=12, neuron2=36, neuron3=24, score=0.016, total=   1.5s\n",
            "[CV] neuron1=12, neuron2=36, neuron3=24 ..............................\n",
            "[CV] .. neuron1=12, neuron2=36, neuron3=24, score=0.000, total=   1.5s\n",
            "[CV] neuron1=12, neuron2=36, neuron3=36 ..............................\n",
            "[CV] .. neuron1=12, neuron2=36, neuron3=36, score=0.000, total=   1.9s\n",
            "[CV] neuron1=12, neuron2=36, neuron3=36 ..............................\n",
            "[CV] .. neuron1=12, neuron2=36, neuron3=36, score=0.000, total=   1.2s\n",
            "[CV] neuron1=12, neuron2=36, neuron3=36 ..............................\n",
            "[CV] .. neuron1=12, neuron2=36, neuron3=36, score=0.000, total=   1.2s\n",
            "[CV] neuron1=12, neuron2=36, neuron3=36 ..............................\n",
            "[CV] .. neuron1=12, neuron2=36, neuron3=36, score=0.000, total=   1.5s\n",
            "[CV] neuron1=12, neuron2=36, neuron3=36 ..............................\n",
            "[CV] .. neuron1=12, neuron2=36, neuron3=36, score=0.000, total=   1.5s\n",
            "[CV] neuron1=12, neuron2=48, neuron3=6 ...............................\n",
            "[CV] ... neuron1=12, neuron2=48, neuron3=6, score=0.000, total=   1.6s\n",
            "[CV] neuron1=12, neuron2=48, neuron3=6 ...............................\n",
            "[CV] ... neuron1=12, neuron2=48, neuron3=6, score=0.000, total=   1.5s\n",
            "[CV] neuron1=12, neuron2=48, neuron3=6 ...............................\n",
            "[CV] ... neuron1=12, neuron2=48, neuron3=6, score=0.000, total=   1.2s\n",
            "[CV] neuron1=12, neuron2=48, neuron3=6 ...............................\n",
            "[CV] ... neuron1=12, neuron2=48, neuron3=6, score=0.000, total=   1.6s\n",
            "[CV] neuron1=12, neuron2=48, neuron3=6 ...............................\n",
            "[CV] ... neuron1=12, neuron2=48, neuron3=6, score=0.016, total=   1.9s\n",
            "[CV] neuron1=12, neuron2=48, neuron3=12 ..............................\n",
            "[CV] .. neuron1=12, neuron2=48, neuron3=12, score=0.000, total=   1.6s\n",
            "[CV] neuron1=12, neuron2=48, neuron3=12 ..............................\n",
            "[CV] .. neuron1=12, neuron2=48, neuron3=12, score=0.000, total=   1.5s\n",
            "[CV] neuron1=12, neuron2=48, neuron3=12 ..............................\n",
            "[CV] .. neuron1=12, neuron2=48, neuron3=12, score=0.000, total=   1.5s\n",
            "[CV] neuron1=12, neuron2=48, neuron3=12 ..............................\n",
            "[CV] .. neuron1=12, neuron2=48, neuron3=12, score=0.000, total=   1.3s\n",
            "[CV] neuron1=12, neuron2=48, neuron3=12 ..............................\n",
            "[CV] .. neuron1=12, neuron2=48, neuron3=12, score=0.016, total=   1.5s\n",
            "[CV] neuron1=12, neuron2=48, neuron3=24 ..............................\n",
            "[CV] .. neuron1=12, neuron2=48, neuron3=24, score=0.000, total=   1.5s\n",
            "[CV] neuron1=12, neuron2=48, neuron3=24 ..............................\n",
            "[CV] .. neuron1=12, neuron2=48, neuron3=24, score=0.000, total=   1.5s\n",
            "[CV] neuron1=12, neuron2=48, neuron3=24 ..............................\n",
            "[CV] .. neuron1=12, neuron2=48, neuron3=24, score=0.000, total=   1.5s\n",
            "[CV] neuron1=12, neuron2=48, neuron3=24 ..............................\n",
            "[CV] .. neuron1=12, neuron2=48, neuron3=24, score=0.000, total=   1.5s\n",
            "[CV] neuron1=12, neuron2=48, neuron3=24 ..............................\n",
            "[CV] .. neuron1=12, neuron2=48, neuron3=24, score=0.000, total=   1.5s\n",
            "[CV] neuron1=12, neuron2=48, neuron3=36 ..............................\n",
            "[CV] .. neuron1=12, neuron2=48, neuron3=36, score=0.000, total=   1.9s\n",
            "[CV] neuron1=12, neuron2=48, neuron3=36 ..............................\n",
            "[CV] .. neuron1=12, neuron2=48, neuron3=36, score=0.000, total=   1.3s\n",
            "[CV] neuron1=12, neuron2=48, neuron3=36 ..............................\n",
            "[CV] .. neuron1=12, neuron2=48, neuron3=36, score=0.000, total=   1.6s\n",
            "[CV] neuron1=12, neuron2=48, neuron3=36 ..............................\n",
            "[CV] .. neuron1=12, neuron2=48, neuron3=36, score=0.016, total=   1.5s\n",
            "[CV] neuron1=12, neuron2=48, neuron3=36 ..............................\n",
            "[CV] .. neuron1=12, neuron2=48, neuron3=36, score=0.016, total=   1.6s\n",
            "[CV] neuron1=12, neuron2=60, neuron3=6 ...............................\n",
            "[CV] ... neuron1=12, neuron2=60, neuron3=6, score=0.000, total=   1.2s\n",
            "[CV] neuron1=12, neuron2=60, neuron3=6 ...............................\n",
            "[CV] ... neuron1=12, neuron2=60, neuron3=6, score=0.000, total=   1.5s\n",
            "[CV] neuron1=12, neuron2=60, neuron3=6 ...............................\n",
            "[CV] ... neuron1=12, neuron2=60, neuron3=6, score=0.000, total=   1.3s\n",
            "[CV] neuron1=12, neuron2=60, neuron3=6 ...............................\n",
            "[CV] ... neuron1=12, neuron2=60, neuron3=6, score=0.016, total=   1.5s\n",
            "[CV] neuron1=12, neuron2=60, neuron3=6 ...............................\n",
            "[CV] ... neuron1=12, neuron2=60, neuron3=6, score=0.000, total=   1.5s\n",
            "[CV] neuron1=12, neuron2=60, neuron3=12 ..............................\n",
            "[CV] .. neuron1=12, neuron2=60, neuron3=12, score=0.000, total=   1.2s\n",
            "[CV] neuron1=12, neuron2=60, neuron3=12 ..............................\n",
            "[CV] .. neuron1=12, neuron2=60, neuron3=12, score=0.000, total=   1.6s\n",
            "[CV] neuron1=12, neuron2=60, neuron3=12 ..............................\n",
            "[CV] .. neuron1=12, neuron2=60, neuron3=12, score=0.000, total=   1.5s\n",
            "[CV] neuron1=12, neuron2=60, neuron3=12 ..............................\n",
            "[CV] .. neuron1=12, neuron2=60, neuron3=12, score=0.016, total=   1.5s\n",
            "[CV] neuron1=12, neuron2=60, neuron3=12 ..............................\n",
            "[CV] .. neuron1=12, neuron2=60, neuron3=12, score=0.000, total=   1.5s\n",
            "[CV] neuron1=12, neuron2=60, neuron3=24 ..............................\n",
            "[CV] .. neuron1=12, neuron2=60, neuron3=24, score=0.000, total=   1.5s\n",
            "[CV] neuron1=12, neuron2=60, neuron3=24 ..............................\n",
            "[CV] .. neuron1=12, neuron2=60, neuron3=24, score=0.000, total=   1.2s\n",
            "[CV] neuron1=12, neuron2=60, neuron3=24 ..............................\n",
            "[CV] .. neuron1=12, neuron2=60, neuron3=24, score=0.000, total=   1.5s\n",
            "[CV] neuron1=12, neuron2=60, neuron3=24 ..............................\n",
            "[CV] .. neuron1=12, neuron2=60, neuron3=24, score=0.000, total=   1.5s\n",
            "[CV] neuron1=12, neuron2=60, neuron3=24 ..............................\n",
            "[CV] .. neuron1=12, neuron2=60, neuron3=24, score=0.000, total=   1.5s\n",
            "[CV] neuron1=12, neuron2=60, neuron3=36 ..............................\n",
            "[CV] .. neuron1=12, neuron2=60, neuron3=36, score=0.000, total=   1.2s\n",
            "[CV] neuron1=12, neuron2=60, neuron3=36 ..............................\n",
            "[CV] .. neuron1=12, neuron2=60, neuron3=36, score=0.000, total=   1.5s\n",
            "[CV] neuron1=12, neuron2=60, neuron3=36 ..............................\n",
            "[CV] .. neuron1=12, neuron2=60, neuron3=36, score=0.000, total=   1.9s\n",
            "[CV] neuron1=12, neuron2=60, neuron3=36 ..............................\n",
            "[CV] .. neuron1=12, neuron2=60, neuron3=36, score=0.000, total=   1.2s\n",
            "[CV] neuron1=12, neuron2=60, neuron3=36 ..............................\n",
            "[CV] .. neuron1=12, neuron2=60, neuron3=36, score=0.000, total=   1.2s\n",
            "[CV] neuron1=24, neuron2=24, neuron3=6 ...............................\n",
            "[CV] ... neuron1=24, neuron2=24, neuron3=6, score=0.000, total=   1.5s\n",
            "[CV] neuron1=24, neuron2=24, neuron3=6 ...............................\n",
            "[CV] ... neuron1=24, neuron2=24, neuron3=6, score=0.000, total=   1.2s\n",
            "[CV] neuron1=24, neuron2=24, neuron3=6 ...............................\n",
            "[CV] ... neuron1=24, neuron2=24, neuron3=6, score=0.000, total=   1.5s\n",
            "[CV] neuron1=24, neuron2=24, neuron3=6 ...............................\n",
            "[CV] ... neuron1=24, neuron2=24, neuron3=6, score=0.000, total=   1.7s\n",
            "[CV] neuron1=24, neuron2=24, neuron3=6 ...............................\n",
            "[CV] ... neuron1=24, neuron2=24, neuron3=6, score=0.000, total=   1.6s\n",
            "[CV] neuron1=24, neuron2=24, neuron3=12 ..............................\n",
            "[CV] .. neuron1=24, neuron2=24, neuron3=12, score=0.000, total=   1.5s\n",
            "[CV] neuron1=24, neuron2=24, neuron3=12 ..............................\n",
            "[CV] .. neuron1=24, neuron2=24, neuron3=12, score=0.000, total=   1.5s\n",
            "[CV] neuron1=24, neuron2=24, neuron3=12 ..............................\n",
            "[CV] .. neuron1=24, neuron2=24, neuron3=12, score=0.000, total=   1.5s\n",
            "[CV] neuron1=24, neuron2=24, neuron3=12 ..............................\n",
            "[CV] .. neuron1=24, neuron2=24, neuron3=12, score=0.000, total=   2.0s\n",
            "[CV] neuron1=24, neuron2=24, neuron3=12 ..............................\n",
            "[CV] .. neuron1=24, neuron2=24, neuron3=12, score=0.016, total=   1.5s\n",
            "[CV] neuron1=24, neuron2=24, neuron3=24 ..............................\n",
            "[CV] .. neuron1=24, neuron2=24, neuron3=24, score=0.000, total=   1.5s\n",
            "[CV] neuron1=24, neuron2=24, neuron3=24 ..............................\n",
            "[CV] .. neuron1=24, neuron2=24, neuron3=24, score=0.000, total=   1.5s\n",
            "[CV] neuron1=24, neuron2=24, neuron3=24 ..............................\n",
            "[CV] .. neuron1=24, neuron2=24, neuron3=24, score=0.000, total=   1.5s\n",
            "[CV] neuron1=24, neuron2=24, neuron3=24 ..............................\n",
            "[CV] .. neuron1=24, neuron2=24, neuron3=24, score=0.016, total=   1.5s\n",
            "[CV] neuron1=24, neuron2=24, neuron3=24 ..............................\n",
            "[CV] .. neuron1=24, neuron2=24, neuron3=24, score=0.016, total=   1.5s\n",
            "[CV] neuron1=24, neuron2=24, neuron3=36 ..............................\n",
            "[CV] .. neuron1=24, neuron2=24, neuron3=36, score=0.000, total=   1.5s\n",
            "[CV] neuron1=24, neuron2=24, neuron3=36 ..............................\n",
            "[CV] .. neuron1=24, neuron2=24, neuron3=36, score=0.000, total=   1.5s\n",
            "[CV] neuron1=24, neuron2=24, neuron3=36 ..............................\n",
            "[CV] .. neuron1=24, neuron2=24, neuron3=36, score=0.000, total=   1.5s\n",
            "[CV] neuron1=24, neuron2=24, neuron3=36 ..............................\n",
            "[CV] .. neuron1=24, neuron2=24, neuron3=36, score=0.016, total=   1.9s\n",
            "[CV] neuron1=24, neuron2=24, neuron3=36 ..............................\n",
            "[CV] .. neuron1=24, neuron2=24, neuron3=36, score=0.000, total=   1.5s\n",
            "[CV] neuron1=24, neuron2=36, neuron3=6 ...............................\n",
            "[CV] ... neuron1=24, neuron2=36, neuron3=6, score=0.000, total=   1.5s\n",
            "[CV] neuron1=24, neuron2=36, neuron3=6 ...............................\n",
            "[CV] ... neuron1=24, neuron2=36, neuron3=6, score=0.000, total=   1.5s\n",
            "[CV] neuron1=24, neuron2=36, neuron3=6 ...............................\n",
            "[CV] ... neuron1=24, neuron2=36, neuron3=6, score=0.000, total=   1.5s\n",
            "[CV] neuron1=24, neuron2=36, neuron3=6 ...............................\n",
            "[CV] ... neuron1=24, neuron2=36, neuron3=6, score=0.000, total=   1.5s\n",
            "[CV] neuron1=24, neuron2=36, neuron3=6 ...............................\n",
            "[CV] ... neuron1=24, neuron2=36, neuron3=6, score=0.000, total=   1.5s\n",
            "[CV] neuron1=24, neuron2=36, neuron3=12 ..............................\n",
            "[CV] .. neuron1=24, neuron2=36, neuron3=12, score=0.000, total=   1.5s\n",
            "[CV] neuron1=24, neuron2=36, neuron3=12 ..............................\n",
            "[CV] .. neuron1=24, neuron2=36, neuron3=12, score=0.000, total=   1.6s\n",
            "[CV] neuron1=24, neuron2=36, neuron3=12 ..............................\n",
            "[CV] .. neuron1=24, neuron2=36, neuron3=12, score=0.000, total=   1.5s\n",
            "[CV] neuron1=24, neuron2=36, neuron3=12 ..............................\n",
            "[CV] .. neuron1=24, neuron2=36, neuron3=12, score=0.016, total=   1.5s\n",
            "[CV] neuron1=24, neuron2=36, neuron3=12 ..............................\n",
            "[CV] .. neuron1=24, neuron2=36, neuron3=12, score=0.016, total=   1.9s\n",
            "[CV] neuron1=24, neuron2=36, neuron3=24 ..............................\n",
            "[CV] .. neuron1=24, neuron2=36, neuron3=24, score=0.000, total=   1.2s\n",
            "[CV] neuron1=24, neuron2=36, neuron3=24 ..............................\n",
            "[CV] .. neuron1=24, neuron2=36, neuron3=24, score=0.000, total=   1.3s\n",
            "[CV] neuron1=24, neuron2=36, neuron3=24 ..............................\n",
            "[CV] .. neuron1=24, neuron2=36, neuron3=24, score=0.000, total=   1.5s\n",
            "[CV] neuron1=24, neuron2=36, neuron3=24 ..............................\n",
            "[CV] .. neuron1=24, neuron2=36, neuron3=24, score=0.016, total=   1.5s\n",
            "[CV] neuron1=24, neuron2=36, neuron3=24 ..............................\n",
            "[CV] .. neuron1=24, neuron2=36, neuron3=24, score=0.016, total=   1.2s\n",
            "[CV] neuron1=24, neuron2=36, neuron3=36 ..............................\n",
            "[CV] .. neuron1=24, neuron2=36, neuron3=36, score=0.000, total=   1.5s\n",
            "[CV] neuron1=24, neuron2=36, neuron3=36 ..............................\n",
            "[CV] .. neuron1=24, neuron2=36, neuron3=36, score=0.000, total=   1.5s\n",
            "[CV] neuron1=24, neuron2=36, neuron3=36 ..............................\n",
            "[CV] .. neuron1=24, neuron2=36, neuron3=36, score=0.000, total=   1.5s\n",
            "[CV] neuron1=24, neuron2=36, neuron3=36 ..............................\n",
            "[CV] .. neuron1=24, neuron2=36, neuron3=36, score=0.000, total=   1.5s\n",
            "[CV] neuron1=24, neuron2=36, neuron3=36 ..............................\n",
            "[CV] .. neuron1=24, neuron2=36, neuron3=36, score=0.016, total=   1.5s\n",
            "[CV] neuron1=24, neuron2=48, neuron3=6 ...............................\n",
            "[CV] ... neuron1=24, neuron2=48, neuron3=6, score=0.000, total=   1.7s\n",
            "[CV] neuron1=24, neuron2=48, neuron3=6 ...............................\n",
            "[CV] ... neuron1=24, neuron2=48, neuron3=6, score=0.000, total=   1.5s\n",
            "[CV] neuron1=24, neuron2=48, neuron3=6 ...............................\n",
            "[CV] ... neuron1=24, neuron2=48, neuron3=6, score=0.000, total=   1.6s\n",
            "[CV] neuron1=24, neuron2=48, neuron3=6 ...............................\n",
            "[CV] ... neuron1=24, neuron2=48, neuron3=6, score=0.000, total=   1.5s\n",
            "[CV] neuron1=24, neuron2=48, neuron3=6 ...............................\n",
            "[CV] ... neuron1=24, neuron2=48, neuron3=6, score=0.016, total=   1.5s\n",
            "[CV] neuron1=24, neuron2=48, neuron3=12 ..............................\n",
            "[CV] .. neuron1=24, neuron2=48, neuron3=12, score=0.000, total=   1.5s\n",
            "[CV] neuron1=24, neuron2=48, neuron3=12 ..............................\n",
            "[CV] .. neuron1=24, neuron2=48, neuron3=12, score=0.000, total=   1.5s\n",
            "[CV] neuron1=24, neuron2=48, neuron3=12 ..............................\n",
            "[CV] .. neuron1=24, neuron2=48, neuron3=12, score=0.000, total=   1.6s\n",
            "[CV] neuron1=24, neuron2=48, neuron3=12 ..............................\n",
            "[CV] .. neuron1=24, neuron2=48, neuron3=12, score=0.016, total=   1.5s\n",
            "[CV] neuron1=24, neuron2=48, neuron3=12 ..............................\n",
            "[CV] .. neuron1=24, neuron2=48, neuron3=12, score=0.016, total=   1.5s\n",
            "[CV] neuron1=24, neuron2=48, neuron3=24 ..............................\n",
            "[CV] .. neuron1=24, neuron2=48, neuron3=24, score=0.000, total=   1.5s\n",
            "[CV] neuron1=24, neuron2=48, neuron3=24 ..............................\n",
            "[CV] .. neuron1=24, neuron2=48, neuron3=24, score=0.000, total=   1.9s\n",
            "[CV] neuron1=24, neuron2=48, neuron3=24 ..............................\n",
            "[CV] .. neuron1=24, neuron2=48, neuron3=24, score=0.000, total=   1.5s\n",
            "[CV] neuron1=24, neuron2=48, neuron3=24 ..............................\n",
            "[CV] .. neuron1=24, neuron2=48, neuron3=24, score=0.000, total=   1.5s\n",
            "[CV] neuron1=24, neuron2=48, neuron3=24 ..............................\n",
            "[CV] .. neuron1=24, neuron2=48, neuron3=24, score=0.016, total=   1.5s\n",
            "[CV] neuron1=24, neuron2=48, neuron3=36 ..............................\n",
            "[CV] .. neuron1=24, neuron2=48, neuron3=36, score=0.000, total=   1.5s\n",
            "[CV] neuron1=24, neuron2=48, neuron3=36 ..............................\n",
            "[CV] .. neuron1=24, neuron2=48, neuron3=36, score=0.000, total=   1.5s\n",
            "[CV] neuron1=24, neuron2=48, neuron3=36 ..............................\n",
            "[CV] .. neuron1=24, neuron2=48, neuron3=36, score=0.000, total=   1.2s\n",
            "[CV] neuron1=24, neuron2=48, neuron3=36 ..............................\n",
            "[CV] .. neuron1=24, neuron2=48, neuron3=36, score=0.000, total=   1.5s\n",
            "[CV] neuron1=24, neuron2=48, neuron3=36 ..............................\n",
            "[CV] .. neuron1=24, neuron2=48, neuron3=36, score=0.000, total=   1.5s\n",
            "[CV] neuron1=24, neuron2=60, neuron3=6 ...............................\n",
            "[CV] ... neuron1=24, neuron2=60, neuron3=6, score=0.000, total=   1.5s\n",
            "[CV] neuron1=24, neuron2=60, neuron3=6 ...............................\n",
            "[CV] ... neuron1=24, neuron2=60, neuron3=6, score=0.000, total=   1.5s\n",
            "[CV] neuron1=24, neuron2=60, neuron3=6 ...............................\n",
            "[CV] ... neuron1=24, neuron2=60, neuron3=6, score=0.000, total=   1.6s\n",
            "[CV] neuron1=24, neuron2=60, neuron3=6 ...............................\n",
            "[CV] ... neuron1=24, neuron2=60, neuron3=6, score=0.016, total=   1.5s\n",
            "[CV] neuron1=24, neuron2=60, neuron3=6 ...............................\n",
            "[CV] ... neuron1=24, neuron2=60, neuron3=6, score=0.016, total=   1.2s\n",
            "[CV] neuron1=24, neuron2=60, neuron3=12 ..............................\n",
            "[CV] .. neuron1=24, neuron2=60, neuron3=12, score=0.000, total=   1.5s\n",
            "[CV] neuron1=24, neuron2=60, neuron3=12 ..............................\n",
            "[CV] .. neuron1=24, neuron2=60, neuron3=12, score=0.000, total=   1.5s\n",
            "[CV] neuron1=24, neuron2=60, neuron3=12 ..............................\n",
            "[CV] .. neuron1=24, neuron2=60, neuron3=12, score=0.000, total=   1.5s\n",
            "[CV] neuron1=24, neuron2=60, neuron3=12 ..............................\n",
            "[CV] .. neuron1=24, neuron2=60, neuron3=12, score=0.000, total=   1.5s\n",
            "[CV] neuron1=24, neuron2=60, neuron3=12 ..............................\n",
            "[CV] .. neuron1=24, neuron2=60, neuron3=12, score=0.000, total=   1.5s\n",
            "[CV] neuron1=24, neuron2=60, neuron3=24 ..............................\n",
            "[CV] .. neuron1=24, neuron2=60, neuron3=24, score=0.000, total=   1.5s\n",
            "[CV] neuron1=24, neuron2=60, neuron3=24 ..............................\n",
            "[CV] .. neuron1=24, neuron2=60, neuron3=24, score=0.000, total=   1.5s\n",
            "[CV] neuron1=24, neuron2=60, neuron3=24 ..............................\n",
            "[CV] .. neuron1=24, neuron2=60, neuron3=24, score=0.000, total=   1.6s\n",
            "[CV] neuron1=24, neuron2=60, neuron3=24 ..............................\n",
            "[CV] .. neuron1=24, neuron2=60, neuron3=24, score=0.000, total=   1.9s\n",
            "[CV] neuron1=24, neuron2=60, neuron3=24 ..............................\n",
            "[CV] .. neuron1=24, neuron2=60, neuron3=24, score=0.000, total=   1.6s\n",
            "[CV] neuron1=24, neuron2=60, neuron3=36 ..............................\n",
            "[CV] .. neuron1=24, neuron2=60, neuron3=36, score=0.000, total=   1.6s\n",
            "[CV] neuron1=24, neuron2=60, neuron3=36 ..............................\n",
            "[CV] .. neuron1=24, neuron2=60, neuron3=36, score=0.000, total=   1.5s\n",
            "[CV] neuron1=24, neuron2=60, neuron3=36 ..............................\n",
            "[CV] .. neuron1=24, neuron2=60, neuron3=36, score=0.000, total=   1.6s\n",
            "[CV] neuron1=24, neuron2=60, neuron3=36 ..............................\n",
            "[CV] .. neuron1=24, neuron2=60, neuron3=36, score=0.016, total=   1.5s\n",
            "[CV] neuron1=24, neuron2=60, neuron3=36 ..............................\n",
            "[CV] .. neuron1=24, neuron2=60, neuron3=36, score=0.016, total=   1.2s\n",
            "[CV] neuron1=36, neuron2=24, neuron3=6 ...............................\n",
            "[CV] ... neuron1=36, neuron2=24, neuron3=6, score=0.000, total=   1.5s\n",
            "[CV] neuron1=36, neuron2=24, neuron3=6 ...............................\n",
            "[CV] ... neuron1=36, neuron2=24, neuron3=6, score=0.000, total=   1.6s\n",
            "[CV] neuron1=36, neuron2=24, neuron3=6 ...............................\n",
            "[CV] ... neuron1=36, neuron2=24, neuron3=6, score=0.000, total=   1.5s\n",
            "[CV] neuron1=36, neuron2=24, neuron3=6 ...............................\n",
            "[CV] ... neuron1=36, neuron2=24, neuron3=6, score=0.000, total=   1.2s\n",
            "[CV] neuron1=36, neuron2=24, neuron3=6 ...............................\n",
            "[CV] ... neuron1=36, neuron2=24, neuron3=6, score=0.000, total=   1.6s\n",
            "[CV] neuron1=36, neuron2=24, neuron3=12 ..............................\n",
            "[CV] .. neuron1=36, neuron2=24, neuron3=12, score=0.000, total=   1.5s\n",
            "[CV] neuron1=36, neuron2=24, neuron3=12 ..............................\n",
            "[CV] .. neuron1=36, neuron2=24, neuron3=12, score=0.000, total=   1.5s\n",
            "[CV] neuron1=36, neuron2=24, neuron3=12 ..............................\n",
            "[CV] .. neuron1=36, neuron2=24, neuron3=12, score=0.000, total=   1.5s\n",
            "[CV] neuron1=36, neuron2=24, neuron3=12 ..............................\n",
            "[CV] .. neuron1=36, neuron2=24, neuron3=12, score=0.000, total=   1.5s\n",
            "[CV] neuron1=36, neuron2=24, neuron3=12 ..............................\n",
            "[CV] .. neuron1=36, neuron2=24, neuron3=12, score=0.000, total=   1.5s\n",
            "[CV] neuron1=36, neuron2=24, neuron3=24 ..............................\n",
            "[CV] .. neuron1=36, neuron2=24, neuron3=24, score=0.000, total=   1.6s\n",
            "[CV] neuron1=36, neuron2=24, neuron3=24 ..............................\n",
            "[CV] .. neuron1=36, neuron2=24, neuron3=24, score=0.000, total=   1.5s\n",
            "[CV] neuron1=36, neuron2=24, neuron3=24 ..............................\n",
            "[CV] .. neuron1=36, neuron2=24, neuron3=24, score=0.000, total=   1.5s\n",
            "[CV] neuron1=36, neuron2=24, neuron3=24 ..............................\n",
            "[CV] .. neuron1=36, neuron2=24, neuron3=24, score=0.016, total=   1.5s\n",
            "[CV] neuron1=36, neuron2=24, neuron3=24 ..............................\n",
            "[CV] .. neuron1=36, neuron2=24, neuron3=24, score=0.000, total=   1.5s\n",
            "[CV] neuron1=36, neuron2=24, neuron3=36 ..............................\n",
            "[CV] .. neuron1=36, neuron2=24, neuron3=36, score=0.000, total=   1.5s\n",
            "[CV] neuron1=36, neuron2=24, neuron3=36 ..............................\n",
            "[CV] .. neuron1=36, neuron2=24, neuron3=36, score=0.000, total=   1.7s\n",
            "[CV] neuron1=36, neuron2=24, neuron3=36 ..............................\n",
            "[CV] .. neuron1=36, neuron2=24, neuron3=36, score=0.000, total=   1.5s\n",
            "[CV] neuron1=36, neuron2=24, neuron3=36 ..............................\n",
            "[CV] .. neuron1=36, neuron2=24, neuron3=36, score=0.000, total=   1.5s\n",
            "[CV] neuron1=36, neuron2=24, neuron3=36 ..............................\n",
            "[CV] .. neuron1=36, neuron2=24, neuron3=36, score=0.016, total=   1.5s\n",
            "[CV] neuron1=36, neuron2=36, neuron3=6 ...............................\n",
            "[CV] ... neuron1=36, neuron2=36, neuron3=6, score=0.000, total=   1.6s\n",
            "[CV] neuron1=36, neuron2=36, neuron3=6 ...............................\n",
            "[CV] ... neuron1=36, neuron2=36, neuron3=6, score=0.000, total=   1.5s\n",
            "[CV] neuron1=36, neuron2=36, neuron3=6 ...............................\n",
            "[CV] ... neuron1=36, neuron2=36, neuron3=6, score=0.000, total=   1.5s\n",
            "[CV] neuron1=36, neuron2=36, neuron3=6 ...............................\n",
            "[CV] ... neuron1=36, neuron2=36, neuron3=6, score=0.000, total=   1.5s\n",
            "[CV] neuron1=36, neuron2=36, neuron3=6 ...............................\n",
            "[CV] ... neuron1=36, neuron2=36, neuron3=6, score=0.016, total=   1.5s\n",
            "[CV] neuron1=36, neuron2=36, neuron3=12 ..............................\n",
            "[CV] .. neuron1=36, neuron2=36, neuron3=12, score=0.000, total=   1.5s\n",
            "[CV] neuron1=36, neuron2=36, neuron3=12 ..............................\n",
            "[CV] .. neuron1=36, neuron2=36, neuron3=12, score=0.000, total=   1.9s\n",
            "[CV] neuron1=36, neuron2=36, neuron3=12 ..............................\n",
            "[CV] .. neuron1=36, neuron2=36, neuron3=12, score=0.000, total=   1.5s\n",
            "[CV] neuron1=36, neuron2=36, neuron3=12 ..............................\n",
            "[CV] .. neuron1=36, neuron2=36, neuron3=12, score=0.000, total=   1.5s\n",
            "[CV] neuron1=36, neuron2=36, neuron3=12 ..............................\n",
            "[CV] .. neuron1=36, neuron2=36, neuron3=12, score=0.016, total=   1.5s\n",
            "[CV] neuron1=36, neuron2=36, neuron3=24 ..............................\n",
            "[CV] .. neuron1=36, neuron2=36, neuron3=24, score=0.000, total=   1.5s\n",
            "[CV] neuron1=36, neuron2=36, neuron3=24 ..............................\n",
            "[CV] .. neuron1=36, neuron2=36, neuron3=24, score=0.000, total=   1.6s\n",
            "[CV] neuron1=36, neuron2=36, neuron3=24 ..............................\n",
            "[CV] .. neuron1=36, neuron2=36, neuron3=24, score=0.000, total=   1.5s\n",
            "[CV] neuron1=36, neuron2=36, neuron3=24 ..............................\n",
            "[CV] .. neuron1=36, neuron2=36, neuron3=24, score=0.016, total=   1.3s\n",
            "[CV] neuron1=36, neuron2=36, neuron3=24 ..............................\n",
            "[CV] .. neuron1=36, neuron2=36, neuron3=24, score=0.000, total=   1.5s\n",
            "[CV] neuron1=36, neuron2=36, neuron3=36 ..............................\n",
            "[CV] .. neuron1=36, neuron2=36, neuron3=36, score=0.000, total=   1.2s\n",
            "[CV] neuron1=36, neuron2=36, neuron3=36 ..............................\n",
            "[CV] .. neuron1=36, neuron2=36, neuron3=36, score=0.000, total=   1.5s\n",
            "[CV] neuron1=36, neuron2=36, neuron3=36 ..............................\n",
            "[CV] .. neuron1=36, neuron2=36, neuron3=36, score=0.000, total=   1.5s\n",
            "[CV] neuron1=36, neuron2=36, neuron3=36 ..............................\n",
            "[CV] .. neuron1=36, neuron2=36, neuron3=36, score=0.016, total=   1.9s\n",
            "[CV] neuron1=36, neuron2=36, neuron3=36 ..............................\n",
            "[CV] .. neuron1=36, neuron2=36, neuron3=36, score=0.016, total=   1.5s\n",
            "[CV] neuron1=36, neuron2=48, neuron3=6 ...............................\n",
            "[CV] ... neuron1=36, neuron2=48, neuron3=6, score=0.000, total=   1.5s\n",
            "[CV] neuron1=36, neuron2=48, neuron3=6 ...............................\n",
            "[CV] ... neuron1=36, neuron2=48, neuron3=6, score=0.000, total=   1.6s\n",
            "[CV] neuron1=36, neuron2=48, neuron3=6 ...............................\n",
            "[CV] ... neuron1=36, neuron2=48, neuron3=6, score=0.000, total=   1.5s\n",
            "[CV] neuron1=36, neuron2=48, neuron3=6 ...............................\n",
            "[CV] ... neuron1=36, neuron2=48, neuron3=6, score=0.016, total=   1.3s\n",
            "[CV] neuron1=36, neuron2=48, neuron3=6 ...............................\n",
            "[CV] ... neuron1=36, neuron2=48, neuron3=6, score=0.000, total=   1.5s\n",
            "[CV] neuron1=36, neuron2=48, neuron3=12 ..............................\n",
            "[CV] .. neuron1=36, neuron2=48, neuron3=12, score=0.000, total=   1.5s\n",
            "[CV] neuron1=36, neuron2=48, neuron3=12 ..............................\n",
            "[CV] .. neuron1=36, neuron2=48, neuron3=12, score=0.000, total=   1.5s\n",
            "[CV] neuron1=36, neuron2=48, neuron3=12 ..............................\n",
            "[CV] .. neuron1=36, neuron2=48, neuron3=12, score=0.000, total=   1.9s\n",
            "[CV] neuron1=36, neuron2=48, neuron3=12 ..............................\n",
            "[CV] .. neuron1=36, neuron2=48, neuron3=12, score=0.000, total=   1.6s\n",
            "[CV] neuron1=36, neuron2=48, neuron3=12 ..............................\n",
            "[CV] .. neuron1=36, neuron2=48, neuron3=12, score=0.000, total=   1.5s\n",
            "[CV] neuron1=36, neuron2=48, neuron3=24 ..............................\n",
            "[CV] .. neuron1=36, neuron2=48, neuron3=24, score=0.000, total=   1.5s\n",
            "[CV] neuron1=36, neuron2=48, neuron3=24 ..............................\n",
            "[CV] .. neuron1=36, neuron2=48, neuron3=24, score=0.000, total=   1.2s\n",
            "[CV] neuron1=36, neuron2=48, neuron3=24 ..............................\n",
            "[CV] .. neuron1=36, neuron2=48, neuron3=24, score=0.000, total=   1.5s\n",
            "[CV] neuron1=36, neuron2=48, neuron3=24 ..............................\n",
            "[CV] .. neuron1=36, neuron2=48, neuron3=24, score=0.000, total=   1.3s\n",
            "[CV] neuron1=36, neuron2=48, neuron3=24 ..............................\n",
            "[CV] .. neuron1=36, neuron2=48, neuron3=24, score=0.000, total=   1.5s\n",
            "[CV] neuron1=36, neuron2=48, neuron3=36 ..............................\n",
            "[CV] .. neuron1=36, neuron2=48, neuron3=36, score=0.000, total=   1.5s\n",
            "[CV] neuron1=36, neuron2=48, neuron3=36 ..............................\n",
            "[CV] .. neuron1=36, neuron2=48, neuron3=36, score=0.000, total=   1.2s\n",
            "[CV] neuron1=36, neuron2=48, neuron3=36 ..............................\n",
            "[CV] .. neuron1=36, neuron2=48, neuron3=36, score=0.000, total=   1.5s\n",
            "[CV] neuron1=36, neuron2=48, neuron3=36 ..............................\n",
            "[CV] .. neuron1=36, neuron2=48, neuron3=36, score=0.000, total=   1.9s\n",
            "[CV] neuron1=36, neuron2=48, neuron3=36 ..............................\n",
            "[CV] .. neuron1=36, neuron2=48, neuron3=36, score=0.016, total=   1.5s\n",
            "[CV] neuron1=36, neuron2=60, neuron3=6 ...............................\n",
            "[CV] ... neuron1=36, neuron2=60, neuron3=6, score=0.000, total=   1.5s\n",
            "[CV] neuron1=36, neuron2=60, neuron3=6 ...............................\n",
            "[CV] ... neuron1=36, neuron2=60, neuron3=6, score=0.000, total=   1.5s\n",
            "[CV] neuron1=36, neuron2=60, neuron3=6 ...............................\n",
            "[CV] ... neuron1=36, neuron2=60, neuron3=6, score=0.000, total=   1.6s\n",
            "[CV] neuron1=36, neuron2=60, neuron3=6 ...............................\n",
            "[CV] ... neuron1=36, neuron2=60, neuron3=6, score=0.016, total=   1.5s\n",
            "[CV] neuron1=36, neuron2=60, neuron3=6 ...............................\n",
            "[CV] ... neuron1=36, neuron2=60, neuron3=6, score=0.000, total=   1.5s\n",
            "[CV] neuron1=36, neuron2=60, neuron3=12 ..............................\n",
            "[CV] .. neuron1=36, neuron2=60, neuron3=12, score=0.000, total=   1.5s\n",
            "[CV] neuron1=36, neuron2=60, neuron3=12 ..............................\n",
            "[CV] .. neuron1=36, neuron2=60, neuron3=12, score=0.000, total=   1.5s\n",
            "[CV] neuron1=36, neuron2=60, neuron3=12 ..............................\n",
            "[CV] .. neuron1=36, neuron2=60, neuron3=12, score=0.000, total=   1.5s\n",
            "[CV] neuron1=36, neuron2=60, neuron3=12 ..............................\n",
            "[CV] .. neuron1=36, neuron2=60, neuron3=12, score=0.000, total=   1.5s\n",
            "[CV] neuron1=36, neuron2=60, neuron3=12 ..............................\n",
            "[CV] .. neuron1=36, neuron2=60, neuron3=12, score=0.016, total=   1.5s\n",
            "[CV] neuron1=36, neuron2=60, neuron3=24 ..............................\n",
            "[CV] .. neuron1=36, neuron2=60, neuron3=24, score=0.000, total=   1.9s\n",
            "[CV] neuron1=36, neuron2=60, neuron3=24 ..............................\n",
            "[CV] .. neuron1=36, neuron2=60, neuron3=24, score=0.000, total=   1.2s\n",
            "[CV] neuron1=36, neuron2=60, neuron3=24 ..............................\n",
            "[CV] .. neuron1=36, neuron2=60, neuron3=24, score=0.000, total=   1.5s\n",
            "[CV] neuron1=36, neuron2=60, neuron3=24 ..............................\n",
            "[CV] .. neuron1=36, neuron2=60, neuron3=24, score=0.000, total=   1.5s\n",
            "[CV] neuron1=36, neuron2=60, neuron3=24 ..............................\n",
            "[CV] .. neuron1=36, neuron2=60, neuron3=24, score=0.000, total=   1.5s\n",
            "[CV] neuron1=36, neuron2=60, neuron3=36 ..............................\n",
            "[CV] .. neuron1=36, neuron2=60, neuron3=36, score=0.000, total=   1.5s\n",
            "[CV] neuron1=36, neuron2=60, neuron3=36 ..............................\n",
            "[CV] .. neuron1=36, neuron2=60, neuron3=36, score=0.000, total=   1.5s\n",
            "[CV] neuron1=36, neuron2=60, neuron3=36 ..............................\n",
            "[CV] .. neuron1=36, neuron2=60, neuron3=36, score=0.000, total=   1.5s\n",
            "[CV] neuron1=36, neuron2=60, neuron3=36 ..............................\n",
            "[CV] .. neuron1=36, neuron2=60, neuron3=36, score=0.000, total=   1.5s\n",
            "[CV] neuron1=36, neuron2=60, neuron3=36 ..............................\n",
            "[CV] .. neuron1=36, neuron2=60, neuron3=36, score=0.000, total=   1.5s\n"
          ],
          "name": "stdout"
        },
        {
          "output_type": "stream",
          "text": [
            "[Parallel(n_jobs=1)]: Done 320 out of 320 | elapsed:  8.1min finished\n"
          ],
          "name": "stderr"
        },
        {
          "output_type": "stream",
          "text": [
            "Best: 0.006451612710952759, using {'neuron1': 6, 'neuron2': 24, 'neuron3': 36}\n",
            "0.0 (0.0) with: {'neuron1': 6, 'neuron2': 24, 'neuron3': 6}\n",
            "0.0 (0.0) with: {'neuron1': 6, 'neuron2': 24, 'neuron3': 12}\n",
            "0.0 (0.0) with: {'neuron1': 6, 'neuron2': 24, 'neuron3': 24}\n",
            "0.006451612710952759 (0.007901579579944178) with: {'neuron1': 6, 'neuron2': 24, 'neuron3': 36}\n",
            "0.006451612710952759 (0.007901579579944178) with: {'neuron1': 6, 'neuron2': 36, 'neuron3': 6}\n",
            "0.0032258063554763796 (0.006451612710952759) with: {'neuron1': 6, 'neuron2': 36, 'neuron3': 12}\n",
            "0.0032258063554763796 (0.006451612710952759) with: {'neuron1': 6, 'neuron2': 36, 'neuron3': 24}\n",
            "0.006451612710952759 (0.007901579579944178) with: {'neuron1': 6, 'neuron2': 36, 'neuron3': 36}\n",
            "0.0032258063554763796 (0.006451612710952759) with: {'neuron1': 6, 'neuron2': 48, 'neuron3': 6}\n",
            "0.0032258063554763796 (0.006451612710952759) with: {'neuron1': 6, 'neuron2': 48, 'neuron3': 12}\n",
            "0.0032258063554763796 (0.006451612710952759) with: {'neuron1': 6, 'neuron2': 48, 'neuron3': 24}\n",
            "0.006451612710952759 (0.007901579579944178) with: {'neuron1': 6, 'neuron2': 48, 'neuron3': 36}\n",
            "0.0 (0.0) with: {'neuron1': 6, 'neuron2': 60, 'neuron3': 6}\n",
            "0.006451612710952759 (0.007901579579944178) with: {'neuron1': 6, 'neuron2': 60, 'neuron3': 12}\n",
            "0.0032258063554763796 (0.006451612710952759) with: {'neuron1': 6, 'neuron2': 60, 'neuron3': 24}\n",
            "0.0 (0.0) with: {'neuron1': 6, 'neuron2': 60, 'neuron3': 36}\n",
            "0.0032258063554763796 (0.006451612710952759) with: {'neuron1': 12, 'neuron2': 24, 'neuron3': 6}\n",
            "0.006451612710952759 (0.007901579579944178) with: {'neuron1': 12, 'neuron2': 24, 'neuron3': 12}\n",
            "0.0032258063554763796 (0.006451612710952759) with: {'neuron1': 12, 'neuron2': 24, 'neuron3': 24}\n",
            "0.006451612710952759 (0.007901579579944178) with: {'neuron1': 12, 'neuron2': 24, 'neuron3': 36}\n",
            "0.0 (0.0) with: {'neuron1': 12, 'neuron2': 36, 'neuron3': 6}\n",
            "0.006451612710952759 (0.007901579579944178) with: {'neuron1': 12, 'neuron2': 36, 'neuron3': 12}\n",
            "0.0032258063554763796 (0.006451612710952759) with: {'neuron1': 12, 'neuron2': 36, 'neuron3': 24}\n",
            "0.0 (0.0) with: {'neuron1': 12, 'neuron2': 36, 'neuron3': 36}\n",
            "0.0032258063554763796 (0.006451612710952759) with: {'neuron1': 12, 'neuron2': 48, 'neuron3': 6}\n",
            "0.0032258063554763796 (0.006451612710952759) with: {'neuron1': 12, 'neuron2': 48, 'neuron3': 12}\n",
            "0.0 (0.0) with: {'neuron1': 12, 'neuron2': 48, 'neuron3': 24}\n",
            "0.006451612710952759 (0.007901579579944178) with: {'neuron1': 12, 'neuron2': 48, 'neuron3': 36}\n",
            "0.0032258063554763796 (0.006451612710952759) with: {'neuron1': 12, 'neuron2': 60, 'neuron3': 6}\n",
            "0.0032258063554763796 (0.006451612710952759) with: {'neuron1': 12, 'neuron2': 60, 'neuron3': 12}\n",
            "0.0 (0.0) with: {'neuron1': 12, 'neuron2': 60, 'neuron3': 24}\n",
            "0.0 (0.0) with: {'neuron1': 12, 'neuron2': 60, 'neuron3': 36}\n",
            "0.0 (0.0) with: {'neuron1': 24, 'neuron2': 24, 'neuron3': 6}\n",
            "0.0032258063554763796 (0.006451612710952759) with: {'neuron1': 24, 'neuron2': 24, 'neuron3': 12}\n",
            "0.006451612710952759 (0.007901579579944178) with: {'neuron1': 24, 'neuron2': 24, 'neuron3': 24}\n",
            "0.0032258063554763796 (0.006451612710952759) with: {'neuron1': 24, 'neuron2': 24, 'neuron3': 36}\n",
            "0.0 (0.0) with: {'neuron1': 24, 'neuron2': 36, 'neuron3': 6}\n",
            "0.006451612710952759 (0.007901579579944178) with: {'neuron1': 24, 'neuron2': 36, 'neuron3': 12}\n",
            "0.006451612710952759 (0.007901579579944178) with: {'neuron1': 24, 'neuron2': 36, 'neuron3': 24}\n",
            "0.0032258063554763796 (0.006451612710952759) with: {'neuron1': 24, 'neuron2': 36, 'neuron3': 36}\n",
            "0.0032258063554763796 (0.006451612710952759) with: {'neuron1': 24, 'neuron2': 48, 'neuron3': 6}\n",
            "0.006451612710952759 (0.007901579579944178) with: {'neuron1': 24, 'neuron2': 48, 'neuron3': 12}\n",
            "0.0032258063554763796 (0.006451612710952759) with: {'neuron1': 24, 'neuron2': 48, 'neuron3': 24}\n",
            "0.0 (0.0) with: {'neuron1': 24, 'neuron2': 48, 'neuron3': 36}\n",
            "0.006451612710952759 (0.007901579579944178) with: {'neuron1': 24, 'neuron2': 60, 'neuron3': 6}\n",
            "0.0 (0.0) with: {'neuron1': 24, 'neuron2': 60, 'neuron3': 12}\n",
            "0.0 (0.0) with: {'neuron1': 24, 'neuron2': 60, 'neuron3': 24}\n",
            "0.006451612710952759 (0.007901579579944178) with: {'neuron1': 24, 'neuron2': 60, 'neuron3': 36}\n",
            "0.0 (0.0) with: {'neuron1': 36, 'neuron2': 24, 'neuron3': 6}\n",
            "0.0 (0.0) with: {'neuron1': 36, 'neuron2': 24, 'neuron3': 12}\n",
            "0.0032258063554763796 (0.006451612710952759) with: {'neuron1': 36, 'neuron2': 24, 'neuron3': 24}\n",
            "0.0032258063554763796 (0.006451612710952759) with: {'neuron1': 36, 'neuron2': 24, 'neuron3': 36}\n",
            "0.0032258063554763796 (0.006451612710952759) with: {'neuron1': 36, 'neuron2': 36, 'neuron3': 6}\n",
            "0.0032258063554763796 (0.006451612710952759) with: {'neuron1': 36, 'neuron2': 36, 'neuron3': 12}\n",
            "0.0032258063554763796 (0.006451612710952759) with: {'neuron1': 36, 'neuron2': 36, 'neuron3': 24}\n",
            "0.006451612710952759 (0.007901579579944178) with: {'neuron1': 36, 'neuron2': 36, 'neuron3': 36}\n",
            "0.0032258063554763796 (0.006451612710952759) with: {'neuron1': 36, 'neuron2': 48, 'neuron3': 6}\n",
            "0.0 (0.0) with: {'neuron1': 36, 'neuron2': 48, 'neuron3': 12}\n",
            "0.0 (0.0) with: {'neuron1': 36, 'neuron2': 48, 'neuron3': 24}\n",
            "0.0032258063554763796 (0.006451612710952759) with: {'neuron1': 36, 'neuron2': 48, 'neuron3': 36}\n",
            "0.0032258063554763796 (0.006451612710952759) with: {'neuron1': 36, 'neuron2': 60, 'neuron3': 6}\n",
            "0.0032258063554763796 (0.006451612710952759) with: {'neuron1': 36, 'neuron2': 60, 'neuron3': 12}\n",
            "0.0 (0.0) with: {'neuron1': 36, 'neuron2': 60, 'neuron3': 24}\n",
            "0.0 (0.0) with: {'neuron1': 36, 'neuron2': 60, 'neuron3': 36}\n"
          ],
          "name": "stdout"
        }
      ]
    },
    {
      "cell_type": "code",
      "metadata": {
        "id": "KZL2TZ-pYouk"
      },
      "source": [
        "best_neuron1 = 6\n",
        "best_neuron2 = 24\n",
        "best_neuron3 = 36"
      ],
      "execution_count": 54,
      "outputs": []
    },
    {
      "cell_type": "code",
      "metadata": {
        "id": "62pvTwaXKoJ1"
      },
      "source": [
        "best_epochs=10\n",
        "best_batch_size=16\n",
        "\n",
        "best_dropout_rate = 0.0\n",
        "best_learn_rate = 0.000001\n",
        "\n",
        "best_activation = 'softmax'\n",
        "best_init = 'uniform'\n",
        "\n",
        "best_neuron1 = 6\n",
        "best_neuron2 = 24\n",
        "best_neuron3 = 36\n"
      ],
      "execution_count": 77,
      "outputs": []
    },
    {
      "cell_type": "code",
      "metadata": {
        "id": "of03SypXKtFd"
      },
      "source": [
        "#best model\n",
        "model = Sequential()\n",
        "model.add(Dense(best_neuron1, input_dim = 6, kernel_initializer= best_init, activation= best_activation))\n",
        "model.add(Dense(best_neuron2, input_dim = best_neuron1, kernel_initializer= best_init, activation= best_activation))\n",
        "model.add(Dense(best_neuron3, input_dim = best_neuron2, kernel_initializer= best_init, activation= best_activation))\n",
        "model.add(Dense(1, activation='sigmoid'))"
      ],
      "execution_count": 96,
      "outputs": []
    },
    {
      "cell_type": "code",
      "metadata": {
        "id": "Xm8aIGaoedMe"
      },
      "source": [
        "from sklearn.model_selection import train_test_split"
      ],
      "execution_count": 97,
      "outputs": []
    },
    {
      "cell_type": "code",
      "metadata": {
        "id": "36aFIEuBKuDs",
        "colab": {
          "base_uri": "https://localhost:8080/"
        },
        "outputId": "3ab95ca9-de02-4d7f-ffbd-cd85a1e6dc97"
      },
      "source": [
        "#SEED=6\n",
        "# compile the model\n",
        "adam = Adam(learning_rate =0.0000009 )# best_learn_rate)\n",
        "model.compile(loss = 'binary_crossentropy', optimizer = adam, metrics = ['accuracy'])\n",
        "ckpt_model = 'pima-weights_best_t.hdf5'\n",
        "checkpoint = ModelCheckpoint(ckpt_model, \n",
        "                            monitor='val_accuracy', \n",
        "                            verbose=1,\n",
        "                            save_best_only=True,\n",
        "                            mode='max')\n",
        "callbacks_list = [checkpoint]\n",
        "\n",
        "# In the first step we will split the data in training and remaining dataset\n",
        "X_train, X_rem, y_train, y_rem = train_test_split(X,Y, train_size=0.8)\n",
        "\n",
        "# Now since we want the valid and test size to be equal (10% each of overall data). \n",
        "# we have to define valid_size=0.5 (that is 50% of remaining data)\n",
        "test_size = 0.5\n",
        "X_valid, X_test, y_valid, y_test = train_test_split(X_rem,y_rem, test_size=0.5)\n",
        "\n",
        "print(X_train.shape), print(y_train.shape)\n",
        "print(X_valid.shape), print(y_valid.shape)\n",
        "print(X_test.shape), print(y_test.shape)\n",
        "\n",
        "history = model.fit(X_train,\n",
        "                    y_train,\n",
        "                    validation_data=(X_valid, y_valid),\n",
        "                    epochs=best_epochs,\n",
        "                    batch_size=best_batch_size,\n",
        "                    callbacks=callbacks_list,\n",
        "                    verbose=1\n",
        "                    )"
      ],
      "execution_count": 104,
      "outputs": [
        {
          "output_type": "stream",
          "text": [
            "(249, 6)\n",
            "(249,)\n",
            "(31, 6)\n",
            "(31,)\n",
            "(32, 6)\n",
            "(32,)\n",
            "Epoch 1/10\n",
            "16/16 [==============================] - 1s 24ms/step - loss: 0.0650 - accuracy: 0.0000e+00 - val_loss: 0.0548 - val_accuracy: 0.0000e+00\n",
            "\n",
            "Epoch 00001: val_accuracy improved from -inf to 0.00000, saving model to pima-weights_best_t.hdf5\n",
            "Epoch 2/10\n",
            "16/16 [==============================] - 0s 5ms/step - loss: 0.0517 - accuracy: 0.0000e+00 - val_loss: 0.0478 - val_accuracy: 0.0000e+00\n",
            "\n",
            "Epoch 00002: val_accuracy did not improve from 0.00000\n",
            "Epoch 3/10\n",
            "16/16 [==============================] - 0s 5ms/step - loss: 0.0435 - accuracy: 0.0000e+00 - val_loss: 0.0408 - val_accuracy: 0.0000e+00\n",
            "\n",
            "Epoch 00003: val_accuracy did not improve from 0.00000\n",
            "Epoch 4/10\n",
            "16/16 [==============================] - 0s 5ms/step - loss: 0.0440 - accuracy: 0.0000e+00 - val_loss: 0.0338 - val_accuracy: 0.0000e+00\n",
            "\n",
            "Epoch 00004: val_accuracy did not improve from 0.00000\n",
            "Epoch 5/10\n",
            "16/16 [==============================] - 0s 5ms/step - loss: 0.0424 - accuracy: 0.0000e+00 - val_loss: 0.0268 - val_accuracy: 0.0000e+00\n",
            "\n",
            "Epoch 00005: val_accuracy did not improve from 0.00000\n",
            "Epoch 6/10\n",
            "16/16 [==============================] - 0s 5ms/step - loss: 0.0359 - accuracy: 0.0000e+00 - val_loss: 0.0199 - val_accuracy: 0.0000e+00\n",
            "\n",
            "Epoch 00006: val_accuracy did not improve from 0.00000\n",
            "Epoch 7/10\n",
            "16/16 [==============================] - 0s 5ms/step - loss: 0.0278 - accuracy: 0.0000e+00 - val_loss: 0.0128 - val_accuracy: 0.0000e+00\n",
            "\n",
            "Epoch 00007: val_accuracy did not improve from 0.00000\n",
            "Epoch 8/10\n",
            "16/16 [==============================] - 0s 5ms/step - loss: 0.0220 - accuracy: 0.0000e+00 - val_loss: 0.0059 - val_accuracy: 0.0000e+00\n",
            "\n",
            "Epoch 00008: val_accuracy did not improve from 0.00000\n",
            "Epoch 9/10\n",
            "16/16 [==============================] - 0s 5ms/step - loss: 0.0196 - accuracy: 0.0000e+00 - val_loss: -0.0011 - val_accuracy: 0.0000e+00\n",
            "\n",
            "Epoch 00009: val_accuracy did not improve from 0.00000\n",
            "Epoch 10/10\n",
            "16/16 [==============================] - 0s 5ms/step - loss: 0.0077 - accuracy: 0.0000e+00 - val_loss: -0.0082 - val_accuracy: 0.0000e+00\n",
            "\n",
            "Epoch 00010: val_accuracy did not improve from 0.00000\n"
          ],
          "name": "stdout"
        }
      ]
    },
    {
      "cell_type": "code",
      "metadata": {
        "colab": {
          "base_uri": "https://localhost:8080/",
          "height": 130
        },
        "id": "0kUZZFevAPlx",
        "outputId": "4a8930cd-bf45-4de0-87fe-da149c54f14a"
      },
      "source": [
        ")model.evaluate(X_test,y_test)"
      ],
      "execution_count": 105,
      "outputs": [
        {
          "output_type": "error",
          "ename": "SyntaxError",
          "evalue": "ignored",
          "traceback": [
            "\u001b[0;36m  File \u001b[0;32m\"<ipython-input-105-31d495c8585c>\"\u001b[0;36m, line \u001b[0;32m1\u001b[0m\n\u001b[0;31m    )model.evaluate(X_test,y_test)\u001b[0m\n\u001b[0m    ^\u001b[0m\n\u001b[0;31mSyntaxError\u001b[0m\u001b[0;31m:\u001b[0m invalid syntax\n"
          ]
        }
      ]
    },
    {
      "cell_type": "code",
      "metadata": {
        "id": "42CiYJFEK1Ku",
        "colab": {
          "base_uri": "https://localhost:8080/"
        },
        "outputId": "dbc3c1c5-87eb-4b5a-c446-9a456bba3c73"
      },
      "source": [
        "model.summary()"
      ],
      "execution_count": 106,
      "outputs": [
        {
          "output_type": "stream",
          "text": [
            "Model: \"sequential_16\"\n",
            "_________________________________________________________________\n",
            "Layer (type)                 Output Shape              Param #   \n",
            "=================================================================\n",
            "dense_64 (Dense)             (None, 6)                 42        \n",
            "_________________________________________________________________\n",
            "dense_65 (Dense)             (None, 24)                168       \n",
            "_________________________________________________________________\n",
            "dense_66 (Dense)             (None, 36)                900       \n",
            "_________________________________________________________________\n",
            "dense_67 (Dense)             (None, 1)                 37        \n",
            "=================================================================\n",
            "Total params: 1,147\n",
            "Trainable params: 1,147\n",
            "Non-trainable params: 0\n",
            "_________________________________________________________________\n"
          ],
          "name": "stdout"
        }
      ]
    },
    {
      "cell_type": "code",
      "metadata": {
        "id": "zvJvu4fhK4Y5"
      },
      "source": [
        "model.save_weights(\"/content/drive/MyDrive/weights_diabetes7.h5\")"
      ],
      "execution_count": 108,
      "outputs": []
    },
    {
      "cell_type": "code",
      "metadata": {
        "id": "XXkuQr5dg5Nc"
      },
      "source": [
        ""
      ],
      "execution_count": null,
      "outputs": []
    }
  ]
}