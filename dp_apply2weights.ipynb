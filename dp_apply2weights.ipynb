{
  "nbformat": 4,
  "nbformat_minor": 0,
  "metadata": {
    "colab": {
      "name": "dp_apply2weights.ipynb",
      "provenance": [],
      "mount_file_id": "1EgS_RLR50IhNwQckldDu57KyUuSiaxeU",
      "authorship_tag": "ABX9TyMbmRFT/Zw+56ZX+ephMzR6",
      "include_colab_link": true
    },
    "kernelspec": {
      "name": "python3",
      "display_name": "Python 3"
    },
    "language_info": {
      "name": "python"
    }
  },
  "cells": [
    {
      "cell_type": "markdown",
      "metadata": {
        "id": "view-in-github",
        "colab_type": "text"
      },
      "source": [
        "<a href=\"https://colab.research.google.com/github/Rishabhc711/Federated_in_Healthcare/blob/main/dp_apply2weights.ipynb\" target=\"_parent\"><img src=\"https://colab.research.google.com/assets/colab-badge.svg\" alt=\"Open In Colab\"/></a>"
      ]
    },
    {
      "cell_type": "code",
      "metadata": {
        "id": "lferde8XmOev"
      },
      "source": [
        "#model=load_model(\"/content/drive/MyDrive/Local Models for Diabetes/local_model1_99acc.pkl\")"
      ],
      "execution_count": 12,
      "outputs": []
    },
    {
      "cell_type": "code",
      "metadata": {
        "id": "gUpXXcimuEb7"
      },
      "source": [
        "import pandas\n",
        "from sklearn import model_selection\n",
        "from sklearn.linear_model import LogisticRegression\n",
        "import pickle\n",
        "import tensorflow as tf"
      ],
      "execution_count": 26,
      "outputs": []
    },
    {
      "cell_type": "code",
      "metadata": {
        "id": "kpGbknxmpUtc",
        "colab": {
          "base_uri": "https://localhost:8080/",
          "height": 35
        },
        "outputId": "0fab1de3-f406-4f66-b1c6-3b8c075bc8da"
      },
      "source": [
        "'''\n",
        "filename = 'finalized_model.sav'\n",
        "pickle.dump(model, open(filename, 'wb'))\n",
        "'''"
      ],
      "execution_count": 14,
      "outputs": [
        {
          "output_type": "execute_result",
          "data": {
            "application/vnd.google.colaboratory.intrinsic+json": {
              "type": "string"
            },
            "text/plain": [
              "\"\\nfilename = 'finalized_model.sav'\\npickle.dump(model, open(filename, 'wb'))\\n\""
            ]
          },
          "metadata": {
            "tags": []
          },
          "execution_count": 14
        }
      ]
    },
    {
      "cell_type": "code",
      "metadata": {
        "colab": {
          "base_uri": "https://localhost:8080/"
        },
        "id": "rM0BvtnJAl7y",
        "outputId": "1352c39e-cce5-4a01-ccca-7a8af53edf41"
      },
      "source": [
        "# my_model directory\n",
        "!ls /content/drive/MyDrive/saved_model\n",
        "\n",
        "# Contains an assets folder, saved_model.pb, and variables folder.\n"
      ],
      "execution_count": 24,
      "outputs": [
        {
          "output_type": "stream",
          "text": [
            "my_model1  my_model1.hdf5\n",
            "ls: cannot access 'saved_model/my_model1': No such file or directory\n"
          ],
          "name": "stdout"
        }
      ]
    },
    {
      "cell_type": "code",
      "metadata": {
        "colab": {
          "base_uri": "https://localhost:8080/"
        },
        "id": "oTLp4W_7Hctn",
        "outputId": "72875dcd-756e-415f-aa53-4844cb7cae57"
      },
      "source": [
        "# Create a new model instance\n",
        "new_model = tf.keras.models.load_model('/content/drive/MyDrive/saved_model/my_model1')\n",
        "\n",
        "# Check its architecture\n",
        "new_model.summary()"
      ],
      "execution_count": 27,
      "outputs": [
        {
          "output_type": "stream",
          "text": [
            "Model: \"sequential_61\"\n",
            "_________________________________________________________________\n",
            "Layer (type)                 Output Shape              Param #   \n",
            "=================================================================\n",
            "dense_244 (Dense)            (None, 16)                144       \n",
            "_________________________________________________________________\n",
            "dense_245 (Dense)            (None, 16)                272       \n",
            "_________________________________________________________________\n",
            "dense_246 (Dense)            (None, 8)                 136       \n",
            "_________________________________________________________________\n",
            "dense_247 (Dense)            (None, 1)                 9         \n",
            "=================================================================\n",
            "Total params: 561\n",
            "Trainable params: 561\n",
            "Non-trainable params: 0\n",
            "_________________________________________________________________\n"
          ],
          "name": "stdout"
        }
      ]
    },
    {
      "cell_type": "code",
      "metadata": {
        "id": "I19yQRbA-aPq"
      },
      "source": [
        "# Restore the weights\n",
        "new_model.load_weights(\"/content/drive/MyDrive/saved_model/my_model1.hdf5\")"
      ],
      "execution_count": 32,
      "outputs": []
    },
    {
      "cell_type": "code",
      "metadata": {
        "id": "9ksjzx_VuWZ8"
      },
      "source": [
        "w1, b1 = new_model.layers[0].get_weights()"
      ],
      "execution_count": 39,
      "outputs": []
    },
    {
      "cell_type": "code",
      "metadata": {
        "id": "HAnedjcBLICw"
      },
      "source": [
        "layers=new_model.layers"
      ],
      "execution_count": 46,
      "outputs": []
    },
    {
      "cell_type": "code",
      "metadata": {
        "colab": {
          "base_uri": "https://localhost:8080/"
        },
        "id": "zZsfu0GyLPwn",
        "outputId": "46792efc-d174-4ee8-fea3-b75dfadd2e07"
      },
      "source": [
        "layers"
      ],
      "execution_count": 47,
      "outputs": [
        {
          "output_type": "execute_result",
          "data": {
            "text/plain": [
              "[<tensorflow.python.keras.layers.core.Dense at 0x7f1a7a14aed0>,\n",
              " <tensorflow.python.keras.layers.core.Dense at 0x7f1a7a14af50>,\n",
              " <tensorflow.python.keras.layers.core.Dense at 0x7f1a7a14a610>,\n",
              " <tensorflow.python.keras.layers.core.Dense at 0x7f1a456c3d90>]"
            ]
          },
          "metadata": {
            "tags": []
          },
          "execution_count": 47
        }
      ]
    },
    {
      "cell_type": "code",
      "metadata": {
        "colab": {
          "base_uri": "https://localhost:8080/"
        },
        "id": "rIrn21nC-Iyg",
        "outputId": "3e5903dc-efcd-4f2e-b7f3-de8c97a75090"
      },
      "source": [
        "w1"
      ],
      "execution_count": 42,
      "outputs": [
        {
          "output_type": "execute_result",
          "data": {
            "text/plain": [
              "array([[-1.18622378e-01,  1.92805275e-01, -9.77490395e-02,\n",
              "         2.33642813e-02, -2.27479547e-01,  1.96631014e-01,\n",
              "        -8.53141770e-02, -8.47648755e-02, -2.55376816e-01,\n",
              "         1.28324497e-02, -2.66154170e-01, -1.06399924e-01,\n",
              "        -1.20187797e-01,  2.97964383e-02, -9.42128375e-02,\n",
              "         5.43564931e-02],\n",
              "       [-1.26180768e-01,  5.10245711e-02, -3.83289382e-02,\n",
              "         7.47900754e-02, -6.10890985e-02,  1.52695537e-01,\n",
              "        -1.74784943e-01, -4.58877049e-02, -4.61018607e-02,\n",
              "        -2.73794886e-02, -6.01624660e-02, -7.17600882e-02,\n",
              "        -5.82665019e-02, -1.21787019e-01, -1.02759905e-01,\n",
              "        -1.26096485e-02],\n",
              "       [-1.02181152e-01, -1.17835842e-01, -5.41448258e-02,\n",
              "        -2.98739132e-02,  1.08350767e-02, -1.51277184e-01,\n",
              "        -6.43855333e-02, -1.19152285e-01,  1.85014144e-01,\n",
              "        -1.51833696e-02,  2.32194930e-01, -5.02390862e-02,\n",
              "        -6.68861866e-02, -6.06535971e-02, -9.23376828e-02,\n",
              "        -3.66689563e-02],\n",
              "       [-1.56644806e-01, -6.43306822e-02, -3.64060700e-02,\n",
              "         2.19838712e-02, -2.03242153e-02,  2.05119252e-02,\n",
              "        -3.90513763e-02, -4.04778533e-02,  4.91892099e-02,\n",
              "        -4.41608801e-02, -3.64594646e-02, -7.98448101e-02,\n",
              "        -9.83481035e-02, -8.81810859e-02, -5.69242872e-02,\n",
              "         1.79219589e-01],\n",
              "       [ 1.21677332e-02,  5.39973341e-02, -5.97081743e-02,\n",
              "        -1.34588569e-01,  9.07337308e-05,  1.25855021e-02,\n",
              "        -1.34445075e-02, -3.92748006e-02, -1.15727810e-02,\n",
              "        -9.38280076e-02, -3.32382787e-03, -2.78164279e-02,\n",
              "        -1.11325823e-01,  1.16430949e-02,  8.34691972e-02,\n",
              "        -1.17733642e-01],\n",
              "       [ 1.36755686e-02, -8.88775289e-02, -2.69365739e-02,\n",
              "         1.29929148e-02,  4.72459346e-02,  3.36264297e-02,\n",
              "        -2.71235835e-02, -1.26178592e-01, -1.30625308e-01,\n",
              "        -7.12918043e-02, -1.94276981e-02, -1.01329796e-01,\n",
              "        -1.37766361e-01, -8.16928670e-02, -7.93629065e-02,\n",
              "         7.26920739e-02],\n",
              "       [-8.13479722e-02,  1.51317921e-02, -1.21458128e-01,\n",
              "         8.88878033e-02, -4.68407795e-02,  1.75541848e-01,\n",
              "        -6.04151078e-02, -1.01881742e-01, -1.84849083e-01,\n",
              "         3.33158821e-02, -1.31391868e-01, -5.91075830e-02,\n",
              "        -9.93141383e-02, -4.34886888e-02, -1.41478002e-01,\n",
              "         8.72445628e-02],\n",
              "       [-4.55943495e-02,  8.91761929e-02, -8.57664868e-02,\n",
              "        -3.08398381e-02, -2.68682521e-02,  3.23131382e-02,\n",
              "        -1.22231781e-01, -1.52175009e-01,  9.87229310e-03,\n",
              "        -7.05281124e-02, -1.64014604e-02,  1.41109284e-02,\n",
              "        -6.37716278e-02,  9.90052987e-03, -1.32845402e-01,\n",
              "         5.19062318e-02]], dtype=float32)"
            ]
          },
          "metadata": {
            "tags": []
          },
          "execution_count": 42
        }
      ]
    },
    {
      "cell_type": "code",
      "metadata": {
        "colab": {
          "base_uri": "https://localhost:8080/"
        },
        "id": "UlAFxeSFKM--",
        "outputId": "4a9e4139-0bea-460b-8af8-06df5097519d"
      },
      "source": [
        "b1"
      ],
      "execution_count": 44,
      "outputs": [
        {
          "output_type": "execute_result",
          "data": {
            "text/plain": [
              "array([-0.04812749, -0.18536112, -0.09018979, -0.16157372,  0.0027575 ,\n",
              "       -0.3068071 , -0.09403688, -0.04105537,  0.30271703, -0.06237201,\n",
              "        0.35565013, -0.09169811, -0.11006277, -0.04239722, -0.1341097 ,\n",
              "        0.0043531 ], dtype=float32)"
            ]
          },
          "metadata": {
            "tags": []
          },
          "execution_count": 44
        }
      ]
    },
    {
      "cell_type": "code",
      "metadata": {
        "id": "I-HYbX0sLA-s"
      },
      "source": [
        "w=[]\n",
        "b=[]\n",
        "for i in range(len(layers)):\n",
        "  "
      ],
      "execution_count": null,
      "outputs": []
    }
  ]
}